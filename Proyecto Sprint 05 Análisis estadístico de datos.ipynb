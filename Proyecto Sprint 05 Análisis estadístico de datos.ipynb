{
 "cells": [
  {
   "cell_type": "markdown",
   "metadata": {
    "id": "3rYiDeEH0q0f"
   },
   "source": [
    "# ¿Cuál es la mejor tarifa?\n",
    "\n",
    "Trabajas como analista para el operador de telecomunicaciones Megaline. La empresa ofrece a sus clientes dos tarifas de prepago, Surf y Ultimate. El departamento comercial quiere saber cuál de las tarifas genera más ingresos para poder ajustar el presupuesto de publicidad.\n",
    "\n",
    "Vas a realizar un análisis preliminar de las tarifas basado en una selección de clientes relativamente pequeña. Tendrás los datos de 500 clientes de Megaline: quiénes son los clientes, de dónde son, qué tarifa usan, así como la cantidad de llamadas que hicieron y los mensajes de texto que enviaron en 2018. Tu trabajo es analizar el comportamiento de los clientes y determinar qué tarifa de prepago genera más ingresos."
   ]
  },
  {
   "cell_type": "markdown",
   "metadata": {
    "id": "VNddPNRQ0q0w"
   },
   "source": [
    "[Te proporcionamos algunos comentarios para orientarte mientras completas este proyecto. Pero debes asegurarte de eliminar todos los comentarios entre corchetes antes de entregar tu proyecto.]\n",
    "\n",
    "[Antes de sumergirte en el análisis de datos, explica por tu propia cuenta el propósito del proyecto y las acciones que planeas realizar.]\n",
    "\n",
    "[Ten en cuenta que estudiar, modificar y analizar datos es un proceso iterativo. Es normal volver a los pasos anteriores y corregirlos/ampliarlos para permitir nuevos pasos.]"
   ]
  },
  {
   "cell_type": "markdown",
   "metadata": {
    "id": "MQi4IPy70q0y"
   },
   "source": [
    "## Inicialización"
   ]
  },
  {
   "cell_type": "code",
   "execution_count": 1,
   "metadata": {
    "id": "MtYIuBxu0q0z"
   },
   "outputs": [],
   "source": [
    "# Cargar todas las librerías\n",
    "from scipy import stats as st\n",
    "import numpy as np\n",
    "import pandas as pd\n",
    "import math as mt\n",
    "import matplotlib.pyplot as plt\n",
    "import seaborn as sns\n",
    "from scipy.stats import levene"
   ]
  },
  {
   "cell_type": "markdown",
   "metadata": {
    "id": "4ysWWC5i0q00"
   },
   "source": [
    "## Cargar datos"
   ]
  },
  {
   "cell_type": "code",
   "execution_count": 2,
   "metadata": {
    "id": "CCqPW7rS0q01"
   },
   "outputs": [],
   "source": [
    "# Carga los archivos de datos en diferentes DataFrames\n",
    "df_calls = pd.read_csv('/datasets/megaline_calls.csv')\n",
    "df_internet = pd.read_csv('/datasets/megaline_internet.csv')\n",
    "df_messages = pd.read_csv('/datasets/megaline_messages.csv')\n",
    "df_plans = pd.read_csv('/datasets/megaline_plans.csv')\n",
    "df_users = pd.read_csv('/datasets/megaline_users.csv')"
   ]
  },
  {
   "cell_type": "markdown",
   "metadata": {
    "id": "69qqoJ3r0q01"
   },
   "source": [
    "## Preparar los datos"
   ]
  },
  {
   "cell_type": "markdown",
   "metadata": {
    "id": "vUuZw80S0q01"
   },
   "source": [
    "[Los datos para este proyecto se dividen en varias tablas. Explora cada una para tener una comprensión inicial de los datos. Si es necesario, haz las correcciones requeridas en cada tabla.]"
   ]
  },
  {
   "cell_type": "markdown",
   "metadata": {
    "id": "ohBhimvH0q01"
   },
   "source": [
    "## Tarifas"
   ]
  },
  {
   "cell_type": "code",
   "execution_count": 3,
   "metadata": {
    "id": "GptqP3Q40q02"
   },
   "outputs": [
    {
     "name": "stdout",
     "output_type": "stream",
     "text": [
      "<class 'pandas.core.frame.DataFrame'>\n",
      "RangeIndex: 2 entries, 0 to 1\n",
      "Data columns (total 8 columns):\n",
      " #   Column                 Non-Null Count  Dtype  \n",
      "---  ------                 --------------  -----  \n",
      " 0   messages_included      2 non-null      int64  \n",
      " 1   mb_per_month_included  2 non-null      int64  \n",
      " 2   minutes_included       2 non-null      int64  \n",
      " 3   usd_monthly_pay        2 non-null      int64  \n",
      " 4   usd_per_gb             2 non-null      int64  \n",
      " 5   usd_per_message        2 non-null      float64\n",
      " 6   usd_per_minute         2 non-null      float64\n",
      " 7   plan_name              2 non-null      object \n",
      "dtypes: float64(2), int64(5), object(1)\n",
      "memory usage: 256.0+ bytes\n"
     ]
    }
   ],
   "source": [
    "# Imprime la información general/resumida sobre el DataFrame de las tarifas\n",
    "\n",
    "df_plans.info()"
   ]
  },
  {
   "cell_type": "code",
   "execution_count": 4,
   "metadata": {
    "id": "64xzjwL70q02"
   },
   "outputs": [
    {
     "data": {
      "text/html": [
       "<div>\n",
       "<style scoped>\n",
       "    .dataframe tbody tr th:only-of-type {\n",
       "        vertical-align: middle;\n",
       "    }\n",
       "\n",
       "    .dataframe tbody tr th {\n",
       "        vertical-align: top;\n",
       "    }\n",
       "\n",
       "    .dataframe thead th {\n",
       "        text-align: right;\n",
       "    }\n",
       "</style>\n",
       "<table border=\"1\" class=\"dataframe\">\n",
       "  <thead>\n",
       "    <tr style=\"text-align: right;\">\n",
       "      <th></th>\n",
       "      <th>messages_included</th>\n",
       "      <th>mb_per_month_included</th>\n",
       "      <th>minutes_included</th>\n",
       "      <th>usd_monthly_pay</th>\n",
       "      <th>usd_per_gb</th>\n",
       "      <th>usd_per_message</th>\n",
       "      <th>usd_per_minute</th>\n",
       "      <th>plan_name</th>\n",
       "    </tr>\n",
       "  </thead>\n",
       "  <tbody>\n",
       "    <tr>\n",
       "      <th>0</th>\n",
       "      <td>50</td>\n",
       "      <td>15360</td>\n",
       "      <td>500</td>\n",
       "      <td>20</td>\n",
       "      <td>10</td>\n",
       "      <td>0.03</td>\n",
       "      <td>0.03</td>\n",
       "      <td>surf</td>\n",
       "    </tr>\n",
       "    <tr>\n",
       "      <th>1</th>\n",
       "      <td>1000</td>\n",
       "      <td>30720</td>\n",
       "      <td>3000</td>\n",
       "      <td>70</td>\n",
       "      <td>7</td>\n",
       "      <td>0.01</td>\n",
       "      <td>0.01</td>\n",
       "      <td>ultimate</td>\n",
       "    </tr>\n",
       "  </tbody>\n",
       "</table>\n",
       "</div>"
      ],
      "text/plain": [
       "   messages_included  mb_per_month_included  minutes_included  \\\n",
       "0                 50                  15360               500   \n",
       "1               1000                  30720              3000   \n",
       "\n",
       "   usd_monthly_pay  usd_per_gb  usd_per_message  usd_per_minute plan_name  \n",
       "0               20          10             0.03            0.03      surf  \n",
       "1               70           7             0.01            0.01  ultimate  "
      ]
     },
     "execution_count": 4,
     "metadata": {},
     "output_type": "execute_result"
    }
   ],
   "source": [
    "# Imprime una muestra de los datos para las tarifas\n",
    "\n",
    "df_plans"
   ]
  },
  {
   "cell_type": "markdown",
   "metadata": {
    "id": "R3C05i1l0q03"
   },
   "source": [
    "## Corregir datos"
   ]
  },
  {
   "cell_type": "markdown",
   "metadata": {
    "id": "Y7SVmjGn0q03"
   },
   "source": [
    "- Se puede observar que el tipo de dato que corresponde a cada columna es el esperado; esto es, la cantidad de mensajes de texto, la cantidad de datos y los minutos de cada plan son tipo int, los precios de los planes, los mensajes de texto, los minutos y los GB son valores numéricos y el nombre de cada plan corresponde a datos tipo object.\n",
    "\n",
    "- Se modificará el nombre de la columna 'plan_name' a 'plan'.\n",
    "\n",
    "- Se convertitrán las unidades de MB a GB, así como también se cambiará el nombre de esta columna a gb_per_month_included ya que el costo de éste servicio se calcula por la cantidad total de GB del mes.\n",
    "\n",
    "- Debido a lo pequeño que es el dataframe, no es necesario realizar conteo de filas duplicadas ni de valores ausentes que por simple inspección visual se puede observar esto."
   ]
  },
  {
   "cell_type": "code",
   "execution_count": 5,
   "metadata": {},
   "outputs": [
    {
     "data": {
      "text/html": [
       "<div>\n",
       "<style scoped>\n",
       "    .dataframe tbody tr th:only-of-type {\n",
       "        vertical-align: middle;\n",
       "    }\n",
       "\n",
       "    .dataframe tbody tr th {\n",
       "        vertical-align: top;\n",
       "    }\n",
       "\n",
       "    .dataframe thead th {\n",
       "        text-align: right;\n",
       "    }\n",
       "</style>\n",
       "<table border=\"1\" class=\"dataframe\">\n",
       "  <thead>\n",
       "    <tr style=\"text-align: right;\">\n",
       "      <th></th>\n",
       "      <th>messages_included</th>\n",
       "      <th>mb_per_month_included</th>\n",
       "      <th>minutes_included</th>\n",
       "      <th>usd_monthly_pay</th>\n",
       "      <th>usd_per_gb</th>\n",
       "      <th>usd_per_message</th>\n",
       "      <th>usd_per_minute</th>\n",
       "      <th>plan</th>\n",
       "    </tr>\n",
       "  </thead>\n",
       "  <tbody>\n",
       "    <tr>\n",
       "      <th>0</th>\n",
       "      <td>50</td>\n",
       "      <td>15360</td>\n",
       "      <td>500</td>\n",
       "      <td>20</td>\n",
       "      <td>10</td>\n",
       "      <td>0.03</td>\n",
       "      <td>0.03</td>\n",
       "      <td>surf</td>\n",
       "    </tr>\n",
       "    <tr>\n",
       "      <th>1</th>\n",
       "      <td>1000</td>\n",
       "      <td>30720</td>\n",
       "      <td>3000</td>\n",
       "      <td>70</td>\n",
       "      <td>7</td>\n",
       "      <td>0.01</td>\n",
       "      <td>0.01</td>\n",
       "      <td>ultimate</td>\n",
       "    </tr>\n",
       "  </tbody>\n",
       "</table>\n",
       "</div>"
      ],
      "text/plain": [
       "   messages_included  mb_per_month_included  minutes_included  \\\n",
       "0                 50                  15360               500   \n",
       "1               1000                  30720              3000   \n",
       "\n",
       "   usd_monthly_pay  usd_per_gb  usd_per_message  usd_per_minute      plan  \n",
       "0               20          10             0.03            0.03      surf  \n",
       "1               70           7             0.01            0.01  ultimate  "
      ]
     },
     "execution_count": 5,
     "metadata": {},
     "output_type": "execute_result"
    }
   ],
   "source": [
    "df_plans.rename(columns = {'plan_name': 'plan'}, inplace = True)\n",
    "df_plans\n"
   ]
  },
  {
   "cell_type": "markdown",
   "metadata": {
    "id": "LJir7bml0q03"
   },
   "source": [
    "## Enriquecer los datos"
   ]
  },
  {
   "cell_type": "code",
   "execution_count": 6,
   "metadata": {
    "id": "gfcIEuXV0q04"
   },
   "outputs": [
    {
     "data": {
      "text/html": [
       "<div>\n",
       "<style scoped>\n",
       "    .dataframe tbody tr th:only-of-type {\n",
       "        vertical-align: middle;\n",
       "    }\n",
       "\n",
       "    .dataframe tbody tr th {\n",
       "        vertical-align: top;\n",
       "    }\n",
       "\n",
       "    .dataframe thead th {\n",
       "        text-align: right;\n",
       "    }\n",
       "</style>\n",
       "<table border=\"1\" class=\"dataframe\">\n",
       "  <thead>\n",
       "    <tr style=\"text-align: right;\">\n",
       "      <th></th>\n",
       "      <th>messages_included</th>\n",
       "      <th>gb_per_month_included</th>\n",
       "      <th>minutes_included</th>\n",
       "      <th>usd_monthly_pay</th>\n",
       "      <th>usd_per_gb</th>\n",
       "      <th>usd_per_message</th>\n",
       "      <th>usd_per_minute</th>\n",
       "      <th>plan</th>\n",
       "    </tr>\n",
       "  </thead>\n",
       "  <tbody>\n",
       "    <tr>\n",
       "      <th>0</th>\n",
       "      <td>50</td>\n",
       "      <td>15</td>\n",
       "      <td>500</td>\n",
       "      <td>20</td>\n",
       "      <td>10</td>\n",
       "      <td>0.03</td>\n",
       "      <td>0.03</td>\n",
       "      <td>surf</td>\n",
       "    </tr>\n",
       "    <tr>\n",
       "      <th>1</th>\n",
       "      <td>1000</td>\n",
       "      <td>30</td>\n",
       "      <td>3000</td>\n",
       "      <td>70</td>\n",
       "      <td>7</td>\n",
       "      <td>0.01</td>\n",
       "      <td>0.01</td>\n",
       "      <td>ultimate</td>\n",
       "    </tr>\n",
       "  </tbody>\n",
       "</table>\n",
       "</div>"
      ],
      "text/plain": [
       "   messages_included  gb_per_month_included  minutes_included  \\\n",
       "0                 50                     15               500   \n",
       "1               1000                     30              3000   \n",
       "\n",
       "   usd_monthly_pay  usd_per_gb  usd_per_message  usd_per_minute      plan  \n",
       "0               20          10             0.03            0.03      surf  \n",
       "1               70           7             0.01            0.01  ultimate  "
      ]
     },
     "execution_count": 6,
     "metadata": {},
     "output_type": "execute_result"
    }
   ],
   "source": [
    "# Se convierten las unidades de MB a GB:\n",
    "df_plans['mb_per_month_included'] = df_plans['mb_per_month_included'] / 1024\n",
    "\n",
    "# Se cambia el tipo de valor de la columna a int:\n",
    "df_plans['mb_per_month_included'] = df_plans['mb_per_month_included'].astype(int)\n",
    "\n",
    "# Se cambia el nombre de la columna de 'mb_per_month_included' a 'gb_per_month_included'\n",
    "df_plans.rename(columns = {'mb_per_month_included': 'gb_per_month_included'}, inplace = True)\n",
    "df_plans"
   ]
  },
  {
   "cell_type": "markdown",
   "metadata": {
    "id": "1n2X6WXf0q04"
   },
   "source": [
    "## Usuarios/as"
   ]
  },
  {
   "cell_type": "code",
   "execution_count": 7,
   "metadata": {
    "id": "2NgjWFqx0q05"
   },
   "outputs": [
    {
     "name": "stdout",
     "output_type": "stream",
     "text": [
      "<class 'pandas.core.frame.DataFrame'>\n",
      "RangeIndex: 500 entries, 0 to 499\n",
      "Data columns (total 8 columns):\n",
      " #   Column      Non-Null Count  Dtype \n",
      "---  ------      --------------  ----- \n",
      " 0   user_id     500 non-null    int64 \n",
      " 1   first_name  500 non-null    object\n",
      " 2   last_name   500 non-null    object\n",
      " 3   age         500 non-null    int64 \n",
      " 4   city        500 non-null    object\n",
      " 5   reg_date    500 non-null    object\n",
      " 6   plan        500 non-null    object\n",
      " 7   churn_date  34 non-null     object\n",
      "dtypes: int64(2), object(6)\n",
      "memory usage: 31.4+ KB\n"
     ]
    }
   ],
   "source": [
    "# Imprime la información general/resumida sobre el DataFrame de usuarios\n",
    "\n",
    "df_users.info()"
   ]
  },
  {
   "cell_type": "code",
   "execution_count": 8,
   "metadata": {
    "id": "1IN1L9uh0q05"
   },
   "outputs": [
    {
     "data": {
      "text/html": [
       "<div>\n",
       "<style scoped>\n",
       "    .dataframe tbody tr th:only-of-type {\n",
       "        vertical-align: middle;\n",
       "    }\n",
       "\n",
       "    .dataframe tbody tr th {\n",
       "        vertical-align: top;\n",
       "    }\n",
       "\n",
       "    .dataframe thead th {\n",
       "        text-align: right;\n",
       "    }\n",
       "</style>\n",
       "<table border=\"1\" class=\"dataframe\">\n",
       "  <thead>\n",
       "    <tr style=\"text-align: right;\">\n",
       "      <th></th>\n",
       "      <th>user_id</th>\n",
       "      <th>first_name</th>\n",
       "      <th>last_name</th>\n",
       "      <th>age</th>\n",
       "      <th>city</th>\n",
       "      <th>reg_date</th>\n",
       "      <th>plan</th>\n",
       "      <th>churn_date</th>\n",
       "    </tr>\n",
       "  </thead>\n",
       "  <tbody>\n",
       "    <tr>\n",
       "      <th>0</th>\n",
       "      <td>1000</td>\n",
       "      <td>Anamaria</td>\n",
       "      <td>Bauer</td>\n",
       "      <td>45</td>\n",
       "      <td>Atlanta-Sandy Springs-Roswell, GA MSA</td>\n",
       "      <td>2018-12-24</td>\n",
       "      <td>ultimate</td>\n",
       "      <td>NaN</td>\n",
       "    </tr>\n",
       "    <tr>\n",
       "      <th>1</th>\n",
       "      <td>1001</td>\n",
       "      <td>Mickey</td>\n",
       "      <td>Wilkerson</td>\n",
       "      <td>28</td>\n",
       "      <td>Seattle-Tacoma-Bellevue, WA MSA</td>\n",
       "      <td>2018-08-13</td>\n",
       "      <td>surf</td>\n",
       "      <td>NaN</td>\n",
       "    </tr>\n",
       "    <tr>\n",
       "      <th>2</th>\n",
       "      <td>1002</td>\n",
       "      <td>Carlee</td>\n",
       "      <td>Hoffman</td>\n",
       "      <td>36</td>\n",
       "      <td>Las Vegas-Henderson-Paradise, NV MSA</td>\n",
       "      <td>2018-10-21</td>\n",
       "      <td>surf</td>\n",
       "      <td>NaN</td>\n",
       "    </tr>\n",
       "    <tr>\n",
       "      <th>3</th>\n",
       "      <td>1003</td>\n",
       "      <td>Reynaldo</td>\n",
       "      <td>Jenkins</td>\n",
       "      <td>52</td>\n",
       "      <td>Tulsa, OK MSA</td>\n",
       "      <td>2018-01-28</td>\n",
       "      <td>surf</td>\n",
       "      <td>NaN</td>\n",
       "    </tr>\n",
       "    <tr>\n",
       "      <th>4</th>\n",
       "      <td>1004</td>\n",
       "      <td>Leonila</td>\n",
       "      <td>Thompson</td>\n",
       "      <td>40</td>\n",
       "      <td>Seattle-Tacoma-Bellevue, WA MSA</td>\n",
       "      <td>2018-05-23</td>\n",
       "      <td>surf</td>\n",
       "      <td>NaN</td>\n",
       "    </tr>\n",
       "    <tr>\n",
       "      <th>5</th>\n",
       "      <td>1005</td>\n",
       "      <td>Livia</td>\n",
       "      <td>Shields</td>\n",
       "      <td>31</td>\n",
       "      <td>Dallas-Fort Worth-Arlington, TX MSA</td>\n",
       "      <td>2018-11-29</td>\n",
       "      <td>surf</td>\n",
       "      <td>NaN</td>\n",
       "    </tr>\n",
       "    <tr>\n",
       "      <th>6</th>\n",
       "      <td>1006</td>\n",
       "      <td>Jesusa</td>\n",
       "      <td>Bradford</td>\n",
       "      <td>73</td>\n",
       "      <td>San Francisco-Oakland-Berkeley, CA MSA</td>\n",
       "      <td>2018-11-27</td>\n",
       "      <td>ultimate</td>\n",
       "      <td>2018-12-18</td>\n",
       "    </tr>\n",
       "    <tr>\n",
       "      <th>7</th>\n",
       "      <td>1007</td>\n",
       "      <td>Eusebio</td>\n",
       "      <td>Welch</td>\n",
       "      <td>42</td>\n",
       "      <td>Grand Rapids-Kentwood, MI MSA</td>\n",
       "      <td>2018-07-11</td>\n",
       "      <td>surf</td>\n",
       "      <td>NaN</td>\n",
       "    </tr>\n",
       "    <tr>\n",
       "      <th>8</th>\n",
       "      <td>1008</td>\n",
       "      <td>Emely</td>\n",
       "      <td>Hoffman</td>\n",
       "      <td>53</td>\n",
       "      <td>Orlando-Kissimmee-Sanford, FL MSA</td>\n",
       "      <td>2018-08-03</td>\n",
       "      <td>ultimate</td>\n",
       "      <td>NaN</td>\n",
       "    </tr>\n",
       "    <tr>\n",
       "      <th>9</th>\n",
       "      <td>1009</td>\n",
       "      <td>Gerry</td>\n",
       "      <td>Little</td>\n",
       "      <td>19</td>\n",
       "      <td>San Jose-Sunnyvale-Santa Clara, CA MSA</td>\n",
       "      <td>2018-04-22</td>\n",
       "      <td>surf</td>\n",
       "      <td>NaN</td>\n",
       "    </tr>\n",
       "  </tbody>\n",
       "</table>\n",
       "</div>"
      ],
      "text/plain": [
       "   user_id first_name  last_name  age                                    city  \\\n",
       "0     1000   Anamaria      Bauer   45   Atlanta-Sandy Springs-Roswell, GA MSA   \n",
       "1     1001     Mickey  Wilkerson   28         Seattle-Tacoma-Bellevue, WA MSA   \n",
       "2     1002     Carlee    Hoffman   36    Las Vegas-Henderson-Paradise, NV MSA   \n",
       "3     1003   Reynaldo    Jenkins   52                           Tulsa, OK MSA   \n",
       "4     1004    Leonila   Thompson   40         Seattle-Tacoma-Bellevue, WA MSA   \n",
       "5     1005      Livia    Shields   31     Dallas-Fort Worth-Arlington, TX MSA   \n",
       "6     1006     Jesusa   Bradford   73  San Francisco-Oakland-Berkeley, CA MSA   \n",
       "7     1007    Eusebio      Welch   42           Grand Rapids-Kentwood, MI MSA   \n",
       "8     1008      Emely    Hoffman   53       Orlando-Kissimmee-Sanford, FL MSA   \n",
       "9     1009      Gerry     Little   19  San Jose-Sunnyvale-Santa Clara, CA MSA   \n",
       "\n",
       "     reg_date      plan  churn_date  \n",
       "0  2018-12-24  ultimate         NaN  \n",
       "1  2018-08-13      surf         NaN  \n",
       "2  2018-10-21      surf         NaN  \n",
       "3  2018-01-28      surf         NaN  \n",
       "4  2018-05-23      surf         NaN  \n",
       "5  2018-11-29      surf         NaN  \n",
       "6  2018-11-27  ultimate  2018-12-18  \n",
       "7  2018-07-11      surf         NaN  \n",
       "8  2018-08-03  ultimate         NaN  \n",
       "9  2018-04-22      surf         NaN  "
      ]
     },
     "execution_count": 8,
     "metadata": {},
     "output_type": "execute_result"
    }
   ],
   "source": [
    "# Imprime una muestra de datos para usuarios\n",
    "\n",
    "df_users.head(10)"
   ]
  },
  {
   "cell_type": "markdown",
   "metadata": {},
   "source": [
    "- Es normal y esperado que se encuentren muchos valores ausentes en la columna 'churn_date' ya que solo aparecerá una fecha en aquellos clientes que se hayan retirado o clientes de la empresa o que hayan cambiado de plan."
   ]
  },
  {
   "cell_type": "markdown",
   "metadata": {
    "id": "BX5FQh_I0q06"
   },
   "source": [
    "### Corregir los datos"
   ]
  },
  {
   "cell_type": "code",
   "execution_count": 9,
   "metadata": {
    "id": "yUqX-K0C0q07"
   },
   "outputs": [
    {
     "name": "stdout",
     "output_type": "stream",
     "text": [
      "La cantidad de valores ausentes por columna es:\n",
      " user_id         0\n",
      "first_name      0\n",
      "last_name       0\n",
      "age             0\n",
      "city            0\n",
      "reg_date        0\n",
      "plan            0\n",
      "churn_date    466\n",
      "dtype: int64\n",
      "\n",
      " La cantidad de filas duplicadas es: 0 \n",
      "\n",
      "<class 'pandas.core.frame.DataFrame'>\n",
      "RangeIndex: 500 entries, 0 to 499\n",
      "Data columns (total 8 columns):\n",
      " #   Column      Non-Null Count  Dtype         \n",
      "---  ------      --------------  -----         \n",
      " 0   user_id     500 non-null    int64         \n",
      " 1   first_name  500 non-null    object        \n",
      " 2   last_name   500 non-null    object        \n",
      " 3   age         500 non-null    int64         \n",
      " 4   city        500 non-null    object        \n",
      " 5   reg_date    500 non-null    datetime64[ns]\n",
      " 6   plan        500 non-null    object        \n",
      " 7   churn_date  34 non-null     datetime64[ns]\n",
      "dtypes: datetime64[ns](2), int64(2), object(4)\n",
      "memory usage: 31.4+ KB\n"
     ]
    }
   ],
   "source": [
    "# Se cuenta la cantidad de datos ausentes:\n",
    "print('La cantidad de valores ausentes por columna es:\\n', df_users.isna().sum())\n",
    "\n",
    "# Se cuenta la cantidad de filas duplicadas:\n",
    "print('\\n La cantidad de filas duplicadas es:', df_users.duplicated().sum(), '\\n')\n",
    "\n",
    "# Se corrige el tipo de datos de las columnas de fecha ya que aparecen como tipo object y se cambiarán a datetime\n",
    "df_users['reg_date'] = pd.to_datetime(df_users['reg_date'])\n",
    "df_users['churn_date'] = pd.to_datetime(df_users['churn_date'])\n",
    "df_users.info()"
   ]
  },
  {
   "cell_type": "markdown",
   "metadata": {
    "id": "ycwuARJp0q07"
   },
   "source": [
    "### Enriquecer los datos"
   ]
  },
  {
   "cell_type": "markdown",
   "metadata": {
    "id": "iq0AaBS90q08"
   },
   "source": [
    "- Adicional al cambio de tipo de dato de las columnas de fecha, no se considera necesario realizar ninguna otra modificación al dataframe de usuarios.\n",
    "\n",
    "- No se encuentran datos ausentes en otras columnas diferentes a la de fecha de retiro.\n",
    "\n",
    "- No hay filas totalmente duplicadas."
   ]
  },
  {
   "cell_type": "markdown",
   "metadata": {
    "id": "o7MeKCid0q08"
   },
   "source": [
    "## Llamadas"
   ]
  },
  {
   "cell_type": "code",
   "execution_count": 10,
   "metadata": {
    "id": "6dDlnoDm0q08"
   },
   "outputs": [
    {
     "name": "stdout",
     "output_type": "stream",
     "text": [
      "<class 'pandas.core.frame.DataFrame'>\n",
      "RangeIndex: 137735 entries, 0 to 137734\n",
      "Data columns (total 4 columns):\n",
      " #   Column     Non-Null Count   Dtype  \n",
      "---  ------     --------------   -----  \n",
      " 0   id         137735 non-null  object \n",
      " 1   user_id    137735 non-null  int64  \n",
      " 2   call_date  137735 non-null  object \n",
      " 3   duration   137735 non-null  float64\n",
      "dtypes: float64(1), int64(1), object(2)\n",
      "memory usage: 4.2+ MB\n"
     ]
    }
   ],
   "source": [
    "# Imprime la información general/resumida sobre el DataFrame de las llamadas\n",
    "\n",
    "df_calls.info()"
   ]
  },
  {
   "cell_type": "code",
   "execution_count": 11,
   "metadata": {
    "id": "kuh1vlNB0q09"
   },
   "outputs": [
    {
     "name": "stdout",
     "output_type": "stream",
     "text": [
      "La cantidad total de datos ausentes por columna es:\n",
      " id           0\n",
      "user_id      0\n",
      "call_date    0\n",
      "duration     0\n",
      "dtype: int64 \n",
      "\n",
      "La cantidad total de filas duplicadas es:\n",
      " 0 \n",
      "\n"
     ]
    },
    {
     "data": {
      "text/html": [
       "<div>\n",
       "<style scoped>\n",
       "    .dataframe tbody tr th:only-of-type {\n",
       "        vertical-align: middle;\n",
       "    }\n",
       "\n",
       "    .dataframe tbody tr th {\n",
       "        vertical-align: top;\n",
       "    }\n",
       "\n",
       "    .dataframe thead th {\n",
       "        text-align: right;\n",
       "    }\n",
       "</style>\n",
       "<table border=\"1\" class=\"dataframe\">\n",
       "  <thead>\n",
       "    <tr style=\"text-align: right;\">\n",
       "      <th></th>\n",
       "      <th>id</th>\n",
       "      <th>user_id</th>\n",
       "      <th>call_date</th>\n",
       "      <th>duration</th>\n",
       "    </tr>\n",
       "  </thead>\n",
       "  <tbody>\n",
       "    <tr>\n",
       "      <th>0</th>\n",
       "      <td>1000_93</td>\n",
       "      <td>1000</td>\n",
       "      <td>2018-12-27</td>\n",
       "      <td>8.52</td>\n",
       "    </tr>\n",
       "    <tr>\n",
       "      <th>1</th>\n",
       "      <td>1000_145</td>\n",
       "      <td>1000</td>\n",
       "      <td>2018-12-27</td>\n",
       "      <td>13.66</td>\n",
       "    </tr>\n",
       "    <tr>\n",
       "      <th>2</th>\n",
       "      <td>1000_247</td>\n",
       "      <td>1000</td>\n",
       "      <td>2018-12-27</td>\n",
       "      <td>14.48</td>\n",
       "    </tr>\n",
       "    <tr>\n",
       "      <th>3</th>\n",
       "      <td>1000_309</td>\n",
       "      <td>1000</td>\n",
       "      <td>2018-12-28</td>\n",
       "      <td>5.76</td>\n",
       "    </tr>\n",
       "    <tr>\n",
       "      <th>4</th>\n",
       "      <td>1000_380</td>\n",
       "      <td>1000</td>\n",
       "      <td>2018-12-30</td>\n",
       "      <td>4.22</td>\n",
       "    </tr>\n",
       "    <tr>\n",
       "      <th>5</th>\n",
       "      <td>1000_388</td>\n",
       "      <td>1000</td>\n",
       "      <td>2018-12-31</td>\n",
       "      <td>2.20</td>\n",
       "    </tr>\n",
       "    <tr>\n",
       "      <th>6</th>\n",
       "      <td>1000_510</td>\n",
       "      <td>1000</td>\n",
       "      <td>2018-12-27</td>\n",
       "      <td>5.75</td>\n",
       "    </tr>\n",
       "    <tr>\n",
       "      <th>7</th>\n",
       "      <td>1000_521</td>\n",
       "      <td>1000</td>\n",
       "      <td>2018-12-28</td>\n",
       "      <td>14.18</td>\n",
       "    </tr>\n",
       "    <tr>\n",
       "      <th>8</th>\n",
       "      <td>1000_530</td>\n",
       "      <td>1000</td>\n",
       "      <td>2018-12-28</td>\n",
       "      <td>5.77</td>\n",
       "    </tr>\n",
       "    <tr>\n",
       "      <th>9</th>\n",
       "      <td>1000_544</td>\n",
       "      <td>1000</td>\n",
       "      <td>2018-12-26</td>\n",
       "      <td>4.40</td>\n",
       "    </tr>\n",
       "  </tbody>\n",
       "</table>\n",
       "</div>"
      ],
      "text/plain": [
       "         id  user_id   call_date  duration\n",
       "0   1000_93     1000  2018-12-27      8.52\n",
       "1  1000_145     1000  2018-12-27     13.66\n",
       "2  1000_247     1000  2018-12-27     14.48\n",
       "3  1000_309     1000  2018-12-28      5.76\n",
       "4  1000_380     1000  2018-12-30      4.22\n",
       "5  1000_388     1000  2018-12-31      2.20\n",
       "6  1000_510     1000  2018-12-27      5.75\n",
       "7  1000_521     1000  2018-12-28     14.18\n",
       "8  1000_530     1000  2018-12-28      5.77\n",
       "9  1000_544     1000  2018-12-26      4.40"
      ]
     },
     "execution_count": 11,
     "metadata": {},
     "output_type": "execute_result"
    }
   ],
   "source": [
    "# Imprime una muestra de datos para las llamadas\n",
    "print('La cantidad total de datos ausentes por columna es:\\n',df_calls.isna().sum(),'\\n')\n",
    "print('La cantidad total de filas duplicadas es:\\n',df_calls.duplicated().sum(),'\\n')\n",
    "df_calls.head(10)"
   ]
  },
  {
   "cell_type": "markdown",
   "metadata": {
    "id": "S7hzxmbX0q0-"
   },
   "source": [
    "### Corregir los datos"
   ]
  },
  {
   "cell_type": "markdown",
   "metadata": {},
   "source": [
    "- No se observan datos ausentes.\n",
    "\n",
    "- No se hallan filas duplicadas.\n",
    "\n",
    "- Se corrige el tipo de dato de la columna 'call_date' el cual es del tipo object y debe cambiarse a datetime.\n",
    "\n",
    "- La duración de cada llamada se redondea hacia el entero superior."
   ]
  },
  {
   "cell_type": "code",
   "execution_count": 12,
   "metadata": {
    "id": "S2r8xA4f0q0-"
   },
   "outputs": [
    {
     "name": "stdout",
     "output_type": "stream",
     "text": [
      "La cantidad total de datos ausentes por columna es:\n",
      " id           0\n",
      "user_id      0\n",
      "call_date    0\n",
      "duration     0\n",
      "dtype: int64\n",
      "La cantidad de filas duplicadas es:  0 \n",
      "\n",
      "<class 'pandas.core.frame.DataFrame'>\n",
      "RangeIndex: 137735 entries, 0 to 137734\n",
      "Data columns (total 4 columns):\n",
      " #   Column     Non-Null Count   Dtype         \n",
      "---  ------     --------------   -----         \n",
      " 0   id         137735 non-null  object        \n",
      " 1   user_id    137735 non-null  int64         \n",
      " 2   call_date  137735 non-null  datetime64[ns]\n",
      " 3   duration   137735 non-null  int64         \n",
      "dtypes: datetime64[ns](1), int64(2), object(1)\n",
      "memory usage: 4.2+ MB\n"
     ]
    }
   ],
   "source": [
    "# Se cuentan la cantidad de dilas duplicadas:\n",
    "print('La cantidad total de datos ausentes por columna es:\\n',df_calls.isna().sum())\n",
    "print('La cantidad de filas duplicadas es: ', df_calls.duplicated().sum(), '\\n')\n",
    "\n",
    "# Se redondea hacia arriba la duración de las llamadas ya que la fracción de minuto se cuenta como una unidad:\n",
    "df_calls['duration'] = np.ceil(df_calls['duration'])\n",
    "\n",
    "# Se convierte el tipo de dato de la columna 'duration' de float a int:\n",
    "df_calls['duration'] = df_calls['duration'].astype(int)\n",
    "\n",
    "# Se cambia el tipo de dato de la columna 'call_date'\n",
    "df_calls['call_date'] = pd.to_datetime(df_calls['call_date'])\n",
    "df_calls.info()"
   ]
  },
  {
   "cell_type": "markdown",
   "metadata": {},
   "source": [
    "- No hay filas totalemnte duplicadas.\n",
    "\n",
    "- No hay datos ausentes en ninguna columna.\n",
    "\n",
    "- Se ha cambiado el tipo de dato de la columna call_date de object a datetime."
   ]
  },
  {
   "cell_type": "markdown",
   "metadata": {
    "id": "KrMgTrlG0q0_"
   },
   "source": [
    "### Enriquecer los datos"
   ]
  },
  {
   "cell_type": "code",
   "execution_count": 13,
   "metadata": {
    "id": "iZ1avpA_0q0_"
   },
   "outputs": [
    {
     "data": {
      "text/html": [
       "<div>\n",
       "<style scoped>\n",
       "    .dataframe tbody tr th:only-of-type {\n",
       "        vertical-align: middle;\n",
       "    }\n",
       "\n",
       "    .dataframe tbody tr th {\n",
       "        vertical-align: top;\n",
       "    }\n",
       "\n",
       "    .dataframe thead th {\n",
       "        text-align: right;\n",
       "    }\n",
       "</style>\n",
       "<table border=\"1\" class=\"dataframe\">\n",
       "  <thead>\n",
       "    <tr style=\"text-align: right;\">\n",
       "      <th></th>\n",
       "      <th>id</th>\n",
       "      <th>user_id</th>\n",
       "      <th>call_date</th>\n",
       "      <th>duration</th>\n",
       "      <th>month</th>\n",
       "    </tr>\n",
       "  </thead>\n",
       "  <tbody>\n",
       "    <tr>\n",
       "      <th>0</th>\n",
       "      <td>1000_93</td>\n",
       "      <td>1000</td>\n",
       "      <td>2018-12-27</td>\n",
       "      <td>9</td>\n",
       "      <td>12</td>\n",
       "    </tr>\n",
       "    <tr>\n",
       "      <th>1</th>\n",
       "      <td>1000_145</td>\n",
       "      <td>1000</td>\n",
       "      <td>2018-12-27</td>\n",
       "      <td>14</td>\n",
       "      <td>12</td>\n",
       "    </tr>\n",
       "    <tr>\n",
       "      <th>2</th>\n",
       "      <td>1000_247</td>\n",
       "      <td>1000</td>\n",
       "      <td>2018-12-27</td>\n",
       "      <td>15</td>\n",
       "      <td>12</td>\n",
       "    </tr>\n",
       "    <tr>\n",
       "      <th>3</th>\n",
       "      <td>1000_309</td>\n",
       "      <td>1000</td>\n",
       "      <td>2018-12-28</td>\n",
       "      <td>6</td>\n",
       "      <td>12</td>\n",
       "    </tr>\n",
       "    <tr>\n",
       "      <th>4</th>\n",
       "      <td>1000_380</td>\n",
       "      <td>1000</td>\n",
       "      <td>2018-12-30</td>\n",
       "      <td>5</td>\n",
       "      <td>12</td>\n",
       "    </tr>\n",
       "    <tr>\n",
       "      <th>5</th>\n",
       "      <td>1000_388</td>\n",
       "      <td>1000</td>\n",
       "      <td>2018-12-31</td>\n",
       "      <td>3</td>\n",
       "      <td>12</td>\n",
       "    </tr>\n",
       "    <tr>\n",
       "      <th>6</th>\n",
       "      <td>1000_510</td>\n",
       "      <td>1000</td>\n",
       "      <td>2018-12-27</td>\n",
       "      <td>6</td>\n",
       "      <td>12</td>\n",
       "    </tr>\n",
       "    <tr>\n",
       "      <th>7</th>\n",
       "      <td>1000_521</td>\n",
       "      <td>1000</td>\n",
       "      <td>2018-12-28</td>\n",
       "      <td>15</td>\n",
       "      <td>12</td>\n",
       "    </tr>\n",
       "    <tr>\n",
       "      <th>8</th>\n",
       "      <td>1000_530</td>\n",
       "      <td>1000</td>\n",
       "      <td>2018-12-28</td>\n",
       "      <td>6</td>\n",
       "      <td>12</td>\n",
       "    </tr>\n",
       "    <tr>\n",
       "      <th>9</th>\n",
       "      <td>1000_544</td>\n",
       "      <td>1000</td>\n",
       "      <td>2018-12-26</td>\n",
       "      <td>5</td>\n",
       "      <td>12</td>\n",
       "    </tr>\n",
       "  </tbody>\n",
       "</table>\n",
       "</div>"
      ],
      "text/plain": [
       "         id  user_id  call_date  duration  month\n",
       "0   1000_93     1000 2018-12-27         9     12\n",
       "1  1000_145     1000 2018-12-27        14     12\n",
       "2  1000_247     1000 2018-12-27        15     12\n",
       "3  1000_309     1000 2018-12-28         6     12\n",
       "4  1000_380     1000 2018-12-30         5     12\n",
       "5  1000_388     1000 2018-12-31         3     12\n",
       "6  1000_510     1000 2018-12-27         6     12\n",
       "7  1000_521     1000 2018-12-28        15     12\n",
       "8  1000_530     1000 2018-12-28         6     12\n",
       "9  1000_544     1000 2018-12-26         5     12"
      ]
     },
     "execution_count": 13,
     "metadata": {},
     "output_type": "execute_result"
    }
   ],
   "source": [
    "# Se puede agregar la columna de mes ya que esta nos permite agrupar valores por mes.\n",
    "df_calls['month'] = df_calls['call_date'].dt.month\n",
    "df_calls.head(10)"
   ]
  },
  {
   "cell_type": "markdown",
   "metadata": {},
   "source": [
    "- Se adiciona la columna de mes para poder realizar agrupaciones por esta columna."
   ]
  },
  {
   "cell_type": "markdown",
   "metadata": {
    "id": "mOUZSi180q0_"
   },
   "source": [
    "## Mensajes"
   ]
  },
  {
   "cell_type": "code",
   "execution_count": 14,
   "metadata": {
    "id": "R-bYJpdV0q1A"
   },
   "outputs": [
    {
     "name": "stdout",
     "output_type": "stream",
     "text": [
      "<class 'pandas.core.frame.DataFrame'>\n",
      "RangeIndex: 76051 entries, 0 to 76050\n",
      "Data columns (total 3 columns):\n",
      " #   Column        Non-Null Count  Dtype \n",
      "---  ------        --------------  ----- \n",
      " 0   id            76051 non-null  object\n",
      " 1   user_id       76051 non-null  int64 \n",
      " 2   message_date  76051 non-null  object\n",
      "dtypes: int64(1), object(2)\n",
      "memory usage: 1.7+ MB\n"
     ]
    }
   ],
   "source": [
    "# Imprime la información general/resumida sobre el DataFrame de los mensajes\n",
    "\n",
    "df_messages.info()"
   ]
  },
  {
   "cell_type": "code",
   "execution_count": 15,
   "metadata": {
    "id": "mCEl2iGE0q1A"
   },
   "outputs": [
    {
     "data": {
      "text/html": [
       "<div>\n",
       "<style scoped>\n",
       "    .dataframe tbody tr th:only-of-type {\n",
       "        vertical-align: middle;\n",
       "    }\n",
       "\n",
       "    .dataframe tbody tr th {\n",
       "        vertical-align: top;\n",
       "    }\n",
       "\n",
       "    .dataframe thead th {\n",
       "        text-align: right;\n",
       "    }\n",
       "</style>\n",
       "<table border=\"1\" class=\"dataframe\">\n",
       "  <thead>\n",
       "    <tr style=\"text-align: right;\">\n",
       "      <th></th>\n",
       "      <th>id</th>\n",
       "      <th>user_id</th>\n",
       "      <th>message_date</th>\n",
       "    </tr>\n",
       "  </thead>\n",
       "  <tbody>\n",
       "    <tr>\n",
       "      <th>0</th>\n",
       "      <td>1000_125</td>\n",
       "      <td>1000</td>\n",
       "      <td>2018-12-27</td>\n",
       "    </tr>\n",
       "    <tr>\n",
       "      <th>1</th>\n",
       "      <td>1000_160</td>\n",
       "      <td>1000</td>\n",
       "      <td>2018-12-31</td>\n",
       "    </tr>\n",
       "    <tr>\n",
       "      <th>2</th>\n",
       "      <td>1000_223</td>\n",
       "      <td>1000</td>\n",
       "      <td>2018-12-31</td>\n",
       "    </tr>\n",
       "    <tr>\n",
       "      <th>3</th>\n",
       "      <td>1000_251</td>\n",
       "      <td>1000</td>\n",
       "      <td>2018-12-27</td>\n",
       "    </tr>\n",
       "    <tr>\n",
       "      <th>4</th>\n",
       "      <td>1000_255</td>\n",
       "      <td>1000</td>\n",
       "      <td>2018-12-26</td>\n",
       "    </tr>\n",
       "    <tr>\n",
       "      <th>5</th>\n",
       "      <td>1000_346</td>\n",
       "      <td>1000</td>\n",
       "      <td>2018-12-29</td>\n",
       "    </tr>\n",
       "    <tr>\n",
       "      <th>6</th>\n",
       "      <td>1000_386</td>\n",
       "      <td>1000</td>\n",
       "      <td>2018-12-30</td>\n",
       "    </tr>\n",
       "    <tr>\n",
       "      <th>7</th>\n",
       "      <td>1000_413</td>\n",
       "      <td>1000</td>\n",
       "      <td>2018-12-31</td>\n",
       "    </tr>\n",
       "    <tr>\n",
       "      <th>8</th>\n",
       "      <td>1000_502</td>\n",
       "      <td>1000</td>\n",
       "      <td>2018-12-27</td>\n",
       "    </tr>\n",
       "    <tr>\n",
       "      <th>9</th>\n",
       "      <td>1000_525</td>\n",
       "      <td>1000</td>\n",
       "      <td>2018-12-28</td>\n",
       "    </tr>\n",
       "  </tbody>\n",
       "</table>\n",
       "</div>"
      ],
      "text/plain": [
       "         id  user_id message_date\n",
       "0  1000_125     1000   2018-12-27\n",
       "1  1000_160     1000   2018-12-31\n",
       "2  1000_223     1000   2018-12-31\n",
       "3  1000_251     1000   2018-12-27\n",
       "4  1000_255     1000   2018-12-26\n",
       "5  1000_346     1000   2018-12-29\n",
       "6  1000_386     1000   2018-12-30\n",
       "7  1000_413     1000   2018-12-31\n",
       "8  1000_502     1000   2018-12-27\n",
       "9  1000_525     1000   2018-12-28"
      ]
     },
     "execution_count": 15,
     "metadata": {},
     "output_type": "execute_result"
    }
   ],
   "source": [
    "# Imprime una muestra de datos para los mensajes\n",
    "\n",
    "df_messages.head(10)"
   ]
  },
  {
   "cell_type": "markdown",
   "metadata": {},
   "source": [
    "- No se observan valores ausentes en ninguna columna.\n",
    "\n",
    "- El tipo de dato de la columna 'message_date' debe cambiarse de object a datetime."
   ]
  },
  {
   "cell_type": "markdown",
   "metadata": {
    "id": "Sprfak900q1B"
   },
   "source": [
    "### Corregir los datos"
   ]
  },
  {
   "cell_type": "code",
   "execution_count": 16,
   "metadata": {
    "id": "vsllvkoa0q1B"
   },
   "outputs": [
    {
     "name": "stdout",
     "output_type": "stream",
     "text": [
      "La cantidad de datos ausentes por columna es:\n",
      " id              0\n",
      "user_id         0\n",
      "message_date    0\n",
      "dtype: int64\n",
      "La cantidad filas duplicadas es:  0 \n",
      "\n",
      "<class 'pandas.core.frame.DataFrame'>\n",
      "RangeIndex: 76051 entries, 0 to 76050\n",
      "Data columns (total 3 columns):\n",
      " #   Column        Non-Null Count  Dtype         \n",
      "---  ------        --------------  -----         \n",
      " 0   id            76051 non-null  object        \n",
      " 1   user_id       76051 non-null  int64         \n",
      " 2   message_date  76051 non-null  datetime64[ns]\n",
      "dtypes: datetime64[ns](1), int64(1), object(1)\n",
      "memory usage: 1.7+ MB\n"
     ]
    }
   ],
   "source": [
    "# Se cuentan los datos ausentes de cada columna y las cantidad de filas totalmente duplicadas:\n",
    "print('La cantidad de datos ausentes por columna es:\\n',df_messages.isna().sum())\n",
    "print('La cantidad filas duplicadas es: ', df_messages.duplicated().sum(), '\\n')\n",
    "\n",
    "# Se cambia el tipo de dato de la columna 'message_date' de object a datetime.\n",
    "df_messages['message_date'] = pd.to_datetime(df_messages['message_date'])\n",
    "df_messages.info()"
   ]
  },
  {
   "cell_type": "markdown",
   "metadata": {},
   "source": [
    "- No se encuentran datos ausentes en ninguna columna.\n",
    "\n",
    "- No se enceuntran filas totalmente duplicadas."
   ]
  },
  {
   "cell_type": "markdown",
   "metadata": {
    "id": "HvLid7iD0q1B"
   },
   "source": [
    "### Enriquecer los datos"
   ]
  },
  {
   "cell_type": "code",
   "execution_count": 17,
   "metadata": {
    "id": "zYEXZac10q1C"
   },
   "outputs": [
    {
     "data": {
      "text/html": [
       "<div>\n",
       "<style scoped>\n",
       "    .dataframe tbody tr th:only-of-type {\n",
       "        vertical-align: middle;\n",
       "    }\n",
       "\n",
       "    .dataframe tbody tr th {\n",
       "        vertical-align: top;\n",
       "    }\n",
       "\n",
       "    .dataframe thead th {\n",
       "        text-align: right;\n",
       "    }\n",
       "</style>\n",
       "<table border=\"1\" class=\"dataframe\">\n",
       "  <thead>\n",
       "    <tr style=\"text-align: right;\">\n",
       "      <th></th>\n",
       "      <th>id</th>\n",
       "      <th>user_id</th>\n",
       "      <th>message_date</th>\n",
       "      <th>month</th>\n",
       "    </tr>\n",
       "  </thead>\n",
       "  <tbody>\n",
       "    <tr>\n",
       "      <th>0</th>\n",
       "      <td>1000_125</td>\n",
       "      <td>1000</td>\n",
       "      <td>2018-12-27</td>\n",
       "      <td>12</td>\n",
       "    </tr>\n",
       "    <tr>\n",
       "      <th>1</th>\n",
       "      <td>1000_160</td>\n",
       "      <td>1000</td>\n",
       "      <td>2018-12-31</td>\n",
       "      <td>12</td>\n",
       "    </tr>\n",
       "    <tr>\n",
       "      <th>2</th>\n",
       "      <td>1000_223</td>\n",
       "      <td>1000</td>\n",
       "      <td>2018-12-31</td>\n",
       "      <td>12</td>\n",
       "    </tr>\n",
       "    <tr>\n",
       "      <th>3</th>\n",
       "      <td>1000_251</td>\n",
       "      <td>1000</td>\n",
       "      <td>2018-12-27</td>\n",
       "      <td>12</td>\n",
       "    </tr>\n",
       "    <tr>\n",
       "      <th>4</th>\n",
       "      <td>1000_255</td>\n",
       "      <td>1000</td>\n",
       "      <td>2018-12-26</td>\n",
       "      <td>12</td>\n",
       "    </tr>\n",
       "    <tr>\n",
       "      <th>5</th>\n",
       "      <td>1000_346</td>\n",
       "      <td>1000</td>\n",
       "      <td>2018-12-29</td>\n",
       "      <td>12</td>\n",
       "    </tr>\n",
       "    <tr>\n",
       "      <th>6</th>\n",
       "      <td>1000_386</td>\n",
       "      <td>1000</td>\n",
       "      <td>2018-12-30</td>\n",
       "      <td>12</td>\n",
       "    </tr>\n",
       "    <tr>\n",
       "      <th>7</th>\n",
       "      <td>1000_413</td>\n",
       "      <td>1000</td>\n",
       "      <td>2018-12-31</td>\n",
       "      <td>12</td>\n",
       "    </tr>\n",
       "    <tr>\n",
       "      <th>8</th>\n",
       "      <td>1000_502</td>\n",
       "      <td>1000</td>\n",
       "      <td>2018-12-27</td>\n",
       "      <td>12</td>\n",
       "    </tr>\n",
       "    <tr>\n",
       "      <th>9</th>\n",
       "      <td>1000_525</td>\n",
       "      <td>1000</td>\n",
       "      <td>2018-12-28</td>\n",
       "      <td>12</td>\n",
       "    </tr>\n",
       "  </tbody>\n",
       "</table>\n",
       "</div>"
      ],
      "text/plain": [
       "         id  user_id message_date  month\n",
       "0  1000_125     1000   2018-12-27     12\n",
       "1  1000_160     1000   2018-12-31     12\n",
       "2  1000_223     1000   2018-12-31     12\n",
       "3  1000_251     1000   2018-12-27     12\n",
       "4  1000_255     1000   2018-12-26     12\n",
       "5  1000_346     1000   2018-12-29     12\n",
       "6  1000_386     1000   2018-12-30     12\n",
       "7  1000_413     1000   2018-12-31     12\n",
       "8  1000_502     1000   2018-12-27     12\n",
       "9  1000_525     1000   2018-12-28     12"
      ]
     },
     "execution_count": 17,
     "metadata": {},
     "output_type": "execute_result"
    }
   ],
   "source": [
    "# Para poder agrupar los datos por mes, se agrega la columna de mes:\n",
    "df_messages['month'] = df_messages['message_date'].dt.month\n",
    "df_messages.head(10)"
   ]
  },
  {
   "cell_type": "markdown",
   "metadata": {
    "id": "bStkaxn40q1C"
   },
   "source": [
    "## Internet"
   ]
  },
  {
   "cell_type": "code",
   "execution_count": 18,
   "metadata": {
    "id": "e-Uz5qyn0q1C"
   },
   "outputs": [
    {
     "name": "stdout",
     "output_type": "stream",
     "text": [
      "<class 'pandas.core.frame.DataFrame'>\n",
      "RangeIndex: 104825 entries, 0 to 104824\n",
      "Data columns (total 4 columns):\n",
      " #   Column        Non-Null Count   Dtype  \n",
      "---  ------        --------------   -----  \n",
      " 0   id            104825 non-null  object \n",
      " 1   user_id       104825 non-null  int64  \n",
      " 2   session_date  104825 non-null  object \n",
      " 3   mb_used       104825 non-null  float64\n",
      "dtypes: float64(1), int64(1), object(2)\n",
      "memory usage: 3.2+ MB\n"
     ]
    }
   ],
   "source": [
    "# Imprime la información general/resumida sobre el DataFrame de internet\n",
    "\n",
    "df_internet.info()"
   ]
  },
  {
   "cell_type": "code",
   "execution_count": 19,
   "metadata": {
    "id": "9r3x_XLw0q1C"
   },
   "outputs": [
    {
     "data": {
      "text/html": [
       "<div>\n",
       "<style scoped>\n",
       "    .dataframe tbody tr th:only-of-type {\n",
       "        vertical-align: middle;\n",
       "    }\n",
       "\n",
       "    .dataframe tbody tr th {\n",
       "        vertical-align: top;\n",
       "    }\n",
       "\n",
       "    .dataframe thead th {\n",
       "        text-align: right;\n",
       "    }\n",
       "</style>\n",
       "<table border=\"1\" class=\"dataframe\">\n",
       "  <thead>\n",
       "    <tr style=\"text-align: right;\">\n",
       "      <th></th>\n",
       "      <th>id</th>\n",
       "      <th>user_id</th>\n",
       "      <th>session_date</th>\n",
       "      <th>mb_used</th>\n",
       "    </tr>\n",
       "  </thead>\n",
       "  <tbody>\n",
       "    <tr>\n",
       "      <th>0</th>\n",
       "      <td>1000_13</td>\n",
       "      <td>1000</td>\n",
       "      <td>2018-12-29</td>\n",
       "      <td>89.86</td>\n",
       "    </tr>\n",
       "    <tr>\n",
       "      <th>1</th>\n",
       "      <td>1000_204</td>\n",
       "      <td>1000</td>\n",
       "      <td>2018-12-31</td>\n",
       "      <td>0.00</td>\n",
       "    </tr>\n",
       "    <tr>\n",
       "      <th>2</th>\n",
       "      <td>1000_379</td>\n",
       "      <td>1000</td>\n",
       "      <td>2018-12-28</td>\n",
       "      <td>660.40</td>\n",
       "    </tr>\n",
       "    <tr>\n",
       "      <th>3</th>\n",
       "      <td>1000_413</td>\n",
       "      <td>1000</td>\n",
       "      <td>2018-12-26</td>\n",
       "      <td>270.99</td>\n",
       "    </tr>\n",
       "    <tr>\n",
       "      <th>4</th>\n",
       "      <td>1000_442</td>\n",
       "      <td>1000</td>\n",
       "      <td>2018-12-27</td>\n",
       "      <td>880.22</td>\n",
       "    </tr>\n",
       "    <tr>\n",
       "      <th>5</th>\n",
       "      <td>1001_0</td>\n",
       "      <td>1001</td>\n",
       "      <td>2018-08-24</td>\n",
       "      <td>284.68</td>\n",
       "    </tr>\n",
       "    <tr>\n",
       "      <th>6</th>\n",
       "      <td>1001_3</td>\n",
       "      <td>1001</td>\n",
       "      <td>2018-12-09</td>\n",
       "      <td>656.04</td>\n",
       "    </tr>\n",
       "    <tr>\n",
       "      <th>7</th>\n",
       "      <td>1001_4</td>\n",
       "      <td>1001</td>\n",
       "      <td>2018-11-04</td>\n",
       "      <td>16.97</td>\n",
       "    </tr>\n",
       "    <tr>\n",
       "      <th>8</th>\n",
       "      <td>1001_10</td>\n",
       "      <td>1001</td>\n",
       "      <td>2018-11-27</td>\n",
       "      <td>135.18</td>\n",
       "    </tr>\n",
       "    <tr>\n",
       "      <th>9</th>\n",
       "      <td>1001_15</td>\n",
       "      <td>1001</td>\n",
       "      <td>2018-12-13</td>\n",
       "      <td>761.92</td>\n",
       "    </tr>\n",
       "  </tbody>\n",
       "</table>\n",
       "</div>"
      ],
      "text/plain": [
       "         id  user_id session_date  mb_used\n",
       "0   1000_13     1000   2018-12-29    89.86\n",
       "1  1000_204     1000   2018-12-31     0.00\n",
       "2  1000_379     1000   2018-12-28   660.40\n",
       "3  1000_413     1000   2018-12-26   270.99\n",
       "4  1000_442     1000   2018-12-27   880.22\n",
       "5    1001_0     1001   2018-08-24   284.68\n",
       "6    1001_3     1001   2018-12-09   656.04\n",
       "7    1001_4     1001   2018-11-04    16.97\n",
       "8   1001_10     1001   2018-11-27   135.18\n",
       "9   1001_15     1001   2018-12-13   761.92"
      ]
     },
     "execution_count": 19,
     "metadata": {},
     "output_type": "execute_result"
    }
   ],
   "source": [
    "# Imprime una muestra de datos para el tráfico de internet\n",
    "\n",
    "df_internet.head(10)"
   ]
  },
  {
   "cell_type": "markdown",
   "metadata": {},
   "source": [
    "- Se puede observar que no existen valores ausentes en ninguna columna.\n",
    "\n",
    "- Se puede observar que el tipo de dato de la columna 'session_date' es del tipo object por lo que se debe cambiar a datetime."
   ]
  },
  {
   "cell_type": "markdown",
   "metadata": {
    "id": "yA0tkPFg0q1D"
   },
   "source": [
    "### Corregir los datos"
   ]
  },
  {
   "cell_type": "code",
   "execution_count": 20,
   "metadata": {
    "id": "zVeanzdd0q1E"
   },
   "outputs": [
    {
     "name": "stdout",
     "output_type": "stream",
     "text": [
      "La cantidad de valores ausentes por cada columna es:\n",
      " id              0\n",
      "user_id         0\n",
      "session_date    0\n",
      "mb_used         0\n",
      "dtype: int64\n",
      "La cantidad de filas duplicadas es:  0 \n",
      "\n",
      "<class 'pandas.core.frame.DataFrame'>\n",
      "RangeIndex: 104825 entries, 0 to 104824\n",
      "Data columns (total 4 columns):\n",
      " #   Column        Non-Null Count   Dtype         \n",
      "---  ------        --------------   -----         \n",
      " 0   id            104825 non-null  object        \n",
      " 1   user_id       104825 non-null  int64         \n",
      " 2   session_date  104825 non-null  datetime64[ns]\n",
      " 3   mb_used       104825 non-null  float64       \n",
      "dtypes: datetime64[ns](1), float64(1), int64(1), object(1)\n",
      "memory usage: 3.2+ MB\n"
     ]
    }
   ],
   "source": [
    "# Se cuenta la cantidad valores ausentes en cada columna y la cantidad de filas totalmente duplicadas:\n",
    "print('La cantidad de valores ausentes por cada columna es:\\n', df_internet.isna().sum())\n",
    "print('La cantidad de filas duplicadas es: ', df_internet.duplicated().sum(), '\\n')\n",
    "\n",
    "df_internet['session_date'] = pd.to_datetime(df_internet['session_date'])\n",
    "df_internet.info()"
   ]
  },
  {
   "cell_type": "markdown",
   "metadata": {},
   "source": [
    "- No hay columnas con valores ausentes.\n",
    "\n",
    "- No hay filas totalmente duplicadas."
   ]
  },
  {
   "cell_type": "markdown",
   "metadata": {
    "id": "e8_mLF4a0q1E"
   },
   "source": [
    "### Enriquecer los datos"
   ]
  },
  {
   "cell_type": "code",
   "execution_count": 21,
   "metadata": {
    "id": "ESiYPIEK0q1E"
   },
   "outputs": [
    {
     "data": {
      "text/html": [
       "<div>\n",
       "<style scoped>\n",
       "    .dataframe tbody tr th:only-of-type {\n",
       "        vertical-align: middle;\n",
       "    }\n",
       "\n",
       "    .dataframe tbody tr th {\n",
       "        vertical-align: top;\n",
       "    }\n",
       "\n",
       "    .dataframe thead th {\n",
       "        text-align: right;\n",
       "    }\n",
       "</style>\n",
       "<table border=\"1\" class=\"dataframe\">\n",
       "  <thead>\n",
       "    <tr style=\"text-align: right;\">\n",
       "      <th></th>\n",
       "      <th>id</th>\n",
       "      <th>user_id</th>\n",
       "      <th>session_date</th>\n",
       "      <th>mb_used</th>\n",
       "      <th>month</th>\n",
       "    </tr>\n",
       "  </thead>\n",
       "  <tbody>\n",
       "    <tr>\n",
       "      <th>0</th>\n",
       "      <td>1000_13</td>\n",
       "      <td>1000</td>\n",
       "      <td>2018-12-29</td>\n",
       "      <td>89.86</td>\n",
       "      <td>12</td>\n",
       "    </tr>\n",
       "    <tr>\n",
       "      <th>1</th>\n",
       "      <td>1000_204</td>\n",
       "      <td>1000</td>\n",
       "      <td>2018-12-31</td>\n",
       "      <td>0.00</td>\n",
       "      <td>12</td>\n",
       "    </tr>\n",
       "    <tr>\n",
       "      <th>2</th>\n",
       "      <td>1000_379</td>\n",
       "      <td>1000</td>\n",
       "      <td>2018-12-28</td>\n",
       "      <td>660.40</td>\n",
       "      <td>12</td>\n",
       "    </tr>\n",
       "    <tr>\n",
       "      <th>3</th>\n",
       "      <td>1000_413</td>\n",
       "      <td>1000</td>\n",
       "      <td>2018-12-26</td>\n",
       "      <td>270.99</td>\n",
       "      <td>12</td>\n",
       "    </tr>\n",
       "    <tr>\n",
       "      <th>4</th>\n",
       "      <td>1000_442</td>\n",
       "      <td>1000</td>\n",
       "      <td>2018-12-27</td>\n",
       "      <td>880.22</td>\n",
       "      <td>12</td>\n",
       "    </tr>\n",
       "    <tr>\n",
       "      <th>5</th>\n",
       "      <td>1001_0</td>\n",
       "      <td>1001</td>\n",
       "      <td>2018-08-24</td>\n",
       "      <td>284.68</td>\n",
       "      <td>8</td>\n",
       "    </tr>\n",
       "    <tr>\n",
       "      <th>6</th>\n",
       "      <td>1001_3</td>\n",
       "      <td>1001</td>\n",
       "      <td>2018-12-09</td>\n",
       "      <td>656.04</td>\n",
       "      <td>12</td>\n",
       "    </tr>\n",
       "    <tr>\n",
       "      <th>7</th>\n",
       "      <td>1001_4</td>\n",
       "      <td>1001</td>\n",
       "      <td>2018-11-04</td>\n",
       "      <td>16.97</td>\n",
       "      <td>11</td>\n",
       "    </tr>\n",
       "    <tr>\n",
       "      <th>8</th>\n",
       "      <td>1001_10</td>\n",
       "      <td>1001</td>\n",
       "      <td>2018-11-27</td>\n",
       "      <td>135.18</td>\n",
       "      <td>11</td>\n",
       "    </tr>\n",
       "    <tr>\n",
       "      <th>9</th>\n",
       "      <td>1001_15</td>\n",
       "      <td>1001</td>\n",
       "      <td>2018-12-13</td>\n",
       "      <td>761.92</td>\n",
       "      <td>12</td>\n",
       "    </tr>\n",
       "  </tbody>\n",
       "</table>\n",
       "</div>"
      ],
      "text/plain": [
       "         id  user_id session_date  mb_used  month\n",
       "0   1000_13     1000   2018-12-29    89.86     12\n",
       "1  1000_204     1000   2018-12-31     0.00     12\n",
       "2  1000_379     1000   2018-12-28   660.40     12\n",
       "3  1000_413     1000   2018-12-26   270.99     12\n",
       "4  1000_442     1000   2018-12-27   880.22     12\n",
       "5    1001_0     1001   2018-08-24   284.68      8\n",
       "6    1001_3     1001   2018-12-09   656.04     12\n",
       "7    1001_4     1001   2018-11-04    16.97     11\n",
       "8   1001_10     1001   2018-11-27   135.18     11\n",
       "9   1001_15     1001   2018-12-13   761.92     12"
      ]
     },
     "execution_count": 21,
     "metadata": {},
     "output_type": "execute_result"
    }
   ],
   "source": [
    "df_internet['month'] = df_internet['session_date'].dt.month\n",
    "df_internet.head(10)"
   ]
  },
  {
   "cell_type": "markdown",
   "metadata": {
    "id": "3UA2cqIW0q1E"
   },
   "source": [
    "## Estudiar las condiciones de las tarifas"
   ]
  },
  {
   "cell_type": "code",
   "execution_count": 22,
   "metadata": {
    "id": "i409op8p0q1F"
   },
   "outputs": [
    {
     "data": {
      "text/html": [
       "<div>\n",
       "<style scoped>\n",
       "    .dataframe tbody tr th:only-of-type {\n",
       "        vertical-align: middle;\n",
       "    }\n",
       "\n",
       "    .dataframe tbody tr th {\n",
       "        vertical-align: top;\n",
       "    }\n",
       "\n",
       "    .dataframe thead th {\n",
       "        text-align: right;\n",
       "    }\n",
       "</style>\n",
       "<table border=\"1\" class=\"dataframe\">\n",
       "  <thead>\n",
       "    <tr style=\"text-align: right;\">\n",
       "      <th></th>\n",
       "      <th>messages_included</th>\n",
       "      <th>gb_per_month_included</th>\n",
       "      <th>minutes_included</th>\n",
       "      <th>usd_monthly_pay</th>\n",
       "      <th>usd_per_gb</th>\n",
       "      <th>usd_per_message</th>\n",
       "      <th>usd_per_minute</th>\n",
       "      <th>plan</th>\n",
       "    </tr>\n",
       "  </thead>\n",
       "  <tbody>\n",
       "    <tr>\n",
       "      <th>0</th>\n",
       "      <td>50</td>\n",
       "      <td>15</td>\n",
       "      <td>500</td>\n",
       "      <td>20</td>\n",
       "      <td>10</td>\n",
       "      <td>0.03</td>\n",
       "      <td>0.03</td>\n",
       "      <td>surf</td>\n",
       "    </tr>\n",
       "    <tr>\n",
       "      <th>1</th>\n",
       "      <td>1000</td>\n",
       "      <td>30</td>\n",
       "      <td>3000</td>\n",
       "      <td>70</td>\n",
       "      <td>7</td>\n",
       "      <td>0.01</td>\n",
       "      <td>0.01</td>\n",
       "      <td>ultimate</td>\n",
       "    </tr>\n",
       "  </tbody>\n",
       "</table>\n",
       "</div>"
      ],
      "text/plain": [
       "   messages_included  gb_per_month_included  minutes_included  \\\n",
       "0                 50                     15               500   \n",
       "1               1000                     30              3000   \n",
       "\n",
       "   usd_monthly_pay  usd_per_gb  usd_per_message  usd_per_minute      plan  \n",
       "0               20          10             0.03            0.03      surf  \n",
       "1               70           7             0.01            0.01  ultimate  "
      ]
     },
     "execution_count": 22,
     "metadata": {},
     "output_type": "execute_result"
    }
   ],
   "source": [
    "# Imprime las condiciones de la tarifa y asegúrate de que te quedan claras\n",
    "\n",
    "df_plans"
   ]
  },
  {
   "cell_type": "markdown",
   "metadata": {
    "id": "hMR1tP5d0q1F"
   },
   "source": [
    "## Agregar datos por usuario\n",
    "\n",
    "[Ahora que los datos están limpios, agrega los datos por usuario y por periodo para que solo haya un registro por usuario y por periodo. Esto facilitará mucho el análisis posterior.]"
   ]
  },
  {
   "cell_type": "code",
   "execution_count": 23,
   "metadata": {
    "id": "A332cedB0q1G"
   },
   "outputs": [
    {
     "data": {
      "text/html": [
       "<div>\n",
       "<style scoped>\n",
       "    .dataframe tbody tr th:only-of-type {\n",
       "        vertical-align: middle;\n",
       "    }\n",
       "\n",
       "    .dataframe tbody tr th {\n",
       "        vertical-align: top;\n",
       "    }\n",
       "\n",
       "    .dataframe thead th {\n",
       "        text-align: right;\n",
       "    }\n",
       "</style>\n",
       "<table border=\"1\" class=\"dataframe\">\n",
       "  <thead>\n",
       "    <tr style=\"text-align: right;\">\n",
       "      <th></th>\n",
       "      <th>month</th>\n",
       "      <th>user_id</th>\n",
       "      <th>total_calls</th>\n",
       "    </tr>\n",
       "  </thead>\n",
       "  <tbody>\n",
       "    <tr>\n",
       "      <th>0</th>\n",
       "      <td>1</td>\n",
       "      <td>1042</td>\n",
       "      <td>18</td>\n",
       "    </tr>\n",
       "    <tr>\n",
       "      <th>1</th>\n",
       "      <td>1</td>\n",
       "      <td>1077</td>\n",
       "      <td>42</td>\n",
       "    </tr>\n",
       "    <tr>\n",
       "      <th>2</th>\n",
       "      <td>1</td>\n",
       "      <td>1185</td>\n",
       "      <td>23</td>\n",
       "    </tr>\n",
       "    <tr>\n",
       "      <th>3</th>\n",
       "      <td>1</td>\n",
       "      <td>1196</td>\n",
       "      <td>42</td>\n",
       "    </tr>\n",
       "    <tr>\n",
       "      <th>4</th>\n",
       "      <td>1</td>\n",
       "      <td>1214</td>\n",
       "      <td>5</td>\n",
       "    </tr>\n",
       "    <tr>\n",
       "      <th>...</th>\n",
       "      <td>...</td>\n",
       "      <td>...</td>\n",
       "      <td>...</td>\n",
       "    </tr>\n",
       "    <tr>\n",
       "      <th>2253</th>\n",
       "      <td>12</td>\n",
       "      <td>1495</td>\n",
       "      <td>65</td>\n",
       "    </tr>\n",
       "    <tr>\n",
       "      <th>2254</th>\n",
       "      <td>12</td>\n",
       "      <td>1496</td>\n",
       "      <td>40</td>\n",
       "    </tr>\n",
       "    <tr>\n",
       "      <th>2255</th>\n",
       "      <td>12</td>\n",
       "      <td>1497</td>\n",
       "      <td>54</td>\n",
       "    </tr>\n",
       "    <tr>\n",
       "      <th>2256</th>\n",
       "      <td>12</td>\n",
       "      <td>1498</td>\n",
       "      <td>39</td>\n",
       "    </tr>\n",
       "    <tr>\n",
       "      <th>2257</th>\n",
       "      <td>12</td>\n",
       "      <td>1499</td>\n",
       "      <td>65</td>\n",
       "    </tr>\n",
       "  </tbody>\n",
       "</table>\n",
       "<p>2258 rows × 3 columns</p>\n",
       "</div>"
      ],
      "text/plain": [
       "      month  user_id  total_calls\n",
       "0         1     1042           18\n",
       "1         1     1077           42\n",
       "2         1     1185           23\n",
       "3         1     1196           42\n",
       "4         1     1214            5\n",
       "...     ...      ...          ...\n",
       "2253     12     1495           65\n",
       "2254     12     1496           40\n",
       "2255     12     1497           54\n",
       "2256     12     1498           39\n",
       "2257     12     1499           65\n",
       "\n",
       "[2258 rows x 3 columns]"
      ]
     },
     "execution_count": 23,
     "metadata": {},
     "output_type": "execute_result"
    }
   ],
   "source": [
    "# Calcula el número de llamadas hechas por cada usuario al mes. Guarda el resultado.\n",
    "\n",
    "calls_per_user = df_calls.groupby(['month', 'user_id'])['duration'].count().reset_index()\n",
    "calls_per_user.rename(columns = {'duration': 'total_calls'}, inplace = True)\n",
    "calls_per_user"
   ]
  },
  {
   "cell_type": "code",
   "execution_count": 24,
   "metadata": {
    "id": "aw2cmuql0q1G"
   },
   "outputs": [
    {
     "data": {
      "text/html": [
       "<div>\n",
       "<style scoped>\n",
       "    .dataframe tbody tr th:only-of-type {\n",
       "        vertical-align: middle;\n",
       "    }\n",
       "\n",
       "    .dataframe tbody tr th {\n",
       "        vertical-align: top;\n",
       "    }\n",
       "\n",
       "    .dataframe thead th {\n",
       "        text-align: right;\n",
       "    }\n",
       "</style>\n",
       "<table border=\"1\" class=\"dataframe\">\n",
       "  <thead>\n",
       "    <tr style=\"text-align: right;\">\n",
       "      <th></th>\n",
       "      <th>month</th>\n",
       "      <th>user_id</th>\n",
       "      <th>total_duration</th>\n",
       "    </tr>\n",
       "  </thead>\n",
       "  <tbody>\n",
       "    <tr>\n",
       "      <th>0</th>\n",
       "      <td>1</td>\n",
       "      <td>1042</td>\n",
       "      <td>114</td>\n",
       "    </tr>\n",
       "    <tr>\n",
       "      <th>1</th>\n",
       "      <td>1</td>\n",
       "      <td>1077</td>\n",
       "      <td>290</td>\n",
       "    </tr>\n",
       "    <tr>\n",
       "      <th>2</th>\n",
       "      <td>1</td>\n",
       "      <td>1185</td>\n",
       "      <td>181</td>\n",
       "    </tr>\n",
       "    <tr>\n",
       "      <th>3</th>\n",
       "      <td>1</td>\n",
       "      <td>1196</td>\n",
       "      <td>287</td>\n",
       "    </tr>\n",
       "    <tr>\n",
       "      <th>4</th>\n",
       "      <td>1</td>\n",
       "      <td>1214</td>\n",
       "      <td>16</td>\n",
       "    </tr>\n",
       "    <tr>\n",
       "      <th>...</th>\n",
       "      <td>...</td>\n",
       "      <td>...</td>\n",
       "      <td>...</td>\n",
       "    </tr>\n",
       "    <tr>\n",
       "      <th>2253</th>\n",
       "      <td>12</td>\n",
       "      <td>1495</td>\n",
       "      <td>492</td>\n",
       "    </tr>\n",
       "    <tr>\n",
       "      <th>2254</th>\n",
       "      <td>12</td>\n",
       "      <td>1496</td>\n",
       "      <td>294</td>\n",
       "    </tr>\n",
       "    <tr>\n",
       "      <th>2255</th>\n",
       "      <td>12</td>\n",
       "      <td>1497</td>\n",
       "      <td>300</td>\n",
       "    </tr>\n",
       "    <tr>\n",
       "      <th>2256</th>\n",
       "      <td>12</td>\n",
       "      <td>1498</td>\n",
       "      <td>339</td>\n",
       "    </tr>\n",
       "    <tr>\n",
       "      <th>2257</th>\n",
       "      <td>12</td>\n",
       "      <td>1499</td>\n",
       "      <td>496</td>\n",
       "    </tr>\n",
       "  </tbody>\n",
       "</table>\n",
       "<p>2258 rows × 3 columns</p>\n",
       "</div>"
      ],
      "text/plain": [
       "      month  user_id  total_duration\n",
       "0         1     1042             114\n",
       "1         1     1077             290\n",
       "2         1     1185             181\n",
       "3         1     1196             287\n",
       "4         1     1214              16\n",
       "...     ...      ...             ...\n",
       "2253     12     1495             492\n",
       "2254     12     1496             294\n",
       "2255     12     1497             300\n",
       "2256     12     1498             339\n",
       "2257     12     1499             496\n",
       "\n",
       "[2258 rows x 3 columns]"
      ]
     },
     "execution_count": 24,
     "metadata": {},
     "output_type": "execute_result"
    }
   ],
   "source": [
    "# Calcula la cantidad de minutos usados por cada usuario al mes. Guarda el resultado.\n",
    "\n",
    "minutes_per_user = df_calls.groupby(['month', 'user_id'])['duration'].sum().reset_index()\n",
    "minutes_per_user.rename(columns = {'duration': 'total_duration'}, inplace = True) \n",
    "minutes_per_user"
   ]
  },
  {
   "cell_type": "code",
   "execution_count": 25,
   "metadata": {
    "id": "CcQvNHn60q1G"
   },
   "outputs": [
    {
     "data": {
      "text/html": [
       "<div>\n",
       "<style scoped>\n",
       "    .dataframe tbody tr th:only-of-type {\n",
       "        vertical-align: middle;\n",
       "    }\n",
       "\n",
       "    .dataframe tbody tr th {\n",
       "        vertical-align: top;\n",
       "    }\n",
       "\n",
       "    .dataframe thead th {\n",
       "        text-align: right;\n",
       "    }\n",
       "</style>\n",
       "<table border=\"1\" class=\"dataframe\">\n",
       "  <thead>\n",
       "    <tr style=\"text-align: right;\">\n",
       "      <th></th>\n",
       "      <th>month</th>\n",
       "      <th>user_id</th>\n",
       "      <th>total_messages</th>\n",
       "    </tr>\n",
       "  </thead>\n",
       "  <tbody>\n",
       "    <tr>\n",
       "      <th>0</th>\n",
       "      <td>1</td>\n",
       "      <td>1077</td>\n",
       "      <td>37</td>\n",
       "    </tr>\n",
       "    <tr>\n",
       "      <th>1</th>\n",
       "      <td>1</td>\n",
       "      <td>1196</td>\n",
       "      <td>23</td>\n",
       "    </tr>\n",
       "    <tr>\n",
       "      <th>2</th>\n",
       "      <td>1</td>\n",
       "      <td>1214</td>\n",
       "      <td>2</td>\n",
       "    </tr>\n",
       "    <tr>\n",
       "      <th>3</th>\n",
       "      <td>1</td>\n",
       "      <td>1362</td>\n",
       "      <td>21</td>\n",
       "    </tr>\n",
       "    <tr>\n",
       "      <th>4</th>\n",
       "      <td>2</td>\n",
       "      <td>1028</td>\n",
       "      <td>12</td>\n",
       "    </tr>\n",
       "    <tr>\n",
       "      <th>...</th>\n",
       "      <td>...</td>\n",
       "      <td>...</td>\n",
       "      <td>...</td>\n",
       "    </tr>\n",
       "    <tr>\n",
       "      <th>1801</th>\n",
       "      <td>12</td>\n",
       "      <td>1491</td>\n",
       "      <td>43</td>\n",
       "    </tr>\n",
       "    <tr>\n",
       "      <th>1802</th>\n",
       "      <td>12</td>\n",
       "      <td>1492</td>\n",
       "      <td>37</td>\n",
       "    </tr>\n",
       "    <tr>\n",
       "      <th>1803</th>\n",
       "      <td>12</td>\n",
       "      <td>1494</td>\n",
       "      <td>33</td>\n",
       "    </tr>\n",
       "    <tr>\n",
       "      <th>1804</th>\n",
       "      <td>12</td>\n",
       "      <td>1496</td>\n",
       "      <td>11</td>\n",
       "    </tr>\n",
       "    <tr>\n",
       "      <th>1805</th>\n",
       "      <td>12</td>\n",
       "      <td>1497</td>\n",
       "      <td>50</td>\n",
       "    </tr>\n",
       "  </tbody>\n",
       "</table>\n",
       "<p>1806 rows × 3 columns</p>\n",
       "</div>"
      ],
      "text/plain": [
       "      month  user_id  total_messages\n",
       "0         1     1077              37\n",
       "1         1     1196              23\n",
       "2         1     1214               2\n",
       "3         1     1362              21\n",
       "4         2     1028              12\n",
       "...     ...      ...             ...\n",
       "1801     12     1491              43\n",
       "1802     12     1492              37\n",
       "1803     12     1494              33\n",
       "1804     12     1496              11\n",
       "1805     12     1497              50\n",
       "\n",
       "[1806 rows x 3 columns]"
      ]
     },
     "execution_count": 25,
     "metadata": {},
     "output_type": "execute_result"
    }
   ],
   "source": [
    "# Calcula el número de mensajes enviados por cada usuario al mes. Guarda el resultado.\n",
    "\n",
    "messages_per_user = df_messages.groupby(['month', 'user_id'])['message_date'].count().reset_index()\n",
    "messages_per_user.rename(columns = {'message_date': 'total_messages'}, inplace = True)\n",
    "messages_per_user"
   ]
  },
  {
   "cell_type": "code",
   "execution_count": 26,
   "metadata": {
    "id": "H1AqN2eG0q1H"
   },
   "outputs": [
    {
     "data": {
      "text/html": [
       "<div>\n",
       "<style scoped>\n",
       "    .dataframe tbody tr th:only-of-type {\n",
       "        vertical-align: middle;\n",
       "    }\n",
       "\n",
       "    .dataframe tbody tr th {\n",
       "        vertical-align: top;\n",
       "    }\n",
       "\n",
       "    .dataframe thead th {\n",
       "        text-align: right;\n",
       "    }\n",
       "</style>\n",
       "<table border=\"1\" class=\"dataframe\">\n",
       "  <thead>\n",
       "    <tr style=\"text-align: right;\">\n",
       "      <th></th>\n",
       "      <th>month</th>\n",
       "      <th>user_id</th>\n",
       "      <th>gb_used</th>\n",
       "    </tr>\n",
       "  </thead>\n",
       "  <tbody>\n",
       "    <tr>\n",
       "      <th>0</th>\n",
       "      <td>1</td>\n",
       "      <td>1042</td>\n",
       "      <td>2</td>\n",
       "    </tr>\n",
       "    <tr>\n",
       "      <th>1</th>\n",
       "      <td>1</td>\n",
       "      <td>1077</td>\n",
       "      <td>11</td>\n",
       "    </tr>\n",
       "    <tr>\n",
       "      <th>2</th>\n",
       "      <td>1</td>\n",
       "      <td>1185</td>\n",
       "      <td>7</td>\n",
       "    </tr>\n",
       "    <tr>\n",
       "      <th>3</th>\n",
       "      <td>1</td>\n",
       "      <td>1196</td>\n",
       "      <td>9</td>\n",
       "    </tr>\n",
       "    <tr>\n",
       "      <th>4</th>\n",
       "      <td>1</td>\n",
       "      <td>1214</td>\n",
       "      <td>2</td>\n",
       "    </tr>\n",
       "    <tr>\n",
       "      <th>...</th>\n",
       "      <td>...</td>\n",
       "      <td>...</td>\n",
       "      <td>...</td>\n",
       "    </tr>\n",
       "    <tr>\n",
       "      <th>2272</th>\n",
       "      <td>12</td>\n",
       "      <td>1495</td>\n",
       "      <td>24</td>\n",
       "    </tr>\n",
       "    <tr>\n",
       "      <th>2273</th>\n",
       "      <td>12</td>\n",
       "      <td>1496</td>\n",
       "      <td>17</td>\n",
       "    </tr>\n",
       "    <tr>\n",
       "      <th>2274</th>\n",
       "      <td>12</td>\n",
       "      <td>1497</td>\n",
       "      <td>11</td>\n",
       "    </tr>\n",
       "    <tr>\n",
       "      <th>2275</th>\n",
       "      <td>12</td>\n",
       "      <td>1498</td>\n",
       "      <td>23</td>\n",
       "    </tr>\n",
       "    <tr>\n",
       "      <th>2276</th>\n",
       "      <td>12</td>\n",
       "      <td>1499</td>\n",
       "      <td>22</td>\n",
       "    </tr>\n",
       "  </tbody>\n",
       "</table>\n",
       "<p>2277 rows × 3 columns</p>\n",
       "</div>"
      ],
      "text/plain": [
       "      month  user_id  gb_used\n",
       "0         1     1042        2\n",
       "1         1     1077       11\n",
       "2         1     1185        7\n",
       "3         1     1196        9\n",
       "4         1     1214        2\n",
       "...     ...      ...      ...\n",
       "2272     12     1495       24\n",
       "2273     12     1496       17\n",
       "2274     12     1497       11\n",
       "2275     12     1498       23\n",
       "2276     12     1499       22\n",
       "\n",
       "[2277 rows x 3 columns]"
      ]
     },
     "execution_count": 26,
     "metadata": {},
     "output_type": "execute_result"
    }
   ],
   "source": [
    "# Calcula el volumen del tráfico de Internet usado por cada usuario al mes. Guarda el resultado.\n",
    "\n",
    "# Dado que la tarifa de internet se redondea a una cantidad entera de GB al final del mes, se realiza el cálculo correspondiente:\n",
    "internet_per_user = np.ceil(df_internet.groupby(['month', 'user_id'])['mb_used'].sum() / 1024).astype(int).reset_index()\n",
    "internet_per_user.rename(columns = {'mb_used': 'gb_used'}, inplace = True)\n",
    "internet_per_user"
   ]
  },
  {
   "cell_type": "code",
   "execution_count": 27,
   "metadata": {
    "id": "FW99ykyf0q1H"
   },
   "outputs": [
    {
     "data": {
      "text/html": [
       "<div>\n",
       "<style scoped>\n",
       "    .dataframe tbody tr th:only-of-type {\n",
       "        vertical-align: middle;\n",
       "    }\n",
       "\n",
       "    .dataframe tbody tr th {\n",
       "        vertical-align: top;\n",
       "    }\n",
       "\n",
       "    .dataframe thead th {\n",
       "        text-align: right;\n",
       "    }\n",
       "</style>\n",
       "<table border=\"1\" class=\"dataframe\">\n",
       "  <thead>\n",
       "    <tr style=\"text-align: right;\">\n",
       "      <th></th>\n",
       "      <th>month</th>\n",
       "      <th>user_id</th>\n",
       "      <th>total_calls</th>\n",
       "      <th>total_duration</th>\n",
       "      <th>total_messages</th>\n",
       "      <th>gb_used</th>\n",
       "    </tr>\n",
       "  </thead>\n",
       "  <tbody>\n",
       "    <tr>\n",
       "      <th>0</th>\n",
       "      <td>1</td>\n",
       "      <td>1042</td>\n",
       "      <td>18.0</td>\n",
       "      <td>114.0</td>\n",
       "      <td>NaN</td>\n",
       "      <td>2.0</td>\n",
       "    </tr>\n",
       "    <tr>\n",
       "      <th>1</th>\n",
       "      <td>1</td>\n",
       "      <td>1077</td>\n",
       "      <td>42.0</td>\n",
       "      <td>290.0</td>\n",
       "      <td>37.0</td>\n",
       "      <td>11.0</td>\n",
       "    </tr>\n",
       "    <tr>\n",
       "      <th>2</th>\n",
       "      <td>1</td>\n",
       "      <td>1185</td>\n",
       "      <td>23.0</td>\n",
       "      <td>181.0</td>\n",
       "      <td>NaN</td>\n",
       "      <td>7.0</td>\n",
       "    </tr>\n",
       "    <tr>\n",
       "      <th>3</th>\n",
       "      <td>1</td>\n",
       "      <td>1196</td>\n",
       "      <td>42.0</td>\n",
       "      <td>287.0</td>\n",
       "      <td>23.0</td>\n",
       "      <td>9.0</td>\n",
       "    </tr>\n",
       "    <tr>\n",
       "      <th>4</th>\n",
       "      <td>1</td>\n",
       "      <td>1214</td>\n",
       "      <td>5.0</td>\n",
       "      <td>16.0</td>\n",
       "      <td>2.0</td>\n",
       "      <td>2.0</td>\n",
       "    </tr>\n",
       "    <tr>\n",
       "      <th>...</th>\n",
       "      <td>...</td>\n",
       "      <td>...</td>\n",
       "      <td>...</td>\n",
       "      <td>...</td>\n",
       "      <td>...</td>\n",
       "      <td>...</td>\n",
       "    </tr>\n",
       "    <tr>\n",
       "      <th>2288</th>\n",
       "      <td>12</td>\n",
       "      <td>1194</td>\n",
       "      <td>NaN</td>\n",
       "      <td>NaN</td>\n",
       "      <td>56.0</td>\n",
       "      <td>31.0</td>\n",
       "    </tr>\n",
       "    <tr>\n",
       "      <th>2289</th>\n",
       "      <td>12</td>\n",
       "      <td>1204</td>\n",
       "      <td>NaN</td>\n",
       "      <td>NaN</td>\n",
       "      <td>78.0</td>\n",
       "      <td>36.0</td>\n",
       "    </tr>\n",
       "    <tr>\n",
       "      <th>2290</th>\n",
       "      <td>12</td>\n",
       "      <td>1349</td>\n",
       "      <td>NaN</td>\n",
       "      <td>NaN</td>\n",
       "      <td>61.0</td>\n",
       "      <td>13.0</td>\n",
       "    </tr>\n",
       "    <tr>\n",
       "      <th>2291</th>\n",
       "      <td>6</td>\n",
       "      <td>1311</td>\n",
       "      <td>NaN</td>\n",
       "      <td>NaN</td>\n",
       "      <td>NaN</td>\n",
       "      <td>2.0</td>\n",
       "    </tr>\n",
       "    <tr>\n",
       "      <th>2292</th>\n",
       "      <td>12</td>\n",
       "      <td>1108</td>\n",
       "      <td>NaN</td>\n",
       "      <td>NaN</td>\n",
       "      <td>NaN</td>\n",
       "      <td>1.0</td>\n",
       "    </tr>\n",
       "  </tbody>\n",
       "</table>\n",
       "<p>2293 rows × 6 columns</p>\n",
       "</div>"
      ],
      "text/plain": [
       "      month  user_id  total_calls  total_duration  total_messages  gb_used\n",
       "0         1     1042         18.0           114.0             NaN      2.0\n",
       "1         1     1077         42.0           290.0            37.0     11.0\n",
       "2         1     1185         23.0           181.0             NaN      7.0\n",
       "3         1     1196         42.0           287.0            23.0      9.0\n",
       "4         1     1214          5.0            16.0             2.0      2.0\n",
       "...     ...      ...          ...             ...             ...      ...\n",
       "2288     12     1194          NaN             NaN            56.0     31.0\n",
       "2289     12     1204          NaN             NaN            78.0     36.0\n",
       "2290     12     1349          NaN             NaN            61.0     13.0\n",
       "2291      6     1311          NaN             NaN             NaN      2.0\n",
       "2292     12     1108          NaN             NaN             NaN      1.0\n",
       "\n",
       "[2293 rows x 6 columns]"
      ]
     },
     "execution_count": 27,
     "metadata": {},
     "output_type": "execute_result"
    }
   ],
   "source": [
    "# Fusiona los datos de llamadas, minutos, mensajes e Internet con base en user_id y month\n",
    "\n",
    "total_per_user = calls_per_user.merge(minutes_per_user, how = 'outer', on = ['month', 'user_id'])\n",
    "total_per_user = total_per_user.merge(messages_per_user, how = 'outer', on = ['month', 'user_id'])\n",
    "total_per_user = total_per_user.merge(internet_per_user, how = 'outer', on = ['month', 'user_id'])\n",
    "total_per_user"
   ]
  },
  {
   "cell_type": "code",
   "execution_count": 28,
   "metadata": {},
   "outputs": [],
   "source": [
    "# Se llenan los valores ausentes:\n",
    "\n",
    "total_per_user['total_calls'].fillna(0, inplace = True)\n",
    "total_per_user['total_duration'].fillna(0, inplace = True)\n",
    "total_per_user['total_messages'].fillna(0, inplace = True)\n",
    "total_per_user['gb_used'].fillna(0, inplace = True)"
   ]
  },
  {
   "cell_type": "code",
   "execution_count": 29,
   "metadata": {
    "id": "0dNOXHag0q1H"
   },
   "outputs": [
    {
     "data": {
      "text/html": [
       "<div>\n",
       "<style scoped>\n",
       "    .dataframe tbody tr th:only-of-type {\n",
       "        vertical-align: middle;\n",
       "    }\n",
       "\n",
       "    .dataframe tbody tr th {\n",
       "        vertical-align: top;\n",
       "    }\n",
       "\n",
       "    .dataframe thead th {\n",
       "        text-align: right;\n",
       "    }\n",
       "</style>\n",
       "<table border=\"1\" class=\"dataframe\">\n",
       "  <thead>\n",
       "    <tr style=\"text-align: right;\">\n",
       "      <th></th>\n",
       "      <th>month</th>\n",
       "      <th>user_id</th>\n",
       "      <th>total_calls</th>\n",
       "      <th>total_duration</th>\n",
       "      <th>total_messages</th>\n",
       "      <th>gb_used</th>\n",
       "      <th>first_name</th>\n",
       "      <th>last_name</th>\n",
       "      <th>age</th>\n",
       "      <th>city</th>\n",
       "      <th>reg_date</th>\n",
       "      <th>plan</th>\n",
       "      <th>churn_date</th>\n",
       "      <th>messages_included</th>\n",
       "      <th>gb_per_month_included</th>\n",
       "      <th>minutes_included</th>\n",
       "      <th>usd_monthly_pay</th>\n",
       "      <th>usd_per_gb</th>\n",
       "      <th>usd_per_message</th>\n",
       "      <th>usd_per_minute</th>\n",
       "    </tr>\n",
       "  </thead>\n",
       "  <tbody>\n",
       "    <tr>\n",
       "      <th>0</th>\n",
       "      <td>1</td>\n",
       "      <td>1042</td>\n",
       "      <td>18.0</td>\n",
       "      <td>114.0</td>\n",
       "      <td>0.0</td>\n",
       "      <td>2.0</td>\n",
       "      <td>Clementina</td>\n",
       "      <td>Mclaughlin</td>\n",
       "      <td>40</td>\n",
       "      <td>Philadelphia-Camden-Wilmington, PA-NJ-DE-MD MSA</td>\n",
       "      <td>2018-01-15</td>\n",
       "      <td>surf</td>\n",
       "      <td>NaT</td>\n",
       "      <td>50</td>\n",
       "      <td>15</td>\n",
       "      <td>500</td>\n",
       "      <td>20</td>\n",
       "      <td>10</td>\n",
       "      <td>0.03</td>\n",
       "      <td>0.03</td>\n",
       "    </tr>\n",
       "    <tr>\n",
       "      <th>1</th>\n",
       "      <td>1</td>\n",
       "      <td>1362</td>\n",
       "      <td>42.0</td>\n",
       "      <td>292.0</td>\n",
       "      <td>21.0</td>\n",
       "      <td>8.0</td>\n",
       "      <td>Kenyetta</td>\n",
       "      <td>Mcknight</td>\n",
       "      <td>65</td>\n",
       "      <td>Denver-Aurora-Lakewood, CO MSA</td>\n",
       "      <td>2018-01-18</td>\n",
       "      <td>surf</td>\n",
       "      <td>NaT</td>\n",
       "      <td>50</td>\n",
       "      <td>15</td>\n",
       "      <td>500</td>\n",
       "      <td>20</td>\n",
       "      <td>10</td>\n",
       "      <td>0.03</td>\n",
       "      <td>0.03</td>\n",
       "    </tr>\n",
       "    <tr>\n",
       "      <th>2</th>\n",
       "      <td>2</td>\n",
       "      <td>1042</td>\n",
       "      <td>37.0</td>\n",
       "      <td>254.0</td>\n",
       "      <td>0.0</td>\n",
       "      <td>7.0</td>\n",
       "      <td>Clementina</td>\n",
       "      <td>Mclaughlin</td>\n",
       "      <td>40</td>\n",
       "      <td>Philadelphia-Camden-Wilmington, PA-NJ-DE-MD MSA</td>\n",
       "      <td>2018-01-15</td>\n",
       "      <td>surf</td>\n",
       "      <td>NaT</td>\n",
       "      <td>50</td>\n",
       "      <td>15</td>\n",
       "      <td>500</td>\n",
       "      <td>20</td>\n",
       "      <td>10</td>\n",
       "      <td>0.03</td>\n",
       "      <td>0.03</td>\n",
       "    </tr>\n",
       "    <tr>\n",
       "      <th>3</th>\n",
       "      <td>2</td>\n",
       "      <td>1099</td>\n",
       "      <td>7.0</td>\n",
       "      <td>39.0</td>\n",
       "      <td>3.0</td>\n",
       "      <td>1.0</td>\n",
       "      <td>Shavon</td>\n",
       "      <td>Banks</td>\n",
       "      <td>48</td>\n",
       "      <td>New York-Newark-Jersey City, NY-NJ-PA MSA</td>\n",
       "      <td>2018-02-26</td>\n",
       "      <td>surf</td>\n",
       "      <td>NaT</td>\n",
       "      <td>50</td>\n",
       "      <td>15</td>\n",
       "      <td>500</td>\n",
       "      <td>20</td>\n",
       "      <td>10</td>\n",
       "      <td>0.03</td>\n",
       "      <td>0.03</td>\n",
       "    </tr>\n",
       "    <tr>\n",
       "      <th>4</th>\n",
       "      <td>2</td>\n",
       "      <td>1138</td>\n",
       "      <td>42.0</td>\n",
       "      <td>307.0</td>\n",
       "      <td>7.0</td>\n",
       "      <td>16.0</td>\n",
       "      <td>Arlie</td>\n",
       "      <td>Higgins</td>\n",
       "      <td>66</td>\n",
       "      <td>Riverside-San Bernardino-Ontario, CA MSA</td>\n",
       "      <td>2018-02-06</td>\n",
       "      <td>surf</td>\n",
       "      <td>NaT</td>\n",
       "      <td>50</td>\n",
       "      <td>15</td>\n",
       "      <td>500</td>\n",
       "      <td>20</td>\n",
       "      <td>10</td>\n",
       "      <td>0.03</td>\n",
       "      <td>0.03</td>\n",
       "    </tr>\n",
       "    <tr>\n",
       "      <th>...</th>\n",
       "      <td>...</td>\n",
       "      <td>...</td>\n",
       "      <td>...</td>\n",
       "      <td>...</td>\n",
       "      <td>...</td>\n",
       "      <td>...</td>\n",
       "      <td>...</td>\n",
       "      <td>...</td>\n",
       "      <td>...</td>\n",
       "      <td>...</td>\n",
       "      <td>...</td>\n",
       "      <td>...</td>\n",
       "      <td>...</td>\n",
       "      <td>...</td>\n",
       "      <td>...</td>\n",
       "      <td>...</td>\n",
       "      <td>...</td>\n",
       "      <td>...</td>\n",
       "      <td>...</td>\n",
       "      <td>...</td>\n",
       "    </tr>\n",
       "    <tr>\n",
       "      <th>2288</th>\n",
       "      <td>10</td>\n",
       "      <td>1482</td>\n",
       "      <td>0.0</td>\n",
       "      <td>0.0</td>\n",
       "      <td>2.0</td>\n",
       "      <td>0.0</td>\n",
       "      <td>Armand</td>\n",
       "      <td>Glenn</td>\n",
       "      <td>70</td>\n",
       "      <td>New York-Newark-Jersey City, NY-NJ-PA MSA</td>\n",
       "      <td>2018-01-01</td>\n",
       "      <td>ultimate</td>\n",
       "      <td>NaT</td>\n",
       "      <td>1000</td>\n",
       "      <td>30</td>\n",
       "      <td>3000</td>\n",
       "      <td>70</td>\n",
       "      <td>7</td>\n",
       "      <td>0.01</td>\n",
       "      <td>0.01</td>\n",
       "    </tr>\n",
       "    <tr>\n",
       "      <th>2289</th>\n",
       "      <td>11</td>\n",
       "      <td>1204</td>\n",
       "      <td>0.0</td>\n",
       "      <td>0.0</td>\n",
       "      <td>42.0</td>\n",
       "      <td>21.0</td>\n",
       "      <td>Sherly</td>\n",
       "      <td>Levy</td>\n",
       "      <td>44</td>\n",
       "      <td>Chicago-Naperville-Elgin, IL-IN-WI MSA</td>\n",
       "      <td>2018-08-20</td>\n",
       "      <td>ultimate</td>\n",
       "      <td>NaT</td>\n",
       "      <td>1000</td>\n",
       "      <td>30</td>\n",
       "      <td>3000</td>\n",
       "      <td>70</td>\n",
       "      <td>7</td>\n",
       "      <td>0.01</td>\n",
       "      <td>0.01</td>\n",
       "    </tr>\n",
       "    <tr>\n",
       "      <th>2290</th>\n",
       "      <td>12</td>\n",
       "      <td>1204</td>\n",
       "      <td>0.0</td>\n",
       "      <td>0.0</td>\n",
       "      <td>78.0</td>\n",
       "      <td>36.0</td>\n",
       "      <td>Sherly</td>\n",
       "      <td>Levy</td>\n",
       "      <td>44</td>\n",
       "      <td>Chicago-Naperville-Elgin, IL-IN-WI MSA</td>\n",
       "      <td>2018-08-20</td>\n",
       "      <td>ultimate</td>\n",
       "      <td>NaT</td>\n",
       "      <td>1000</td>\n",
       "      <td>30</td>\n",
       "      <td>3000</td>\n",
       "      <td>70</td>\n",
       "      <td>7</td>\n",
       "      <td>0.01</td>\n",
       "      <td>0.01</td>\n",
       "    </tr>\n",
       "    <tr>\n",
       "      <th>2291</th>\n",
       "      <td>6</td>\n",
       "      <td>1311</td>\n",
       "      <td>0.0</td>\n",
       "      <td>0.0</td>\n",
       "      <td>0.0</td>\n",
       "      <td>2.0</td>\n",
       "      <td>Cherlyn</td>\n",
       "      <td>Saunders</td>\n",
       "      <td>69</td>\n",
       "      <td>Memphis, TN-MS-AR MSA</td>\n",
       "      <td>2018-06-27</td>\n",
       "      <td>ultimate</td>\n",
       "      <td>NaT</td>\n",
       "      <td>1000</td>\n",
       "      <td>30</td>\n",
       "      <td>3000</td>\n",
       "      <td>70</td>\n",
       "      <td>7</td>\n",
       "      <td>0.01</td>\n",
       "      <td>0.01</td>\n",
       "    </tr>\n",
       "    <tr>\n",
       "      <th>2292</th>\n",
       "      <td>12</td>\n",
       "      <td>1108</td>\n",
       "      <td>0.0</td>\n",
       "      <td>0.0</td>\n",
       "      <td>0.0</td>\n",
       "      <td>1.0</td>\n",
       "      <td>Porfirio</td>\n",
       "      <td>Kane</td>\n",
       "      <td>45</td>\n",
       "      <td>Salt Lake City, UT MSA</td>\n",
       "      <td>2018-12-30</td>\n",
       "      <td>ultimate</td>\n",
       "      <td>NaT</td>\n",
       "      <td>1000</td>\n",
       "      <td>30</td>\n",
       "      <td>3000</td>\n",
       "      <td>70</td>\n",
       "      <td>7</td>\n",
       "      <td>0.01</td>\n",
       "      <td>0.01</td>\n",
       "    </tr>\n",
       "  </tbody>\n",
       "</table>\n",
       "<p>2293 rows × 20 columns</p>\n",
       "</div>"
      ],
      "text/plain": [
       "      month  user_id  total_calls  total_duration  total_messages  gb_used  \\\n",
       "0         1     1042         18.0           114.0             0.0      2.0   \n",
       "1         1     1362         42.0           292.0            21.0      8.0   \n",
       "2         2     1042         37.0           254.0             0.0      7.0   \n",
       "3         2     1099          7.0            39.0             3.0      1.0   \n",
       "4         2     1138         42.0           307.0             7.0     16.0   \n",
       "...     ...      ...          ...             ...             ...      ...   \n",
       "2288     10     1482          0.0             0.0             2.0      0.0   \n",
       "2289     11     1204          0.0             0.0            42.0     21.0   \n",
       "2290     12     1204          0.0             0.0            78.0     36.0   \n",
       "2291      6     1311          0.0             0.0             0.0      2.0   \n",
       "2292     12     1108          0.0             0.0             0.0      1.0   \n",
       "\n",
       "      first_name   last_name  age  \\\n",
       "0     Clementina  Mclaughlin   40   \n",
       "1       Kenyetta    Mcknight   65   \n",
       "2     Clementina  Mclaughlin   40   \n",
       "3         Shavon       Banks   48   \n",
       "4          Arlie     Higgins   66   \n",
       "...          ...         ...  ...   \n",
       "2288      Armand       Glenn   70   \n",
       "2289      Sherly        Levy   44   \n",
       "2290      Sherly        Levy   44   \n",
       "2291     Cherlyn    Saunders   69   \n",
       "2292    Porfirio        Kane   45   \n",
       "\n",
       "                                                 city   reg_date      plan  \\\n",
       "0     Philadelphia-Camden-Wilmington, PA-NJ-DE-MD MSA 2018-01-15      surf   \n",
       "1                      Denver-Aurora-Lakewood, CO MSA 2018-01-18      surf   \n",
       "2     Philadelphia-Camden-Wilmington, PA-NJ-DE-MD MSA 2018-01-15      surf   \n",
       "3           New York-Newark-Jersey City, NY-NJ-PA MSA 2018-02-26      surf   \n",
       "4            Riverside-San Bernardino-Ontario, CA MSA 2018-02-06      surf   \n",
       "...                                               ...        ...       ...   \n",
       "2288        New York-Newark-Jersey City, NY-NJ-PA MSA 2018-01-01  ultimate   \n",
       "2289           Chicago-Naperville-Elgin, IL-IN-WI MSA 2018-08-20  ultimate   \n",
       "2290           Chicago-Naperville-Elgin, IL-IN-WI MSA 2018-08-20  ultimate   \n",
       "2291                            Memphis, TN-MS-AR MSA 2018-06-27  ultimate   \n",
       "2292                           Salt Lake City, UT MSA 2018-12-30  ultimate   \n",
       "\n",
       "     churn_date  messages_included  gb_per_month_included  minutes_included  \\\n",
       "0           NaT                 50                     15               500   \n",
       "1           NaT                 50                     15               500   \n",
       "2           NaT                 50                     15               500   \n",
       "3           NaT                 50                     15               500   \n",
       "4           NaT                 50                     15               500   \n",
       "...         ...                ...                    ...               ...   \n",
       "2288        NaT               1000                     30              3000   \n",
       "2289        NaT               1000                     30              3000   \n",
       "2290        NaT               1000                     30              3000   \n",
       "2291        NaT               1000                     30              3000   \n",
       "2292        NaT               1000                     30              3000   \n",
       "\n",
       "      usd_monthly_pay  usd_per_gb  usd_per_message  usd_per_minute  \n",
       "0                  20          10             0.03            0.03  \n",
       "1                  20          10             0.03            0.03  \n",
       "2                  20          10             0.03            0.03  \n",
       "3                  20          10             0.03            0.03  \n",
       "4                  20          10             0.03            0.03  \n",
       "...               ...         ...              ...             ...  \n",
       "2288               70           7             0.01            0.01  \n",
       "2289               70           7             0.01            0.01  \n",
       "2290               70           7             0.01            0.01  \n",
       "2291               70           7             0.01            0.01  \n",
       "2292               70           7             0.01            0.01  \n",
       "\n",
       "[2293 rows x 20 columns]"
      ]
     },
     "execution_count": 29,
     "metadata": {},
     "output_type": "execute_result"
    }
   ],
   "source": [
    "# Añade la información de la tarifa\n",
    "\n",
    "total_per_user = total_per_user.merge(df_users, how = 'left', on = 'user_id')\n",
    "total_per_user = total_per_user.merge(df_plans, how = 'outer', on = 'plan')\n",
    "total_per_user"
   ]
  },
  {
   "cell_type": "code",
   "execution_count": 72,
   "metadata": {
    "id": "5FGCf_c60q1I",
    "scrolled": true
   },
   "outputs": [
    {
     "data": {
      "text/html": [
       "<div>\n",
       "<style scoped>\n",
       "    .dataframe tbody tr th:only-of-type {\n",
       "        vertical-align: middle;\n",
       "    }\n",
       "\n",
       "    .dataframe tbody tr th {\n",
       "        vertical-align: top;\n",
       "    }\n",
       "\n",
       "    .dataframe thead th {\n",
       "        text-align: right;\n",
       "    }\n",
       "</style>\n",
       "<table border=\"1\" class=\"dataframe\">\n",
       "  <thead>\n",
       "    <tr style=\"text-align: right;\">\n",
       "      <th></th>\n",
       "      <th>month</th>\n",
       "      <th>user_id</th>\n",
       "      <th>total_calls</th>\n",
       "      <th>total_duration</th>\n",
       "      <th>total_messages</th>\n",
       "      <th>gb_used</th>\n",
       "      <th>first_name</th>\n",
       "      <th>last_name</th>\n",
       "      <th>age</th>\n",
       "      <th>city</th>\n",
       "      <th>...</th>\n",
       "      <th>gb_per_month_included</th>\n",
       "      <th>minutes_included</th>\n",
       "      <th>usd_monthly_pay</th>\n",
       "      <th>usd_per_gb</th>\n",
       "      <th>usd_per_message</th>\n",
       "      <th>usd_per_minute</th>\n",
       "      <th>price_calls</th>\n",
       "      <th>price_messages</th>\n",
       "      <th>price_internet</th>\n",
       "      <th>total_price</th>\n",
       "    </tr>\n",
       "  </thead>\n",
       "  <tbody>\n",
       "    <tr>\n",
       "      <th>0</th>\n",
       "      <td>1</td>\n",
       "      <td>1042</td>\n",
       "      <td>18</td>\n",
       "      <td>114</td>\n",
       "      <td>0</td>\n",
       "      <td>2</td>\n",
       "      <td>Clementina</td>\n",
       "      <td>Mclaughlin</td>\n",
       "      <td>40</td>\n",
       "      <td>Philadelphia-Camden-Wilmington, PA-NJ-DE-MD MSA</td>\n",
       "      <td>...</td>\n",
       "      <td>15</td>\n",
       "      <td>500</td>\n",
       "      <td>20</td>\n",
       "      <td>10</td>\n",
       "      <td>0.03</td>\n",
       "      <td>0.03</td>\n",
       "      <td>0.0</td>\n",
       "      <td>0.0</td>\n",
       "      <td>0.0</td>\n",
       "      <td>20.0</td>\n",
       "    </tr>\n",
       "    <tr>\n",
       "      <th>1</th>\n",
       "      <td>1</td>\n",
       "      <td>1077</td>\n",
       "      <td>42</td>\n",
       "      <td>290</td>\n",
       "      <td>37</td>\n",
       "      <td>11</td>\n",
       "      <td>Chau</td>\n",
       "      <td>Webster</td>\n",
       "      <td>23</td>\n",
       "      <td>Charlotte-Concord-Gastonia, NC-SC MSA</td>\n",
       "      <td>...</td>\n",
       "      <td>30</td>\n",
       "      <td>3000</td>\n",
       "      <td>70</td>\n",
       "      <td>7</td>\n",
       "      <td>0.01</td>\n",
       "      <td>0.01</td>\n",
       "      <td>0.0</td>\n",
       "      <td>0.0</td>\n",
       "      <td>0.0</td>\n",
       "      <td>70.0</td>\n",
       "    </tr>\n",
       "    <tr>\n",
       "      <th>2</th>\n",
       "      <td>1</td>\n",
       "      <td>1185</td>\n",
       "      <td>23</td>\n",
       "      <td>181</td>\n",
       "      <td>0</td>\n",
       "      <td>7</td>\n",
       "      <td>Loria</td>\n",
       "      <td>Freeman</td>\n",
       "      <td>47</td>\n",
       "      <td>Louisville/Jefferson County, KY-IN MSA</td>\n",
       "      <td>...</td>\n",
       "      <td>30</td>\n",
       "      <td>3000</td>\n",
       "      <td>70</td>\n",
       "      <td>7</td>\n",
       "      <td>0.01</td>\n",
       "      <td>0.01</td>\n",
       "      <td>0.0</td>\n",
       "      <td>0.0</td>\n",
       "      <td>0.0</td>\n",
       "      <td>70.0</td>\n",
       "    </tr>\n",
       "    <tr>\n",
       "      <th>3</th>\n",
       "      <td>1</td>\n",
       "      <td>1196</td>\n",
       "      <td>42</td>\n",
       "      <td>287</td>\n",
       "      <td>23</td>\n",
       "      <td>9</td>\n",
       "      <td>Noel</td>\n",
       "      <td>Dawson</td>\n",
       "      <td>46</td>\n",
       "      <td>Los Angeles-Long Beach-Anaheim, CA MSA</td>\n",
       "      <td>...</td>\n",
       "      <td>30</td>\n",
       "      <td>3000</td>\n",
       "      <td>70</td>\n",
       "      <td>7</td>\n",
       "      <td>0.01</td>\n",
       "      <td>0.01</td>\n",
       "      <td>0.0</td>\n",
       "      <td>0.0</td>\n",
       "      <td>0.0</td>\n",
       "      <td>70.0</td>\n",
       "    </tr>\n",
       "    <tr>\n",
       "      <th>4</th>\n",
       "      <td>1</td>\n",
       "      <td>1214</td>\n",
       "      <td>5</td>\n",
       "      <td>16</td>\n",
       "      <td>2</td>\n",
       "      <td>2</td>\n",
       "      <td>Emil</td>\n",
       "      <td>Robles</td>\n",
       "      <td>34</td>\n",
       "      <td>San Francisco-Oakland-Berkeley, CA MSA</td>\n",
       "      <td>...</td>\n",
       "      <td>30</td>\n",
       "      <td>3000</td>\n",
       "      <td>70</td>\n",
       "      <td>7</td>\n",
       "      <td>0.01</td>\n",
       "      <td>0.01</td>\n",
       "      <td>0.0</td>\n",
       "      <td>0.0</td>\n",
       "      <td>0.0</td>\n",
       "      <td>70.0</td>\n",
       "    </tr>\n",
       "    <tr>\n",
       "      <th>...</th>\n",
       "      <td>...</td>\n",
       "      <td>...</td>\n",
       "      <td>...</td>\n",
       "      <td>...</td>\n",
       "      <td>...</td>\n",
       "      <td>...</td>\n",
       "      <td>...</td>\n",
       "      <td>...</td>\n",
       "      <td>...</td>\n",
       "      <td>...</td>\n",
       "      <td>...</td>\n",
       "      <td>...</td>\n",
       "      <td>...</td>\n",
       "      <td>...</td>\n",
       "      <td>...</td>\n",
       "      <td>...</td>\n",
       "      <td>...</td>\n",
       "      <td>...</td>\n",
       "      <td>...</td>\n",
       "      <td>...</td>\n",
       "      <td>...</td>\n",
       "    </tr>\n",
       "    <tr>\n",
       "      <th>2288</th>\n",
       "      <td>12</td>\n",
       "      <td>1495</td>\n",
       "      <td>65</td>\n",
       "      <td>492</td>\n",
       "      <td>0</td>\n",
       "      <td>24</td>\n",
       "      <td>Fidel</td>\n",
       "      <td>Sharpe</td>\n",
       "      <td>67</td>\n",
       "      <td>New York-Newark-Jersey City, NY-NJ-PA MSA</td>\n",
       "      <td>...</td>\n",
       "      <td>15</td>\n",
       "      <td>500</td>\n",
       "      <td>20</td>\n",
       "      <td>10</td>\n",
       "      <td>0.03</td>\n",
       "      <td>0.03</td>\n",
       "      <td>0.0</td>\n",
       "      <td>0.0</td>\n",
       "      <td>90.0</td>\n",
       "      <td>110.0</td>\n",
       "    </tr>\n",
       "    <tr>\n",
       "      <th>2289</th>\n",
       "      <td>12</td>\n",
       "      <td>1496</td>\n",
       "      <td>40</td>\n",
       "      <td>294</td>\n",
       "      <td>11</td>\n",
       "      <td>17</td>\n",
       "      <td>Ariel</td>\n",
       "      <td>Shepherd</td>\n",
       "      <td>49</td>\n",
       "      <td>New Orleans-Metairie, LA MSA</td>\n",
       "      <td>...</td>\n",
       "      <td>15</td>\n",
       "      <td>500</td>\n",
       "      <td>20</td>\n",
       "      <td>10</td>\n",
       "      <td>0.03</td>\n",
       "      <td>0.03</td>\n",
       "      <td>0.0</td>\n",
       "      <td>0.0</td>\n",
       "      <td>20.0</td>\n",
       "      <td>40.0</td>\n",
       "    </tr>\n",
       "    <tr>\n",
       "      <th>2290</th>\n",
       "      <td>12</td>\n",
       "      <td>1497</td>\n",
       "      <td>54</td>\n",
       "      <td>300</td>\n",
       "      <td>50</td>\n",
       "      <td>11</td>\n",
       "      <td>Donte</td>\n",
       "      <td>Barrera</td>\n",
       "      <td>49</td>\n",
       "      <td>Los Angeles-Long Beach-Anaheim, CA MSA</td>\n",
       "      <td>...</td>\n",
       "      <td>30</td>\n",
       "      <td>3000</td>\n",
       "      <td>70</td>\n",
       "      <td>7</td>\n",
       "      <td>0.01</td>\n",
       "      <td>0.01</td>\n",
       "      <td>0.0</td>\n",
       "      <td>0.0</td>\n",
       "      <td>0.0</td>\n",
       "      <td>70.0</td>\n",
       "    </tr>\n",
       "    <tr>\n",
       "      <th>2291</th>\n",
       "      <td>12</td>\n",
       "      <td>1498</td>\n",
       "      <td>39</td>\n",
       "      <td>339</td>\n",
       "      <td>0</td>\n",
       "      <td>23</td>\n",
       "      <td>Scot</td>\n",
       "      <td>Williamson</td>\n",
       "      <td>51</td>\n",
       "      <td>New York-Newark-Jersey City, NY-NJ-PA MSA</td>\n",
       "      <td>...</td>\n",
       "      <td>15</td>\n",
       "      <td>500</td>\n",
       "      <td>20</td>\n",
       "      <td>10</td>\n",
       "      <td>0.03</td>\n",
       "      <td>0.03</td>\n",
       "      <td>0.0</td>\n",
       "      <td>0.0</td>\n",
       "      <td>80.0</td>\n",
       "      <td>100.0</td>\n",
       "    </tr>\n",
       "    <tr>\n",
       "      <th>2292</th>\n",
       "      <td>12</td>\n",
       "      <td>1499</td>\n",
       "      <td>65</td>\n",
       "      <td>496</td>\n",
       "      <td>0</td>\n",
       "      <td>22</td>\n",
       "      <td>Shena</td>\n",
       "      <td>Dickson</td>\n",
       "      <td>37</td>\n",
       "      <td>Orlando-Kissimmee-Sanford, FL MSA</td>\n",
       "      <td>...</td>\n",
       "      <td>15</td>\n",
       "      <td>500</td>\n",
       "      <td>20</td>\n",
       "      <td>10</td>\n",
       "      <td>0.03</td>\n",
       "      <td>0.03</td>\n",
       "      <td>0.0</td>\n",
       "      <td>0.0</td>\n",
       "      <td>70.0</td>\n",
       "      <td>90.0</td>\n",
       "    </tr>\n",
       "  </tbody>\n",
       "</table>\n",
       "<p>2293 rows × 24 columns</p>\n",
       "</div>"
      ],
      "text/plain": [
       "      month  user_id  total_calls  total_duration  total_messages  gb_used  \\\n",
       "0         1     1042           18             114               0        2   \n",
       "1         1     1077           42             290              37       11   \n",
       "2         1     1185           23             181               0        7   \n",
       "3         1     1196           42             287              23        9   \n",
       "4         1     1214            5              16               2        2   \n",
       "...     ...      ...          ...             ...             ...      ...   \n",
       "2288     12     1495           65             492               0       24   \n",
       "2289     12     1496           40             294              11       17   \n",
       "2290     12     1497           54             300              50       11   \n",
       "2291     12     1498           39             339               0       23   \n",
       "2292     12     1499           65             496               0       22   \n",
       "\n",
       "      first_name   last_name  age  \\\n",
       "0     Clementina  Mclaughlin   40   \n",
       "1           Chau     Webster   23   \n",
       "2          Loria     Freeman   47   \n",
       "3           Noel      Dawson   46   \n",
       "4           Emil      Robles   34   \n",
       "...          ...         ...  ...   \n",
       "2288       Fidel      Sharpe   67   \n",
       "2289       Ariel    Shepherd   49   \n",
       "2290       Donte     Barrera   49   \n",
       "2291        Scot  Williamson   51   \n",
       "2292       Shena     Dickson   37   \n",
       "\n",
       "                                                 city  ...  \\\n",
       "0     Philadelphia-Camden-Wilmington, PA-NJ-DE-MD MSA  ...   \n",
       "1               Charlotte-Concord-Gastonia, NC-SC MSA  ...   \n",
       "2              Louisville/Jefferson County, KY-IN MSA  ...   \n",
       "3              Los Angeles-Long Beach-Anaheim, CA MSA  ...   \n",
       "4              San Francisco-Oakland-Berkeley, CA MSA  ...   \n",
       "...                                               ...  ...   \n",
       "2288        New York-Newark-Jersey City, NY-NJ-PA MSA  ...   \n",
       "2289                     New Orleans-Metairie, LA MSA  ...   \n",
       "2290           Los Angeles-Long Beach-Anaheim, CA MSA  ...   \n",
       "2291        New York-Newark-Jersey City, NY-NJ-PA MSA  ...   \n",
       "2292                Orlando-Kissimmee-Sanford, FL MSA  ...   \n",
       "\n",
       "     gb_per_month_included minutes_included usd_monthly_pay  usd_per_gb  \\\n",
       "0                       15              500              20          10   \n",
       "1                       30             3000              70           7   \n",
       "2                       30             3000              70           7   \n",
       "3                       30             3000              70           7   \n",
       "4                       30             3000              70           7   \n",
       "...                    ...              ...             ...         ...   \n",
       "2288                    15              500              20          10   \n",
       "2289                    15              500              20          10   \n",
       "2290                    30             3000              70           7   \n",
       "2291                    15              500              20          10   \n",
       "2292                    15              500              20          10   \n",
       "\n",
       "      usd_per_message  usd_per_minute  price_calls  price_messages  \\\n",
       "0                0.03            0.03          0.0             0.0   \n",
       "1                0.01            0.01          0.0             0.0   \n",
       "2                0.01            0.01          0.0             0.0   \n",
       "3                0.01            0.01          0.0             0.0   \n",
       "4                0.01            0.01          0.0             0.0   \n",
       "...               ...             ...          ...             ...   \n",
       "2288             0.03            0.03          0.0             0.0   \n",
       "2289             0.03            0.03          0.0             0.0   \n",
       "2290             0.01            0.01          0.0             0.0   \n",
       "2291             0.03            0.03          0.0             0.0   \n",
       "2292             0.03            0.03          0.0             0.0   \n",
       "\n",
       "      price_internet  total_price  \n",
       "0                0.0         20.0  \n",
       "1                0.0         70.0  \n",
       "2                0.0         70.0  \n",
       "3                0.0         70.0  \n",
       "4                0.0         70.0  \n",
       "...              ...          ...  \n",
       "2288            90.0        110.0  \n",
       "2289            20.0         40.0  \n",
       "2290             0.0         70.0  \n",
       "2291            80.0        100.0  \n",
       "2292            70.0         90.0  \n",
       "\n",
       "[2293 rows x 24 columns]"
      ]
     },
     "execution_count": 72,
     "metadata": {},
     "output_type": "execute_result"
    }
   ],
   "source": [
    "# Calcula el ingreso mensual para cada usuario\n",
    "\n",
    "# Se calcula el costo que debe pagar el cliente por llamadas excedentes al plan:\n",
    "total_per_user['price_calls'] = (total_per_user['total_duration'] - total_per_user['minutes_included']) * total_per_user['usd_per_minute']\n",
    "total_per_user['price_calls'] = total_per_user['price_calls'].apply(lambda x: max(x, 0))\n",
    "\n",
    "\n",
    "# Se calcula el costo que debe pagar el cliente por mensajes excedentes al plan:\n",
    "total_per_user['price_messages'] = (total_per_user['total_messages'] - total_per_user['messages_included']) * total_per_user['usd_per_message']\n",
    "total_per_user['price_messages'] = total_per_user['price_messages'].apply(lambda x: max(x, 0))\n",
    "\n",
    "# Se calcula el costo que debe pagar el cliente por datos excedentes al plan:\n",
    "total_per_user['price_internet'] = (total_per_user['gb_used'] - total_per_user['gb_per_month_included']) * total_per_user['usd_per_gb']\n",
    "total_per_user['price_internet'] = total_per_user['price_internet'].apply(lambda x: max(x, 0))\n",
    "\n",
    "# Se calcula el monto total a pagar por cada usuario:\n",
    "total_per_user['total_price'] = total_per_user['usd_monthly_pay'] + total_per_user['price_calls'] + total_per_user['price_messages'] + total_per_user['price_internet']\n",
    "\n",
    "df_summary = total_per_user.sort_values(['month', 'user_id'], ascending = True).reset_index(drop = True)\n",
    "\n",
    "df_summary['total_calls'] = df_summary['total_calls'].astype(int)\n",
    "df_summary['total_duration'] = df_summary['total_duration'].astype(int)\n",
    "df_summary['total_messages'] = df_summary['total_messages'].astype(int)\n",
    "df_summary['gb_used'] = df_summary['gb_used'].astype(int)\n",
    "\n",
    "\n",
    "df_summary"
   ]
  },
  {
   "cell_type": "markdown",
   "metadata": {
    "id": "-jtyHzJb0q1I"
   },
   "source": [
    "## Estudia el comportamiento de usuario"
   ]
  },
  {
   "cell_type": "markdown",
   "metadata": {
    "id": "AxU3Y0N70q1J"
   },
   "source": [
    "[Calcula algunas estadísticas descriptivas para los datos agregados y fusionados que nos sean útiles y que muestren un panorama general captado por los datos. Dibuja gráficos útiles para facilitar la comprensión. Dado que la tarea principal es comparar las tarifas y decidir cuál es más rentable, las estadísticas y gráficas deben calcularse por tarifa.]\n",
    "\n",
    "[En los comentarios hallarás pistas relevantes para las llamadas, pero no las hay para los mensajes e Internet. Sin embargo, el principio del estudio estadístico que se aplica para ellos es el mismo que para las llamadas.]"
   ]
  },
  {
   "cell_type": "markdown",
   "metadata": {
    "id": "vtW4CJEe0q1J"
   },
   "source": [
    "### Llamadas"
   ]
  },
  {
   "cell_type": "code",
   "execution_count": 31,
   "metadata": {
    "id": "Jf5v5--k0q1J"
   },
   "outputs": [
    {
     "name": "stdout",
     "output_type": "stream",
     "text": [
      "\n",
      "Duración media y desviación estandar mensual de la duración de las llamadas en minutos del plan surf:\n",
      "\n",
      "          media  desviación_estandar\n",
      "month                               \n",
      "1      6.766667             5.384745\n",
      "2      7.303279             6.031728\n",
      "3      7.106742             5.801450\n",
      "4      7.191899             5.895286\n",
      "5      7.173700             5.996882\n",
      "6      7.251863             6.039959\n",
      "7      7.124836             5.898688\n",
      "8      7.124718             5.939473\n",
      "9      7.128537             6.001913\n",
      "10     7.120604             5.927362\n",
      "11     7.160421             5.921328\n",
      "12     7.239358             6.001167\n",
      "\n",
      "Duración media y desviación estandar mensual de la duración de las llamadas en minutos del plan ultimate:\n",
      "\n",
      "          media  desviación_estandar\n",
      "month                               \n",
      "1      6.910714             6.090243\n",
      "2      6.916667             5.881961\n",
      "3      6.614130             5.836989\n",
      "4      7.088176             5.778791\n",
      "5      7.054491             5.977792\n",
      "6      7.110522             5.903862\n",
      "7      7.276061             5.998558\n",
      "8      7.015709             5.922735\n",
      "9      7.166857             5.949650\n",
      "10     7.066706             5.969262\n",
      "11     7.138889             6.005230\n",
      "12     7.073878             5.891928\n"
     ]
    }
   ],
   "source": [
    "# Compara la duración promedio de llamadas por cada plan y por cada mes. Traza un gráfico de barras para visualizarla.\n",
    "\n",
    "# Se fusionan el dataframe de clientes (ya que tiene el tipo de plan) con el de llamadas (ya que tiene el registro de fechas y duración de las llamadas).\n",
    "call_duration = df_users.merge(df_calls)\n",
    "\n",
    "# Se filtran los registros por tipo de plan:\n",
    "call_duration_surf = call_duration[call_duration['plan'] == 'surf']\n",
    "call_duration_ultimate = call_duration[call_duration['plan'] == 'ultimate']\n",
    "\n",
    "call_duration_mean_surf = call_duration_surf.groupby(by = 'month')['duration'].mean()\n",
    "call_duration_mean_ultimate = call_duration_ultimate.groupby(by = 'month')['duration'].mean()\n",
    "\n",
    "grouped_data = pd.concat([call_duration_mean_surf, call_duration_mean_ultimate], axis = 1)\n",
    "grouped_data.columns = ['surf', 'ultimate']\n",
    "\n",
    "data_surf = pd.concat([call_duration_surf.groupby(by = 'month')['duration'].mean(),\n",
    "                       np.sqrt(call_duration_surf.groupby(by = 'month')['duration'].var())], axis = 1)\n",
    "data_surf.columns = ['media', 'desviación_estandar']\n",
    "data_ultimate = pd.concat([call_duration_ultimate.groupby(by = 'month')['duration'].mean(),\n",
    "                           np.sqrt(call_duration_ultimate.groupby(by = 'month')['duration'].var())], axis = 1)\n",
    "data_ultimate.columns = ['media', 'desviación_estandar']\n",
    "\n",
    "# Se agrupan los registros por mes calculando el promedio de duration de llamadas:\n",
    "print('\\nDuración media y desviación estandar mensual de la duración de las llamadas en minutos del plan surf:\\n')\n",
    "print(data_surf)\n",
    "\n",
    "print('\\nDuración media y desviación estandar mensual de la duración de las llamadas en minutos del plan ultimate:\\n')\n",
    "print(data_ultimate)\n"
   ]
  },
  {
   "cell_type": "markdown",
   "metadata": {},
   "source": [
    "Aunque no se hayan hecho pruebas de hipótesis, se puede observar que la duración media de cada llamada es similar para ambos planes y que las desviaciones estándar también son similares."
   ]
  },
  {
   "cell_type": "code",
   "execution_count": 32,
   "metadata": {},
   "outputs": [
    {
     "name": "stdout",
     "output_type": "stream",
     "text": [
      "Duración media de las llamadas por mes y por tipo de plan:\n",
      "            surf  ultimate\n",
      "month                    \n",
      "1      6.766667  6.910714\n",
      "2      7.303279  6.916667\n",
      "3      7.106742  6.614130\n",
      "4      7.191899  7.088176\n",
      "5      7.173700  7.054491\n",
      "6      7.251863  7.110522\n",
      "7      7.124836  7.276061\n",
      "8      7.124718  7.015709\n",
      "9      7.128537  7.166857\n",
      "10     7.120604  7.066706\n",
      "11     7.160421  7.138889\n",
      "12     7.239358  7.073878\n"
     ]
    }
   ],
   "source": [
    "print('Duración media de las llamadas por mes y por tipo de plan:\\n', grouped_data)"
   ]
  },
  {
   "cell_type": "code",
   "execution_count": 33,
   "metadata": {},
   "outputs": [
    {
     "data": {
      "text/plain": [
       "<AxesSubplot:title={'center':'Duración media de las llamadas por tipo de plan.'}, xlabel='Mes', ylabel='Duración media en minutos por tipo de plan'>"
      ]
     },
     "execution_count": 33,
     "metadata": {},
     "output_type": "execute_result"
    },
    {
     "data": {
      "image/png": "[encoded data removed]",
      "text/plain": [
       "<Figure size 800x1000 with 1 Axes>"
      ]
     },
     "metadata": {},
     "output_type": "display_data"
    }
   ],
   "source": [
    "grouped_data.plot(title = 'Duración media de las llamadas por tipo de plan.',\n",
    "                  xlabel = 'Mes', ylabel = 'Duración media en minutos por tipo de plan',\n",
    "                  kind = 'bar', edgecolor = 'black', figsize = [8, 10], grid = True)"
   ]
  },
  {
   "cell_type": "markdown",
   "metadata": {},
   "source": [
    "Se puede observar que la duración media de cada llamada por tipo de plan para cada mes es de aproximadamente 7 minutos, que tomando en cuenta que las desviaciones estándar son de aproximadamente 6 minutos, no se considera que haya mucha diferencia entre un tipo de plan y el otro."
   ]
  },
  {
   "cell_type": "code",
   "execution_count": 34,
   "metadata": {
    "id": "QoLqW1S_0q1J"
   },
   "outputs": [
    {
     "data": {
      "text/plain": [
       "Text(0.5, 0, 'Total de minutos usados mensualmente en llamadas por cada usuario')"
      ]
     },
     "execution_count": 34,
     "metadata": {},
     "output_type": "execute_result"
    },
    {
     "data": {
      "image/png": "[encoded data removed]",
      "text/plain": [
       "<Figure size 800x500 with 1 Axes>"
      ]
     },
     "metadata": {},
     "output_type": "display_data"
    }
   ],
   "source": [
    "# Compara el número de minutos mensuales que necesitan los usuarios de cada plan. Traza un histograma.\n",
    "\n",
    "surf = df_summary[df_summary['plan'] == 'surf']\n",
    "ultimate = df_summary[df_summary['plan'] == 'ultimate']\n",
    "\n",
    "surf = surf['total_duration']\n",
    "ultimate = ultimate['total_duration']\n",
    "data = pd.concat([surf, ultimate], axis = 1)\n",
    "data.columns = ['surf', 'ultimate']\n",
    "data.plot(kind = 'hist',\n",
    "          bins = 14,\n",
    "          figsize = [8, 5],\n",
    "          title = 'Histograma de frecuencias',\n",
    "          color = ['orange', 'blue'],\n",
    "          legend = ['surf', 'ultimate'],\n",
    "          edgecolor = 'black',\n",
    "          alpha = 0.7,\n",
    "          grid = True)\n",
    "plt.legend(fontsize=12)\n",
    "plt.ylabel('Frecuencia', fontsize=12)         \n",
    "plt.xlabel('Total de minutos usados mensualmente en llamadas por cada usuario', fontsize=12)"
   ]
  },
  {
   "cell_type": "markdown",
   "metadata": {},
   "source": [
    "- Se puede observar que el total me minutos usados en un mes por los clientes de cada plan tienen un distribución aproximada a una normal con una media cercana a los 500 minutos.\n",
    "\n",
    "- Se puede observar que ambos tipos de plan presentan sesgo hacia la derecha.\n",
    "\n",
    "- A los clientes del plan ultimate siempre le sobran minutos ya que la cantidad máxima de minutos totales usados en el mes es muy inferior a 3000 minutos.\n",
    "\n",
    "- Muchos clientes del plan surf deben pagar minutos adicionales al plan cada mes, ya que cierto porcentaje de ellos usan más de 500 minutos mensualmente."
   ]
  },
  {
   "cell_type": "code",
   "execution_count": 35,
   "metadata": {
    "id": "oSndbAnt0q1K"
   },
   "outputs": [
    {
     "name": "stdout",
     "output_type": "stream",
     "text": [
      "La media de la duración total de llamadas por mes del plan surf es: 428.7495232040687 minutos, y la varizanza es: 54968.279460650374 .\n",
      "\n",
      "La media de la duración total de llamadas por mes del plan ultimate es: 430.45 mensajes, y la varizanza es: 57844.46481223922 .\n",
      "\n",
      "Prueba de hipótisis para comprobar si hay diferencia entre las varianzas del total de llamadas mensual por tipo de plan.\n",
      "\n",
      "Se acepta la hipótesis nula; por lo tanto, se concluye que las varianzas son iguales.\n",
      "El estadístico de prueba es: 0.08017677249129099 y el p-valor es: 0.7770835792974985 .\n",
      "\n",
      "Prueba de hipótesis para saber si hay diferencia entre la media de la duración total de llamadas al mes por tipo de plan.\n",
      "\n",
      "Se acepta la hipótesis nula; por lo tanto, se concluye que las medias de la duración mensual de llamadas son iguales.\n",
      "\n",
      "El estadístico de prueba es: -0.15988448918275708 y el p-valor es: 0.8729861616354788 .\n"
     ]
    }
   ],
   "source": [
    "# Calcula la media y la varianza de la duración mensual de llamadas.\n",
    "\n",
    "calls_surf = df_summary[df_summary['plan'] == 'surf']['total_duration'].dropna()\n",
    "calls_ultimate = df_summary[df_summary['plan'] == 'ultimate']['total_duration'].dropna()\n",
    "\n",
    "mean_duration_surf = calls_surf.mean()\n",
    "var_duration_surf = calls_surf.var()\n",
    "print('La media de la duración total de llamadas por mes del plan surf es:', mean_duration_surf,\n",
    "      'minutos, y la varizanza es:', var_duration_surf, '.\\n')\n",
    "\n",
    "mean_duration_ultimate = calls_ultimate.mean()\n",
    "var_duration_ultimate = calls_ultimate.var()\n",
    "print('La media de la duración total de llamadas por mes del plan ultimate es:', mean_duration_ultimate,\n",
    "      'mensajes, y la varizanza es:', var_duration_ultimate, '.')\n",
    "\n",
    "print('\\nPrueba de hipótisis para comprobar si hay diferencia entre las varianzas del total de llamadas mensual por tipo de plan.\\n')\n",
    "\n",
    "# HO: La variazas son iguales.\n",
    "# HA: Las varianzas son distintas.\n",
    "alpha = 0.05 # Se emplea un alpha de 5%.\n",
    "result = levene(calls_surf, calls_ultimate)\n",
    "\n",
    "if result.pvalue <= alpha:\n",
    "    print('Se rechaza la hipótesis nula; por lo tanto, se concluye que las varianzas son distintas.')\n",
    "else:\n",
    "    print('Se acepta la hipótesis nula; por lo tanto, se concluye que las varianzas son iguales.')\n",
    "\n",
    "print('El estadístico de prueba es:', result.statistic, 'y el p-valor es:', result.pvalue, '.')\n",
    "\n",
    "print('\\nPrueba de hipótesis para saber si hay diferencia entre la media de la duración total de llamadas al mes por tipo de plan.\\n')\n",
    "\n",
    "# HO: La media de duración total mensual de llamadas por tipo de plan son iguales.\n",
    "# HA: Las media de la duración mensual de llamadas es distinta.\n",
    "alpha = 0.05 # Se emplea un alpha de 5%.\n",
    "result = st.ttest_ind(calls_surf, calls_ultimate, equal_var = True)\n",
    "\n",
    "if result.pvalue <= alpha:\n",
    "    print('Se rechaza la hipótesis nula; por lo tanto, se concluye que las medias de la duración mensual de llamadas son distintas.\\n')\n",
    "else:\n",
    "    print('Se acepta la hipótesis nula; por lo tanto, se concluye que las medias de la duración mensual de llamadas son iguales.\\n')\n",
    "\n",
    "print('El estadístico de prueba es:', result.statistic, 'y el p-valor es:', result.pvalue, '.')"
   ]
  },
  {
   "cell_type": "code",
   "execution_count": 36,
   "metadata": {
    "id": "nZzoRUKc0q1K"
   },
   "outputs": [
    {
     "data": {
      "image/png": "[encoded data removed]",
      "text/plain": [
       "<Figure size 640x480 with 1 Axes>"
      ]
     },
     "metadata": {},
     "output_type": "display_data"
    }
   ],
   "source": [
    "# Traza un diagrama de caja para visualizar la distribución de la duración mensual de llamadas\n",
    "\n",
    "sns.boxplot(x='month', y='total_duration', data=df_summary)\n",
    "plt.figsize = [15, 18]\n",
    "plt.grid(True)\n",
    "plt.title('Duración mensual de las llamadas')\n",
    "plt.ylabel('Duración en minutos', fontsize=16)         \n",
    "plt.xlabel('Mes', fontsize=16)\n",
    "\n",
    "plt.show()"
   ]
  },
  {
   "cell_type": "markdown",
   "metadata": {},
   "source": [
    "- Al calcular las medias y las desviaciones estándar, se puede observar que son muy similares el comportamiento de los clientes del plan surf a los del plan ultimate.\n",
    "\n",
    "- Se observa que desde abril hasta diciembre hay algunos pocos clientes con un comportamiento atípico usando un mayor númeo de minutos que el resto de clintes.\n",
    "\n"
   ]
  },
  {
   "cell_type": "markdown",
   "metadata": {
    "id": "8idKy8Wh0q1L"
   },
   "source": [
    "### Mensajes"
   ]
  },
  {
   "cell_type": "code",
   "execution_count": 37,
   "metadata": {
    "id": "NXLxiTit0q1L"
   },
   "outputs": [
    {
     "name": "stdout",
     "output_type": "stream",
     "text": [
      "La media del total de mensajes enviados mensualmente del plan surf es 31.15956770502225 mensajes, y la desviación estándar es: 33.566717473569064 mensajes.\n",
      "\n",
      "La media del total de mensajes enviados mensualmente del plan ultimate es 37.55138888888889 mensajes, y la desviación estándar es: 34.76717911404573 mensajes.\n"
     ]
    }
   ],
   "source": [
    "# Comprara el número de mensajes que tienden a enviar cada mes los usuarios de cada plan\n",
    "mean_messages_surf = df_summary[df_summary['plan'] == 'surf']['total_messages'].mean()\n",
    "desv_messages_surf = np.sqrt(df_summary[df_summary['plan'] == 'surf']['total_messages'].var())\n",
    "print('La media del total de mensajes enviados mensualmente del plan surf es',\n",
    "     mean_messages_surf, 'mensajes, y la desviación estándar es:', desv_messages_surf, 'mensajes.\\n')\n",
    "\n",
    "mean_messages_ultimate = df_summary[df_summary['plan'] == 'ultimate']['total_messages'].mean()\n",
    "desv_messages_ultimate = np.sqrt(df_summary[df_summary['plan'] == 'ultimate']['total_messages'].var())\n",
    "print('La media del total de mensajes enviados mensualmente del plan ultimate es',\n",
    "     mean_messages_ultimate, 'mensajes, y la desviación estándar es:', desv_messages_ultimate, 'mensajes.')"
   ]
  },
  {
   "cell_type": "code",
   "execution_count": 38,
   "metadata": {
    "id": "GRI_R7xF0q1L"
   },
   "outputs": [
    {
     "name": "stdout",
     "output_type": "stream",
     "text": [
      "Las varianzas de la cantidad total de mensajes enviados por mes son distintas para cada tipo de plan.\n",
      "\n",
      "El estadístico de prueba es 8.603196894384647 y el p-valor es 0.0033890421146860585\n"
     ]
    }
   ],
   "source": [
    "# Se hace una prueba de hipótesis para comprobar si exite diferencia entre las varianzas de la cantidad total de mensajes\n",
    "#enviados por mes para cada tipo de plan:\n",
    "\n",
    "# HO: Las varianzas de la cantidad total de mensajes enviados por mes son iguales para cada tipo de plan.\n",
    "# HA: Las varianzas de la cantidad total de mensajes enviados por mes son distintas para cada tipo de plan.\n",
    "alpha = .05 # Se escoge un alpha de 5%\n",
    "result = levene(df_summary[df_summary['plan'] == 'surf']['total_messages'],\n",
    "                df_summary[df_summary['plan'] == 'ultimate']['total_messages'])\n",
    "if result.pvalue <= alpha:\n",
    "    print('Las varianzas de la cantidad total de mensajes enviados por mes son distintas para cada tipo de plan.\\n')\n",
    "else:\n",
    "    print('Las varianzas de la cantidad total de mensajes enviados por mes son iguales para cada tipo de plan.\\n')\n",
    "\n",
    "print('El estadístico de prueba es', result.statistic, 'y el p-valor es', result.pvalue)"
   ]
  },
  {
   "cell_type": "code",
   "execution_count": 39,
   "metadata": {
    "id": "dtFwCGAp0q1M"
   },
   "outputs": [
    {
     "name": "stdout",
     "output_type": "stream",
     "text": [
      "Las medias de la cantidad total de mensajes enviados por mes son distintas para cada tipo de plan.\n",
      "\n",
      "El estadístico de prueba es -4.1844513800808105 y el p-valor es 2.9663595422753102e-05\n"
     ]
    }
   ],
   "source": [
    "#Se hace una prueba de hipótesis para comprobar diferencia entre las medias del total de mensajes mensuales por tipo de plan:\n",
    "\n",
    "# HO: Las medias de la cantidad total de mensajes enviados por mes son iguales para cada tipo de plan.\n",
    "# HA: Las medas de la cantidad total de mensajes enviados por mes son distintas para cada tipo de plan.\n",
    "alpha = .05 # Se escoge un alpha de 5%\n",
    "result = st.ttest_ind(df_summary[df_summary['plan'] == 'surf']['total_messages'],\n",
    "                df_summary[df_summary['plan'] == 'ultimate']['total_messages'])\n",
    "if result.pvalue <= alpha:\n",
    "    print('Las medias de la cantidad total de mensajes enviados por mes son distintas para cada tipo de plan.\\n')\n",
    "else:\n",
    "    print('Las medias de la cantidad total de mensajes enviados por mes son iguales para cada tipo de plan.\\n')\n",
    "\n",
    "print('El estadístico de prueba es', result.statistic, 'y el p-valor es', result.pvalue)"
   ]
  },
  {
   "cell_type": "code",
   "execution_count": 40,
   "metadata": {},
   "outputs": [
    {
     "data": {
      "text/plain": [
       "Text(0.5, 0, 'Total de mensajes usados mensualmente por cada usuario')"
      ]
     },
     "execution_count": 40,
     "metadata": {},
     "output_type": "execute_result"
    },
    {
     "data": {
      "image/png": "[encoded data removed]",
      "text/plain": [
       "<Figure size 800x500 with 1 Axes>"
      ]
     },
     "metadata": {},
     "output_type": "display_data"
    }
   ],
   "source": [
    "# Compara el número de mensajes mensuales que necesitan los usuarios de cada plan. Traza un histograma.\n",
    "\n",
    "surf = df_summary[df_summary['plan'] == 'surf']\n",
    "ultimate = df_summary[df_summary['plan'] == 'ultimate']\n",
    "\n",
    "surf = surf['total_messages']\n",
    "ultimate = ultimate['total_messages']\n",
    "data = pd.concat([surf, ultimate], axis = 1)\n",
    "data.columns = ['surf', 'ultimate']\n",
    "data.plot(kind = 'hist',\n",
    "          bins = 14,\n",
    "          figsize = [8, 5],\n",
    "          title = 'Histograma de frecuencias',\n",
    "          color = ['orange', 'blue'],\n",
    "          legend = ['surf', 'ultimate'],\n",
    "          edgecolor = 'black',\n",
    "          alpha = 0.7,\n",
    "          grid = True)\n",
    "plt.legend(fontsize=12)\n",
    "plt.ylabel('Frecuencia', fontsize=12)         \n",
    "plt.xlabel('Total de mensajes usados mensualmente por cada usuario', fontsize=12)"
   ]
  },
  {
   "cell_type": "markdown",
   "metadata": {},
   "source": [
    "- Se puede observar que la varianza en ambos tipos de plan para la cantidad de mensajes total del mes es igual.\n",
    "\n",
    "- Observando el histograma de frecuencias, se puede apreciar que el comportamiento de los clientes de cada tipo de plan en cuento a la cantidad de mensajes que usan mensualmente, es igual.\n",
    "\n",
    "- La cantidad de mensajes enviados mensualmente tiene un comportamiento exponencial; esto es, son más frecuentes los usuarios que envían pocos mensajes y poco frecuentes los que envía muchos mensajes."
   ]
  },
  {
   "cell_type": "markdown",
   "metadata": {
    "id": "42YSypXz0q1M"
   },
   "source": [
    "### Internet"
   ]
  },
  {
   "cell_type": "code",
   "execution_count": 57,
   "metadata": {
    "id": "lSuKPtjh0q1M"
   },
   "outputs": [
    {
     "name": "stdout",
     "output_type": "stream",
     "text": [
      "Para el plan surf:\n",
      "La media de consumo de datos mensual es de 16.671 GB\n",
      "y la desvaición estándar es de  7.848 GB\n",
      "\n",
      "\n",
      "Para el plan ultimate:\n",
      "La media de consumo de datos mensual es de 17.307 GB\n",
      "y la desviación estándar es de 7.670 GB\n"
     ]
    }
   ],
   "source": [
    "# Compara la cantidad de tráfico de Internet consumido por usuarios por plan\n",
    "mean_gb_surf = df_summary[df_summary['plan'] == 'surf']['gb_used'].mean()\n",
    "desv_gb_surf = np.sqrt(df_summary[df_summary['plan'] == 'surf']['gb_used'].var())\n",
    "mean_gb_ultimate = df_summary[df_summary['plan'] == 'ultimate']['gb_used'].mean()\n",
    "desv_gb_ultimate = np.sqrt(df_summary[df_summary['plan'] == 'ultimate']['gb_used'].var())\n",
    "\n",
    "print('Para el plan surf:')\n",
    "print(f'La media de consumo de datos mensual es de {mean_gb_surf:.3f} GB')\n",
    "print(f'y la desvaición estándar es de  {desv_gb_surf:.3f} GB\\n')\n",
    "print('\\nPara el plan ultimate:')\n",
    "print(f'La media de consumo de datos mensual es de {mean_gb_ultimate:.3f} GB')\n",
    "print(f'y la desviación estándar es de {desv_gb_ultimate:.3f} GB')"
   ]
  },
  {
   "cell_type": "code",
   "execution_count": 64,
   "metadata": {
    "id": "wnh8jYXi0q1N"
   },
   "outputs": [
    {
     "name": "stdout",
     "output_type": "stream",
     "text": [
      "El ingreso promedio mensual por datos para cliente del plan surf es 38.65225683407502 dólares.\n",
      "\n",
      "El ingreso promedio mensual por datos para cliente del plan ultimate es 2.313888888888889 dólares.\n"
     ]
    }
   ],
   "source": [
    "# Se calcula el ingreso promedio por datos para cada tipo de plan:\n",
    "print('El ingreso promedio mensual por datos para cliente del plan surf es',\n",
    "     df_summary[df_summary['plan'] == 'surf']['price_internet'].mean(), 'dólares.\\n')\n",
    "print('El ingreso promedio mensual por datos para cliente del plan ultimate es',\n",
    "     df_summary[df_summary['plan'] == 'ultimate']['price_internet'].mean(),'dólares.')"
   ]
  },
  {
   "cell_type": "code",
   "execution_count": 61,
   "metadata": {},
   "outputs": [
    {
     "name": "stdout",
     "output_type": "stream",
     "text": [
      "Las varianzas de la cantidad total de datos usados por mes para cada tipo de plan son iguales.\n",
      "\n",
      "El estadístico de prueba es 0.3822 y el p-value es 0.5365.\n"
     ]
    }
   ],
   "source": [
    "# Se hace una prueba levene para verificar si las varianzas de cantidad total de datos usados en el mes por tipo de plan son\n",
    "# iguales:\n",
    "\n",
    "# Se plantean las hiótesis:\n",
    "# HO: Las varianzas de la cantidad total de datos usados por mes para cada tipo de plan son iguales.\n",
    "# HA: Las varianzas de la cantidad total de datos usados por mes para cada tipo de plan son distintas.\n",
    "alpha = .05 # Se escoge un alpha del 5%\n",
    "result = levene(df_summary[df_summary['plan'] == 'surf']['gb_used'],\n",
    "               df_summary[df_summary['plan'] == 'ultimate']['gb_used'])\n",
    "if result.pvalue <= alpha:\n",
    "    print('Las varianzas de la cantidad total de datos usados por mes para cada tipo de plan son distintas.\\n')\n",
    "else:\n",
    "    print('Las varianzas de la cantidad total de datos usados por mes para cada tipo de plan son iguales.\\n')\n",
    "print(f'El estadístico de prueba es {result.statistic:.4f} y el p-value es {result.pvalue:.4f}.')"
   ]
  },
  {
   "cell_type": "code",
   "execution_count": 62,
   "metadata": {
    "id": "5VlyJ9ry0q1N"
   },
   "outputs": [
    {
     "name": "stdout",
     "output_type": "stream",
     "text": [
      "Las medias de la cantidad total de datos usados en el mes para cada tipo de plan son iguales.\n",
      "\n",
      "El estadístico de prueba es -1.8147 y el p-value es 0.0697.\n"
     ]
    }
   ],
   "source": [
    "# Se hace el ttest_ind para verificar si la media de la cantidad total de datos usadas ern el mes es igual para cada tipo de plan:\n",
    "\n",
    "# Se plantean las hipótesis:\n",
    "# HO: Las medias de la cantidad total de datos usados en el mes para cada tipo de plan son iguales.\n",
    "# HA: Las medias de la cantidad total de datos usados en el mes para cada tipo de plan son distintas.\n",
    "alpha = .05 # Se escoge un alpha de 5%.\n",
    "result = st.ttest_ind(df_summary[df_summary['plan'] == 'surf']['gb_used'],\n",
    "               df_summary[df_summary['plan'] == 'ultimate']['gb_used'], equal_var = True)\n",
    "if result.pvalue <= alpha:\n",
    "    print(f'Las medias de la cantidad total de datos usados en el mes para cada tipo de plan son distintas.\\n')\n",
    "else:\n",
    "    print('Las medias de la cantidad total de datos usados en el mes para cada tipo de plan son iguales.\\n')\n",
    "print(f'El estadístico de prueba es {result.statistic:.4f} y el p-value es {result.pvalue:.4f}.')"
   ]
  },
  {
   "cell_type": "code",
   "execution_count": 45,
   "metadata": {
    "scrolled": true
   },
   "outputs": [
    {
     "data": {
      "text/plain": [
       "Text(0.5, 0, 'Total de datos usados mensualmente por cada usuario (GB)')"
      ]
     },
     "execution_count": 45,
     "metadata": {},
     "output_type": "execute_result"
    },
    {
     "data": {
      "image/png": "[encoded data removed]",
      "text/plain": [
       "<Figure size 800x500 with 1 Axes>"
      ]
     },
     "metadata": {},
     "output_type": "display_data"
    }
   ],
   "source": [
    "# Compara el número de datos mensuales que necesitan los usuarios de cada plan. Traza un histograma.\n",
    "\n",
    "surf = df_summary[df_summary['plan'] == 'surf']\n",
    "ultimate = df_summary[df_summary['plan'] == 'ultimate']\n",
    "\n",
    "surf = surf['gb_used']\n",
    "ultimate = ultimate['gb_used']\n",
    "data = pd.concat([surf, ultimate], axis = 1)\n",
    "data.columns = ['surf', 'ultimate']\n",
    "data.plot(kind = 'hist',\n",
    "          bins = 14,\n",
    "          figsize = [8, 5],\n",
    "          title = 'Histograma de frecuencias',\n",
    "          color = ['orange', 'blue'],\n",
    "          legend = ['surf', 'ultimate'],\n",
    "          edgecolor = 'black',\n",
    "          alpha = 0.7,\n",
    "          grid = True)\n",
    "plt.legend(fontsize=12)\n",
    "plt.ylabel('Frecuencia', fontsize=12)         \n",
    "plt.xlabel('Total de datos usados mensualmente por cada usuario (GB)', fontsize=12)"
   ]
  },
  {
   "cell_type": "markdown",
   "metadata": {},
   "source": [
    "- El ingreso por concepto de datos extras pagados por tipo de plan es mayor en el plan surf que en el plan ultimate.\n",
    "\n",
    "- La cantidad media del total de datos usados por cliente mensualmente para cada tipo de plan son iguales.\n",
    "\n",
    "- Las varianzas de la cantidad total de datos usados mensualmente son iguales para los dos tipos de plan.\n",
    "\n",
    "- La cantidad total de datos usados mensualmente tiene una media de 17 GB aproximadamente, y esto es cierto para ambos tipos de plan.\n",
    "\n",
    "- Se observa que el uso de datos usados mesualmente por tipo de plan tiene una distribución normal en torno a la media ya mencionada y que esta gráfica presenta sesgo hacia la derecha, siendo menos frecuentes los clientes que usan mayor y menor cantidad de datos que la media y más fecuentes los que usan una cantidad de datos más cercanos a la media."
   ]
  },
  {
   "cell_type": "markdown",
   "metadata": {
    "id": "tCijq3260q1N"
   },
   "source": [
    "## Ingreso"
   ]
  },
  {
   "cell_type": "code",
   "execution_count": 55,
   "metadata": {
    "id": "tz-dq_V00q1O"
   },
   "outputs": [
    {
     "name": "stdout",
     "output_type": "stream",
     "text": [
      "El ingreso promedio mensual por cliente del plan surf es: 60.70640813731723 dólares, y la desviación estándar es: 55.388041600095214 .\n"
     ]
    }
   ],
   "source": [
    "# Se calcula la media y la desviación estandar para los ingresos del plan surf:\n",
    "print('El ingreso promedio mensual por cliente del plan surf es:',\n",
    "      df_summary[df_summary['plan'] == 'surf']['total_price'].mean(),\n",
    "      'dólares, y la desviación estándar es:',\n",
    "      np.sqrt(df_summary[df_summary['plan'] == 'surf']['total_price'].var()), '.')\n"
   ]
  },
  {
   "cell_type": "code",
   "execution_count": 53,
   "metadata": {
    "id": "0Y1v8ZUz0q1P"
   },
   "outputs": [
    {
     "name": "stdout",
     "output_type": "stream",
     "text": [
      "El ingreso promedio mensual por cliente del plan ultimate es: 72.31388888888888 dólares, y la desviación estandar es: 11.395107965742119 dólares.\n"
     ]
    }
   ],
   "source": [
    "# Se calcula la media y la desviación estandar para los ingresos del plan ultimate:\n",
    "\n",
    "print('El ingreso promedio mensual por cliente del plan ultimate es:',\n",
    "      df_summary[df_summary['plan'] == 'ultimate']['total_price'].mean(),\n",
    "      'dólares, y la desviación estandar es:',\n",
    "      np.sqrt(df_summary[df_summary['plan'] == 'ultimate']['total_price'].var()), 'dólares.')\n",
    "\n"
   ]
  },
  {
   "cell_type": "markdown",
   "metadata": {
    "id": "bYmwxyVh0q1P"
   },
   "source": [
    "Se puede observar que el costo promedio mensual por tipo de plan es ligeramente mayor en el plan ultimate que en el plan surf, pero la desviación estándar es mayor para el plan surf."
   ]
  },
  {
   "cell_type": "markdown",
   "metadata": {
    "id": "ajJ7VKeI0q1Q"
   },
   "source": [
    "## Prueba las hipótesis estadísticas"
   ]
  },
  {
   "cell_type": "code",
   "execution_count": 67,
   "metadata": {
    "id": "nFoPNlPq0q1R"
   },
   "outputs": [
    {
     "name": "stdout",
     "output_type": "stream",
     "text": [
      "Se rechaza la hipótesis nula, por lo tanto, se concluye que las varianzas son distintas.\n",
      "\n",
      "El estadístico de prueba es 404.730 y el p-valor es 5.028876110654919e-83.\n"
     ]
    }
   ],
   "source": [
    "# Prueba las hipótesis\n",
    "\n",
    "\n",
    "\n",
    "# Se plantean las hipótesis:\n",
    "# HO: Las varianzas del ingreso mensual por plan son iguales.\n",
    "# HA: Las varianzas del ingreso mensual por plan son distintas.\n",
    "\n",
    "income_surf = df_summary[df_summary['plan'] == 'surf']['total_price'].dropna()\n",
    "income_ultimate = df_summary[df_summary['plan'] == 'ultimate']['total_price'].dropna()\n",
    "\n",
    "\n",
    "# HO: La variazas son iguales.\n",
    "# HA: Las varianzas son distintas.\n",
    "alpha = .05 # Se emplea un alpha de 5%.\n",
    "result = levene(income_surf, income_ultimate)\n",
    "\n",
    "if result.pvalue <= alpha:\n",
    "    print('Se rechaza la hipótesis nula, por lo tanto, se concluye que las varianzas son distintas.')\n",
    "else:\n",
    "    print('Se acepta la hipótesis nula, por lo tanto, se concluye que las varianzas son iguales. \\n')\n",
    "\n",
    "print(f'\\nEl estadístico de prueba es {result.statistic:.3f} y el p-valor es {result.pvalue}.')\n"
   ]
  },
  {
   "cell_type": "code",
   "execution_count": 68,
   "metadata": {},
   "outputs": [
    {
     "name": "stdout",
     "output_type": "stream",
     "text": [
      "Se rechaza la hipótesis nula; es decir, los ingresos promedio por tipo de plan son distintos.\n",
      "\n",
      "El estadístico de prueba es 7.952 y el p-valor es 3.1703905481137102e-15.\n"
     ]
    }
   ],
   "source": [
    "# Se prueba si el ingreso mensual por tipo de plan es distinto:\n",
    "\n",
    "\n",
    "# Se plantean las hipótesis:\n",
    "# HO: El ingreso promedio por tipo de plan es igual.\n",
    "# HA: el ingreso promedio por tipo de plan es distinto.\n",
    "aplha = .05 # Se escoge un alpha de 5%\n",
    "result = st.ttest_ind(income_ultimate, income_surf, equal_var = False)\n",
    "if result.pvalue <= alpha:\n",
    "    print('Se rechaza la hipótesis nula; es decir, los ingresos promedio por tipo de plan son distintos.')\n",
    "else:\n",
    "    print('Se acepta la hipótesis nula; es decir, los ingresos promedio por tipo de plan son iguales.')\n",
    "\n",
    "print(f'\\nEl estadístico de prueba es {result.statistic:.3f} y el p-valor es {result.pvalue}.')"
   ]
  },
  {
   "cell_type": "markdown",
   "metadata": {},
   "source": [
    "- Se puede concluir que el promedio de ingresos es menor para el tipo de plan surf que para el plan ultimate.\n",
    "\n",
    "- La desviación estándar es mayor para el tipo de plan surf.\n",
    "\n",
    "- Las pruebas estadísticas revelan que si existe diferencia entre los ingresos por tipo de plan."
   ]
  },
  {
   "cell_type": "code",
   "execution_count": 70,
   "metadata": {
    "id": "Cqcj7wrZ0q1S"
   },
   "outputs": [
    {
     "name": "stdout",
     "output_type": "stream",
     "text": [
      "Prueba de hipótesis para verificar si las varianzas son iguales: \n",
      "\n",
      "Se acepta la hipótesis nula; es decir, la evidencia estadística indica que las varianzas son iguales.\n",
      "\n",
      "El estadístico de prueba es 2.345 y el p-valor es 0.12580091109612837.\n"
     ]
    }
   ],
   "source": [
    "# Prueba las hipótesis\n",
    "\n",
    "income_ny = df_summary[df_summary['city'] == 'New York-Newark-Jersey City, NY-NJ-PA MSA']['total_price']\n",
    "income_others = df_summary[df_summary['city'] != 'New York-Newark-Jersey City, NY-NJ-PA MSA']['total_price']\n",
    "\n",
    "# Se prueba si las varianzas son distintas:\n",
    "# HO: La hipótesis nula es que las varianzas son iguales.\n",
    "# HA: La hipótesis alternativa es que las varianzas son distintas.\n",
    "print('Prueba de hipótesis para verificar si las varianzas son iguales: \\n')\n",
    "result = levene(income_ny, income_others)\n",
    "alpha = .05\n",
    "if result.pvalue <= alpha:\n",
    "    print('Se rezacha la hipótesis nula; es decir, la evidencia estadística indica que las varianzas son distintas.')\n",
    "else:\n",
    "    print('Se acepta la hipótesis nula; es decir, la evidencia estadística indica que las varianzas son iguales.')\n",
    "\n",
    "print(f'\\nEl estadístico de prueba es {result.statistic:.3f} y el p-valor es {result.pvalue}.')"
   ]
  },
  {
   "cell_type": "code",
   "execution_count": 52,
   "metadata": {},
   "outputs": [
    {
     "name": "stdout",
     "output_type": "stream",
     "text": [
      "\n",
      "Prueba de hipótesis de que el ingreso promedio de NY-NJ es igual al de otras regiones: \n",
      "\n",
      "Se rechaza la hipótesis nula; es decir, el análisis estadístico indica que el promedio de ingreso de la región de NY-NJ es distinto al de las otras regiones.\n",
      "\n",
      "El estadístico de prueba es: -2.019442981896802 y el p-valor es: 0.04355743162134332\n"
     ]
    }
   ],
   "source": [
    "print('\\nPrueba de hipótesis de que el ingreso promedio de NY-NJ es igual al de otras regiones: \\n')\n",
    "# Se prueba si existe diferencia entre el promedio de ingresos del área de NY-NJ con respecto a las otras regiones.\n",
    "# HO: La hipótesis nula es que los ingresos promedio de la región NY-NJ es igual al de las otras regiones.\n",
    "# HA: La hipótesis alternativa es que el ingreso promedio de la región NY-NJ es distinto al de las otras regiones.\n",
    "result_ny = st.ttest_ind(income_ny, income_others, equal_var = True)\n",
    "if result_ny.pvalue <= alpha:\n",
    "    print('Se rechaza la hipótesis nula; es decir, el análisis estadístico indica que el promedio de ingreso de la región de NY-NJ es distinto al de las otras regiones.')\n",
    "else:\n",
    "    print('Se acepta la hipótesis nula; es decir, el análisis estadístico indica que el promedio de ingreso de la región de NY-NJ es igual al de las otras regiones.')\n",
    "\n",
    "print('\\nEl estadístico de prueba es:', result_ny.statistic, 'y el p-valor es:', result_ny.pvalue)"
   ]
  },
  {
   "cell_type": "markdown",
   "metadata": {
    "id": "bbTR8UQO0q1T"
   },
   "source": [
    "## Conclusión general\n",
    "\n",
    "[En esta sección final, enumera tus conclusiones importantes. Asegúrate de que estas abarquen todas las decisiones (suposiciones) importantes que adoptaste y que determinaron la forma elegida para procesar y analizar los datos.]"
   ]
  },
  {
   "cell_type": "markdown",
   "metadata": {},
   "source": [
    "- En cuanto al uso de llamadas, mensajes e internet, se puede concluir que los clientes de cada tipo de plan tiene un comprtamiento similar.\n",
    "\n",
    "- Al estudiar los ingresos promedio por el consumo de datos extras se puede observar que ese valor es mas alto para el plan surf que para el ultimate.\n",
    "\n",
    "- Al hacer la prueba estadística se puede observar que si hay diferencias en el promedio de ingresos mesnusales por tipo de plan.\n",
    "\n",
    "- El ingreso total promedio es mayor para el plan ultimate que para el plan surf, con una diferencia promedio de USD 12 aproximadamente, esto es, un 20% más de ingreso de los clientes con el plan ultimate, respecto al plan surf.\n",
    "\n",
    "- Tomando en consideración que el plan ultimate representa mayores ingresos promedio para la empresa, la recomendación que se hace a la empresa de telecomunicaciones es que haga publicidad al plan ultimate promoviendo que los clientes del plan surf cambien al plan ultimate.\n",
    "\n",
    "- Del mismo modo, se plantea dirigir publicidad a los que no son clientes actuales de la empresa a que se hagan clientes del plan ultimate."
   ]
  }
 ],
 "metadata": {
  "ExecuteTimeLog": [
   {
    "duration": 828,
    "start_time": "2021-11-16T09:21:11.304Z"
   },
   {
    "duration": 893,
    "start_time": "2021-11-16T09:21:17.728Z"
   },
   {
    "duration": 1150,
    "start_time": "2021-11-16T09:21:29.568Z"
   },
   {
    "duration": 3,
    "start_time": "2021-11-16T09:24:14.495Z"
   },
   {
    "duration": 120,
    "start_time": "2021-11-16T09:24:46.630Z"
   },
   {
    "duration": 3,
    "start_time": "2021-11-16T09:28:27.882Z"
   },
   {
    "duration": 4,
    "start_time": "2021-11-16T09:29:54.281Z"
   },
   {
    "duration": 3,
    "start_time": "2021-11-16T09:30:45.936Z"
   },
   {
    "duration": 4,
    "start_time": "2021-11-16T09:31:06.300Z"
   },
   {
    "duration": 113,
    "start_time": "2021-11-16T09:31:37.208Z"
   },
   {
    "duration": 143,
    "start_time": "2021-11-16T09:31:48.656Z"
   },
   {
    "duration": 98,
    "start_time": "2021-11-16T09:31:55.678Z"
   },
   {
    "duration": 3,
    "start_time": "2021-11-16T09:32:08.535Z"
   },
   {
    "duration": 111,
    "start_time": "2021-11-16T09:32:10.120Z"
   },
   {
    "duration": 3,
    "start_time": "2021-11-16T09:32:15.732Z"
   },
   {
    "duration": 4,
    "start_time": "2021-11-16T09:32:29.423Z"
   },
   {
    "duration": 3,
    "start_time": "2021-11-16T10:03:03.074Z"
   },
   {
    "duration": 3,
    "start_time": "2021-11-16T10:10:01.288Z"
   },
   {
    "duration": 3,
    "start_time": "2021-11-16T10:10:46.923Z"
   },
   {
    "duration": 121,
    "start_time": "2021-11-16T10:37:46.494Z"
   },
   {
    "duration": 125,
    "start_time": "2021-11-16T10:38:20.632Z"
   },
   {
    "duration": 112,
    "start_time": "2021-11-16T10:46:53.001Z"
   },
   {
    "duration": 110,
    "start_time": "2021-11-16T10:48:25.775Z"
   },
   {
    "duration": 3,
    "start_time": "2021-11-16T10:50:18.720Z"
   },
   {
    "duration": 4,
    "start_time": "2021-11-16T10:50:37.649Z"
   },
   {
    "duration": 2,
    "start_time": "2021-11-16T10:50:51.884Z"
   },
   {
    "duration": 3,
    "start_time": "2021-11-16T10:51:56.237Z"
   },
   {
    "duration": 101,
    "start_time": "2021-11-16T10:53:13.791Z"
   },
   {
    "duration": 3,
    "start_time": "2021-11-16T10:55:59.186Z"
   },
   {
    "duration": 3,
    "start_time": "2021-11-16T10:56:10.751Z"
   },
   {
    "duration": 3,
    "start_time": "2021-11-16T10:56:49.038Z"
   },
   {
    "duration": 3,
    "start_time": "2021-11-16T10:56:49.174Z"
   },
   {
    "duration": 4,
    "start_time": "2021-11-16T10:56:49.414Z"
   },
   {
    "duration": 3,
    "start_time": "2021-11-16T10:56:49.680Z"
   },
   {
    "duration": 3,
    "start_time": "2021-11-16T10:56:50.370Z"
   },
   {
    "duration": 114,
    "start_time": "2021-11-16T10:59:34.518Z"
   },
   {
    "duration": 3,
    "start_time": "2021-11-16T11:01:41.201Z"
   },
   {
    "duration": 116,
    "start_time": "2021-11-16T11:01:48.754Z"
   },
   {
    "duration": 3,
    "start_time": "2021-11-16T11:02:16.685Z"
   },
   {
    "duration": 3,
    "start_time": "2021-11-16T11:02:19.479Z"
   },
   {
    "duration": 3,
    "start_time": "2021-11-16T11:02:47.067Z"
   },
   {
    "duration": 3,
    "start_time": "2021-11-16T11:02:49.353Z"
   },
   {
    "duration": 3,
    "start_time": "2021-11-16T11:03:07.835Z"
   },
   {
    "duration": 3,
    "start_time": "2021-11-16T11:03:07.953Z"
   },
   {
    "duration": 112,
    "start_time": "2021-11-16T11:07:52.072Z"
   },
   {
    "duration": 187,
    "start_time": "2021-11-16T11:09:23.468Z"
   },
   {
    "duration": 4,
    "start_time": "2021-11-16T11:10:01.455Z"
   },
   {
    "duration": 3,
    "start_time": "2021-11-16T11:10:05.069Z"
   },
   {
    "duration": 4,
    "start_time": "2021-11-16T11:10:13.376Z"
   },
   {
    "duration": 3,
    "start_time": "2021-11-16T11:10:14.434Z"
   },
   {
    "duration": 3,
    "start_time": "2021-11-16T11:10:22.853Z"
   },
   {
    "duration": 4,
    "start_time": "2021-11-16T11:27:29.279Z"
   },
   {
    "duration": 4,
    "start_time": "2021-11-16T11:29:08.919Z"
   },
   {
    "duration": 118,
    "start_time": "2021-11-16T11:29:46.703Z"
   },
   {
    "duration": 437,
    "start_time": "2021-11-16T11:36:02.181Z"
   },
   {
    "duration": 157,
    "start_time": "2021-11-16T11:36:14.388Z"
   },
   {
    "duration": 207,
    "start_time": "2021-11-16T11:47:15.898Z"
   },
   {
    "duration": 3,
    "start_time": "2021-11-16T11:53:52.092Z"
   },
   {
    "duration": 3,
    "start_time": "2021-11-16T11:53:52.236Z"
   },
   {
    "duration": 3,
    "start_time": "2021-11-16T11:59:12.005Z"
   },
   {
    "duration": 112,
    "start_time": "2021-11-16T12:00:33.446Z"
   },
   {
    "duration": 3,
    "start_time": "2021-11-16T12:02:14.453Z"
   },
   {
    "duration": 3,
    "start_time": "2021-11-16T12:02:39.512Z"
   },
   {
    "duration": 106,
    "start_time": "2021-11-16T12:03:03.460Z"
   },
   {
    "duration": 3,
    "start_time": "2021-11-17T20:37:21.139Z"
   },
   {
    "duration": 3,
    "start_time": "2021-11-17T20:37:22.229Z"
   },
   {
    "duration": 3,
    "start_time": "2021-11-17T20:38:38.806Z"
   },
   {
    "duration": 3,
    "start_time": "2021-11-17T20:38:41.958Z"
   },
   {
    "duration": 3,
    "start_time": "2021-11-17T20:43:46.551Z"
   },
   {
    "duration": 4,
    "start_time": "2021-11-17T20:58:21.835Z"
   },
   {
    "duration": 3,
    "start_time": "2021-11-17T20:59:21.872Z"
   },
   {
    "duration": 4,
    "start_time": "2021-11-17T20:59:45.352Z"
   },
   {
    "duration": 4,
    "start_time": "2021-11-17T20:59:49.646Z"
   },
   {
    "duration": 159,
    "start_time": "2021-11-17T21:02:26.949Z"
   },
   {
    "duration": 3,
    "start_time": "2021-11-17T21:03:53.461Z"
   },
   {
    "duration": 3,
    "start_time": "2021-11-17T21:03:53.694Z"
   },
   {
    "duration": 3,
    "start_time": "2021-11-17T21:05:28.145Z"
   },
   {
    "duration": 116,
    "start_time": "2021-11-17T21:05:57.787Z"
   },
   {
    "duration": 3,
    "start_time": "2021-11-17T21:06:37.993Z"
   },
   {
    "duration": 3,
    "start_time": "2021-11-17T21:06:38.261Z"
   },
   {
    "duration": 3,
    "start_time": "2021-11-17T21:11:54.358Z"
   },
   {
    "duration": 3,
    "start_time": "2021-11-17T21:12:43.846Z"
   },
   {
    "duration": 4,
    "start_time": "2021-11-17T21:13:08.773Z"
   },
   {
    "duration": 3,
    "start_time": "2021-11-17T21:14:44.441Z"
   },
   {
    "duration": 3,
    "start_time": "2021-11-17T21:15:42.059Z"
   },
   {
    "duration": 4,
    "start_time": "2021-11-17T21:15:51.995Z"
   },
   {
    "duration": 3,
    "start_time": "2021-11-17T21:15:53.923Z"
   },
   {
    "duration": 3,
    "start_time": "2021-11-17T21:15:55.282Z"
   },
   {
    "duration": 3,
    "start_time": "2021-11-17T21:16:28.492Z"
   },
   {
    "duration": 3,
    "start_time": "2021-11-17T21:16:32.603Z"
   },
   {
    "duration": 3,
    "start_time": "2021-11-17T21:17:06.941Z"
   },
   {
    "duration": 98,
    "start_time": "2021-11-17T21:18:05.733Z"
   },
   {
    "duration": 4,
    "start_time": "2021-11-17T21:21:35.255Z"
   },
   {
    "duration": 3,
    "start_time": "2021-11-17T21:21:37.804Z"
   },
   {
    "duration": 4,
    "start_time": "2021-11-17T21:23:06.071Z"
   },
   {
    "duration": 3,
    "start_time": "2021-11-17T21:23:24.799Z"
   },
   {
    "duration": 3,
    "start_time": "2021-11-17T21:23:32.591Z"
   },
   {
    "duration": 98,
    "start_time": "2021-11-17T21:28:31.559Z"
   },
   {
    "duration": 3,
    "start_time": "2021-11-17T21:28:45.448Z"
   },
   {
    "duration": 3,
    "start_time": "2021-11-17T21:29:17.303Z"
   },
   {
    "duration": 3,
    "start_time": "2021-11-17T21:29:29.617Z"
   },
   {
    "duration": 3,
    "start_time": "2021-11-17T21:29:32.681Z"
   },
   {
    "duration": 3,
    "start_time": "2021-11-17T21:36:11.474Z"
   },
   {
    "duration": 3,
    "start_time": "2021-11-17T21:36:14.791Z"
   },
   {
    "duration": 3,
    "start_time": "2021-11-17T21:36:53.943Z"
   },
   {
    "duration": 3,
    "start_time": "2021-11-17T21:36:56.165Z"
   },
   {
    "duration": 4,
    "start_time": "2021-11-17T21:37:16.590Z"
   },
   {
    "duration": 3,
    "start_time": "2021-11-17T21:37:22.702Z"
   },
   {
    "duration": 4,
    "start_time": "2021-11-17T21:38:03.479Z"
   },
   {
    "duration": 3,
    "start_time": "2021-11-17T21:38:08.601Z"
   },
   {
    "duration": 3,
    "start_time": "2021-11-17T21:38:12.928Z"
   },
   {
    "duration": 3,
    "start_time": "2021-11-17T21:38:48.896Z"
   },
   {
    "duration": 2,
    "start_time": "2021-11-17T21:38:49.171Z"
   },
   {
    "duration": 4,
    "start_time": "2021-11-17T21:39:57.889Z"
   },
   {
    "duration": 3,
    "start_time": "2021-11-17T21:39:58.057Z"
   },
   {
    "duration": 3,
    "start_time": "2021-11-17T21:41:20.108Z"
   },
   {
    "duration": 3,
    "start_time": "2021-11-17T21:41:20.629Z"
   },
   {
    "duration": 3,
    "start_time": "2021-11-17T21:42:49.136Z"
   },
   {
    "duration": 3,
    "start_time": "2021-11-17T21:43:15.137Z"
   },
   {
    "duration": 4,
    "start_time": "2021-11-17T21:43:16.766Z"
   },
   {
    "duration": 4,
    "start_time": "2021-11-17T21:43:31.711Z"
   },
   {
    "duration": 3,
    "start_time": "2021-11-17T21:43:36.312Z"
   },
   {
    "duration": 4,
    "start_time": "2021-11-17T21:45:08.825Z"
   },
   {
    "duration": 4,
    "start_time": "2021-11-17T21:45:10.119Z"
   },
   {
    "duration": 4,
    "start_time": "2021-11-17T21:45:13.748Z"
   },
   {
    "duration": 3,
    "start_time": "2021-11-17T21:45:22.219Z"
   },
   {
    "duration": 3,
    "start_time": "2021-11-17T21:45:33.412Z"
   },
   {
    "duration": 2,
    "start_time": "2021-11-17T21:46:01.885Z"
   },
   {
    "duration": 3,
    "start_time": "2021-11-17T21:46:03.628Z"
   },
   {
    "duration": 107,
    "start_time": "2021-11-17T21:47:32.512Z"
   },
   {
    "duration": 103,
    "start_time": "2021-11-17T21:50:36.243Z"
   },
   {
    "duration": 3,
    "start_time": "2021-11-18T06:28:31.440Z"
   },
   {
    "duration": 3,
    "start_time": "2021-11-18T06:29:00.168Z"
   },
   {
    "duration": 3,
    "start_time": "2021-11-18T06:31:27.008Z"
   },
   {
    "duration": 2,
    "start_time": "2021-11-18T06:35:34.288Z"
   },
   {
    "duration": 2,
    "start_time": "2021-11-18T06:38:04.527Z"
   },
   {
    "duration": 2,
    "start_time": "2024-12-05T03:26:34.706Z"
   },
   {
    "duration": 62,
    "start_time": "2024-12-05T03:26:38.292Z"
   },
   {
    "duration": 60,
    "start_time": "2024-12-05T03:30:00.275Z"
   },
   {
    "duration": 2,
    "start_time": "2024-12-05T03:47:01.115Z"
   },
   {
    "duration": 57,
    "start_time": "2024-12-05T03:47:05.763Z"
   },
   {
    "duration": 65,
    "start_time": "2024-12-05T03:51:49.896Z"
   },
   {
    "duration": 269,
    "start_time": "2024-12-05T03:52:55.987Z"
   },
   {
    "duration": 237,
    "start_time": "2024-12-05T04:01:45.268Z"
   },
   {
    "duration": 172,
    "start_time": "2024-12-05T04:03:55.650Z"
   },
   {
    "duration": 230,
    "start_time": "2024-12-05T04:14:02.881Z"
   },
   {
    "duration": 18,
    "start_time": "2024-12-05T04:15:41.336Z"
   },
   {
    "duration": 9,
    "start_time": "2024-12-05T04:17:04.601Z"
   },
   {
    "duration": 11,
    "start_time": "2024-12-05T04:17:21.105Z"
   },
   {
    "duration": 7,
    "start_time": "2024-12-05T04:17:42.179Z"
   },
   {
    "duration": 8,
    "start_time": "2024-12-05T04:29:47.973Z"
   },
   {
    "duration": 7,
    "start_time": "2024-12-05T04:30:16.064Z"
   },
   {
    "duration": 9,
    "start_time": "2024-12-05T04:30:23.061Z"
   },
   {
    "duration": 9,
    "start_time": "2024-12-05T04:31:03.900Z"
   },
   {
    "duration": 14,
    "start_time": "2024-12-05T04:38:13.896Z"
   },
   {
    "duration": 12,
    "start_time": "2024-12-05T04:39:52.393Z"
   },
   {
    "duration": 13,
    "start_time": "2024-12-05T04:42:44.973Z"
   },
   {
    "duration": 3,
    "start_time": "2024-12-05T04:43:13.855Z"
   },
   {
    "duration": 7,
    "start_time": "2024-12-05T04:43:30.325Z"
   },
   {
    "duration": 244,
    "start_time": "2024-12-05T04:47:49.833Z"
   },
   {
    "duration": 27,
    "start_time": "2024-12-05T04:49:52.920Z"
   },
   {
    "duration": 4,
    "start_time": "2024-12-05T04:51:08.965Z"
   },
   {
    "duration": 5,
    "start_time": "2024-12-05T04:51:37.737Z"
   },
   {
    "duration": 14,
    "start_time": "2024-12-05T04:59:00.421Z"
   },
   {
    "duration": 6,
    "start_time": "2024-12-05T04:59:07.544Z"
   },
   {
    "duration": 6,
    "start_time": "2024-12-05T04:59:23.389Z"
   },
   {
    "duration": 8,
    "start_time": "2024-12-05T05:00:26.326Z"
   },
   {
    "duration": 9,
    "start_time": "2024-12-05T05:00:37.720Z"
   },
   {
    "duration": 9,
    "start_time": "2024-12-05T05:00:49.596Z"
   },
   {
    "duration": 9,
    "start_time": "2024-12-05T05:01:41.623Z"
   },
   {
    "duration": 13,
    "start_time": "2024-12-05T05:02:25.393Z"
   },
   {
    "duration": 15,
    "start_time": "2024-12-05T05:06:21.401Z"
   },
   {
    "duration": 15,
    "start_time": "2024-12-05T05:06:37.659Z"
   },
   {
    "duration": 14,
    "start_time": "2024-12-05T05:12:40.001Z"
   },
   {
    "duration": 14,
    "start_time": "2024-12-05T05:12:56.270Z"
   },
   {
    "duration": 14,
    "start_time": "2024-12-05T05:13:48.072Z"
   },
   {
    "duration": 25,
    "start_time": "2024-12-05T05:19:06.915Z"
   },
   {
    "duration": 23,
    "start_time": "2024-12-05T05:27:39.019Z"
   },
   {
    "duration": 13,
    "start_time": "2024-12-05T05:29:37.068Z"
   },
   {
    "duration": 156,
    "start_time": "2024-12-05T05:30:49.149Z"
   },
   {
    "duration": 9,
    "start_time": "2024-12-05T05:30:54.752Z"
   },
   {
    "duration": 7,
    "start_time": "2024-12-05T05:30:55.250Z"
   },
   {
    "duration": 8,
    "start_time": "2024-12-05T05:30:56.903Z"
   },
   {
    "duration": 8,
    "start_time": "2024-12-05T05:31:00.264Z"
   },
   {
    "duration": 9,
    "start_time": "2024-12-05T05:31:00.820Z"
   },
   {
    "duration": 13,
    "start_time": "2024-12-05T05:31:02.896Z"
   },
   {
    "duration": 18,
    "start_time": "2024-12-05T05:31:08.120Z"
   },
   {
    "duration": 9,
    "start_time": "2024-12-05T05:31:10.225Z"
   },
   {
    "duration": 26,
    "start_time": "2024-12-05T05:31:21.522Z"
   },
   {
    "duration": 103,
    "start_time": "2024-12-05T05:34:40.466Z"
   },
   {
    "duration": 11,
    "start_time": "2024-12-05T05:35:55.816Z"
   },
   {
    "duration": 12,
    "start_time": "2024-12-05T05:36:07.275Z"
   },
   {
    "duration": 9,
    "start_time": "2024-12-05T05:36:29.434Z"
   },
   {
    "duration": 32,
    "start_time": "2024-12-05T05:44:08.311Z"
   },
   {
    "duration": 29,
    "start_time": "2024-12-05T05:44:36.302Z"
   },
   {
    "duration": 12,
    "start_time": "2024-12-05T05:47:18.476Z"
   },
   {
    "duration": 13,
    "start_time": "2024-12-05T05:48:59.422Z"
   },
   {
    "duration": 8,
    "start_time": "2024-12-05T05:49:34.984Z"
   },
   {
    "duration": 13,
    "start_time": "2024-12-05T05:55:43.540Z"
   },
   {
    "duration": 24,
    "start_time": "2024-12-05T05:55:58.646Z"
   },
   {
    "duration": 15,
    "start_time": "2024-12-05T06:01:09.934Z"
   },
   {
    "duration": 39,
    "start_time": "2024-12-05T06:01:55.151Z"
   },
   {
    "duration": 11,
    "start_time": "2024-12-05T06:02:37.609Z"
   },
   {
    "duration": 14,
    "start_time": "2024-12-05T06:02:47.842Z"
   },
   {
    "duration": 51,
    "start_time": "2024-12-05T06:03:40.382Z"
   },
   {
    "duration": 9,
    "start_time": "2024-12-05T06:06:43.194Z"
   },
   {
    "duration": 11,
    "start_time": "2024-12-05T06:09:04.294Z"
   },
   {
    "duration": 12,
    "start_time": "2024-12-05T06:10:56.255Z"
   },
   {
    "duration": 424,
    "start_time": "2024-12-05T06:11:22.886Z"
   },
   {
    "duration": 9,
    "start_time": "2024-12-05T06:11:46.466Z"
   },
   {
    "duration": 3,
    "start_time": "2024-12-05T06:12:12.657Z"
   },
   {
    "duration": 164,
    "start_time": "2024-12-05T06:12:18.189Z"
   },
   {
    "duration": 8,
    "start_time": "2024-12-05T06:12:26.859Z"
   },
   {
    "duration": 7,
    "start_time": "2024-12-05T06:12:45.218Z"
   },
   {
    "duration": 8,
    "start_time": "2024-12-05T06:12:54.636Z"
   },
   {
    "duration": 8,
    "start_time": "2024-12-05T06:13:06.604Z"
   },
   {
    "duration": 8,
    "start_time": "2024-12-05T06:13:15.218Z"
   },
   {
    "duration": 9,
    "start_time": "2024-12-05T06:13:18.203Z"
   },
   {
    "duration": 14,
    "start_time": "2024-12-05T06:14:01.737Z"
   },
   {
    "duration": 15,
    "start_time": "2024-12-05T06:14:17.379Z"
   },
   {
    "duration": 10,
    "start_time": "2024-12-05T06:15:07.000Z"
   },
   {
    "duration": 49,
    "start_time": "2024-12-05T06:15:54.279Z"
   },
   {
    "duration": 16,
    "start_time": "2024-12-05T06:16:06.524Z"
   },
   {
    "duration": 12,
    "start_time": "2024-12-05T06:16:22.333Z"
   },
   {
    "duration": 8,
    "start_time": "2024-12-05T06:16:26.700Z"
   },
   {
    "duration": 29,
    "start_time": "2024-12-05T06:16:59.889Z"
   },
   {
    "duration": 11,
    "start_time": "2024-12-05T06:17:09.240Z"
   },
   {
    "duration": 14,
    "start_time": "2024-12-05T06:17:19.327Z"
   },
   {
    "duration": 10,
    "start_time": "2024-12-05T06:17:45.125Z"
   },
   {
    "duration": 47,
    "start_time": "2024-12-05T06:18:40.008Z"
   },
   {
    "duration": 15,
    "start_time": "2024-12-05T06:18:46.733Z"
   },
   {
    "duration": 7,
    "start_time": "2024-12-05T06:19:17.866Z"
   },
   {
    "duration": 12,
    "start_time": "2024-12-05T06:19:20.172Z"
   },
   {
    "duration": 4,
    "start_time": "2024-12-05T06:20:41.396Z"
   },
   {
    "duration": 11,
    "start_time": "2024-12-05T06:20:58.898Z"
   },
   {
    "duration": 8,
    "start_time": "2024-12-05T06:21:42.799Z"
   },
   {
    "duration": 4,
    "start_time": "2024-12-05T06:25:07.674Z"
   },
   {
    "duration": 5,
    "start_time": "2024-12-05T06:25:34.729Z"
   },
   {
    "duration": 17,
    "start_time": "2024-12-05T06:26:45.135Z"
   },
   {
    "duration": 7,
    "start_time": "2024-12-05T06:28:11.435Z"
   },
   {
    "duration": 6,
    "start_time": "2024-12-05T06:28:30.140Z"
   },
   {
    "duration": 9,
    "start_time": "2024-12-05T06:28:40.177Z"
   },
   {
    "duration": 17,
    "start_time": "2024-12-05T06:30:32.432Z"
   },
   {
    "duration": 13,
    "start_time": "2024-12-05T06:32:11.909Z"
   },
   {
    "duration": 12,
    "start_time": "2024-12-05T06:33:29.645Z"
   },
   {
    "duration": 105,
    "start_time": "2024-12-05T06:44:03.072Z"
   },
   {
    "duration": 34,
    "start_time": "2024-12-05T06:47:01.798Z"
   },
   {
    "duration": 35,
    "start_time": "2024-12-05T06:47:17.423Z"
   },
   {
    "duration": 42,
    "start_time": "2024-12-05T06:52:58.963Z"
   },
   {
    "duration": 16,
    "start_time": "2024-12-05T06:53:22.544Z"
   },
   {
    "duration": 11,
    "start_time": "2024-12-05T06:56:11.547Z"
   },
   {
    "duration": 13,
    "start_time": "2024-12-05T06:57:16.147Z"
   },
   {
    "duration": 12,
    "start_time": "2024-12-05T07:00:19.354Z"
   },
   {
    "duration": 12,
    "start_time": "2024-12-05T07:03:14.908Z"
   },
   {
    "duration": 14,
    "start_time": "2024-12-05T07:03:46.382Z"
   },
   {
    "duration": 10,
    "start_time": "2024-12-05T07:04:38.743Z"
   },
   {
    "duration": 10,
    "start_time": "2024-12-05T07:06:10.653Z"
   },
   {
    "duration": 155,
    "start_time": "2024-12-05T07:07:42.779Z"
   },
   {
    "duration": 9,
    "start_time": "2024-12-05T07:09:13.947Z"
   },
   {
    "duration": 10,
    "start_time": "2024-12-05T07:17:08.388Z"
   },
   {
    "duration": 10,
    "start_time": "2024-12-05T07:20:47.569Z"
   },
   {
    "duration": 15,
    "start_time": "2024-12-05T07:21:27.382Z"
   },
   {
    "duration": 9,
    "start_time": "2024-12-05T07:21:43.638Z"
   },
   {
    "duration": 10,
    "start_time": "2024-12-05T07:22:18.470Z"
   },
   {
    "duration": 12,
    "start_time": "2024-12-05T07:27:43.789Z"
   },
   {
    "duration": 12,
    "start_time": "2024-12-05T07:28:26.336Z"
   },
   {
    "duration": 13,
    "start_time": "2024-12-05T07:31:11.130Z"
   },
   {
    "duration": 13,
    "start_time": "2024-12-05T07:31:19.030Z"
   },
   {
    "duration": 12,
    "start_time": "2024-12-05T07:31:25.855Z"
   },
   {
    "duration": 10,
    "start_time": "2024-12-05T07:31:40.526Z"
   },
   {
    "duration": 14,
    "start_time": "2024-12-05T07:33:47.635Z"
   },
   {
    "duration": 13,
    "start_time": "2024-12-05T07:34:05.472Z"
   },
   {
    "duration": 19,
    "start_time": "2024-12-05T07:35:39.434Z"
   },
   {
    "duration": 10,
    "start_time": "2024-12-05T07:36:01.770Z"
   },
   {
    "duration": 11,
    "start_time": "2024-12-05T07:37:23.261Z"
   },
   {
    "duration": 11,
    "start_time": "2024-12-05T07:38:10.936Z"
   },
   {
    "duration": 6,
    "start_time": "2024-12-05T07:39:01.850Z"
   },
   {
    "duration": 12,
    "start_time": "2024-12-05T07:39:15.907Z"
   },
   {
    "duration": 15,
    "start_time": "2024-12-05T07:40:46.167Z"
   },
   {
    "duration": 16,
    "start_time": "2024-12-05T07:41:58.863Z"
   },
   {
    "duration": 12,
    "start_time": "2024-12-05T07:42:24.223Z"
   },
   {
    "duration": 14,
    "start_time": "2024-12-05T07:42:25.326Z"
   },
   {
    "duration": 9,
    "start_time": "2024-12-05T07:42:28.642Z"
   },
   {
    "duration": 12,
    "start_time": "2024-12-05T07:42:35.331Z"
   },
   {
    "duration": 17,
    "start_time": "2024-12-05T07:42:39.552Z"
   },
   {
    "duration": 19,
    "start_time": "2024-12-05T07:46:18.853Z"
   },
   {
    "duration": 12,
    "start_time": "2024-12-05T07:47:39.597Z"
   },
   {
    "duration": 13,
    "start_time": "2024-12-05T07:47:50.617Z"
   },
   {
    "duration": 13,
    "start_time": "2024-12-05T07:47:56.326Z"
   },
   {
    "duration": 10,
    "start_time": "2024-12-05T07:47:57.092Z"
   },
   {
    "duration": 11,
    "start_time": "2024-12-05T07:47:58.426Z"
   },
   {
    "duration": 12,
    "start_time": "2024-12-05T07:50:32.847Z"
   },
   {
    "duration": 14,
    "start_time": "2024-12-05T07:50:33.640Z"
   },
   {
    "duration": 10,
    "start_time": "2024-12-05T07:50:34.518Z"
   },
   {
    "duration": 11,
    "start_time": "2024-12-05T07:50:35.666Z"
   },
   {
    "duration": 21,
    "start_time": "2024-12-05T07:50:39.168Z"
   },
   {
    "duration": 19,
    "start_time": "2024-12-05T07:52:17.090Z"
   },
   {
    "duration": 20,
    "start_time": "2024-12-05T07:53:36.291Z"
   },
   {
    "duration": 21,
    "start_time": "2024-12-05T07:57:07.585Z"
   },
   {
    "duration": 19,
    "start_time": "2024-12-05T07:57:25.802Z"
   },
   {
    "duration": 7,
    "start_time": "2024-12-05T07:57:49.840Z"
   },
   {
    "duration": 26,
    "start_time": "2024-12-05T07:58:03.942Z"
   },
   {
    "duration": 19,
    "start_time": "2024-12-05T08:01:09.819Z"
   },
   {
    "duration": 40,
    "start_time": "2024-12-05T08:01:54.917Z"
   },
   {
    "duration": 49,
    "start_time": "2024-12-05T08:02:11.763Z"
   },
   {
    "duration": 12,
    "start_time": "2024-12-05T08:02:30.120Z"
   },
   {
    "duration": 14,
    "start_time": "2024-12-05T08:02:30.794Z"
   },
   {
    "duration": 9,
    "start_time": "2024-12-05T08:02:31.659Z"
   },
   {
    "duration": 12,
    "start_time": "2024-12-05T08:02:32.355Z"
   },
   {
    "duration": 20,
    "start_time": "2024-12-05T08:02:35.234Z"
   },
   {
    "duration": 21,
    "start_time": "2024-12-05T08:02:36.494Z"
   },
   {
    "duration": 24,
    "start_time": "2024-12-05T08:04:11.086Z"
   },
   {
    "duration": 31,
    "start_time": "2024-12-05T08:04:49.855Z"
   },
   {
    "duration": 12,
    "start_time": "2024-12-05T08:05:05.048Z"
   },
   {
    "duration": 14,
    "start_time": "2024-12-05T08:05:05.819Z"
   },
   {
    "duration": 11,
    "start_time": "2024-12-05T08:05:06.484Z"
   },
   {
    "duration": 10,
    "start_time": "2024-12-05T08:05:07.214Z"
   },
   {
    "duration": 19,
    "start_time": "2024-12-05T08:05:11.512Z"
   },
   {
    "duration": 21,
    "start_time": "2024-12-05T08:05:12.706Z"
   },
   {
    "duration": 14,
    "start_time": "2024-12-05T08:06:31.416Z"
   },
   {
    "duration": 14,
    "start_time": "2024-12-05T08:06:32.108Z"
   },
   {
    "duration": 11,
    "start_time": "2024-12-05T08:06:32.843Z"
   },
   {
    "duration": 11,
    "start_time": "2024-12-05T08:06:33.582Z"
   },
   {
    "duration": 19,
    "start_time": "2024-12-05T08:06:36.247Z"
   },
   {
    "duration": 9,
    "start_time": "2024-12-05T08:06:45.523Z"
   },
   {
    "duration": 13,
    "start_time": "2024-12-05T08:07:15.284Z"
   },
   {
    "duration": 14,
    "start_time": "2024-12-05T08:07:15.846Z"
   },
   {
    "duration": 11,
    "start_time": "2024-12-05T08:07:16.558Z"
   },
   {
    "duration": 12,
    "start_time": "2024-12-05T08:07:19.201Z"
   },
   {
    "duration": 18,
    "start_time": "2024-12-05T08:07:22.305Z"
   },
   {
    "duration": 28,
    "start_time": "2024-12-05T08:07:23.756Z"
   },
   {
    "duration": 192,
    "start_time": "2024-12-05T23:09:01.175Z"
   },
   {
    "duration": 615,
    "start_time": "2024-12-05T23:10:01.666Z"
   },
   {
    "duration": 218,
    "start_time": "2024-12-05T23:10:02.748Z"
   },
   {
    "duration": 9,
    "start_time": "2024-12-05T23:10:05.122Z"
   },
   {
    "duration": 10,
    "start_time": "2024-12-05T23:10:05.811Z"
   },
   {
    "duration": 8,
    "start_time": "2024-12-05T23:10:07.803Z"
   },
   {
    "duration": 8,
    "start_time": "2024-12-05T23:10:10.180Z"
   },
   {
    "duration": 9,
    "start_time": "2024-12-05T23:10:11.003Z"
   },
   {
    "duration": 13,
    "start_time": "2024-12-05T23:10:14.672Z"
   },
   {
    "duration": 16,
    "start_time": "2024-12-05T23:10:17.092Z"
   },
   {
    "duration": 9,
    "start_time": "2024-12-05T23:10:17.880Z"
   },
   {
    "duration": 56,
    "start_time": "2024-12-05T23:10:21.048Z"
   },
   {
    "duration": 17,
    "start_time": "2024-12-05T23:12:10.109Z"
   },
   {
    "duration": 12,
    "start_time": "2024-12-05T23:12:11.489Z"
   },
   {
    "duration": 8,
    "start_time": "2024-12-05T23:12:12.158Z"
   },
   {
    "duration": 30,
    "start_time": "2024-12-05T23:12:14.373Z"
   },
   {
    "duration": 11,
    "start_time": "2024-12-05T23:12:15.625Z"
   },
   {
    "duration": 13,
    "start_time": "2024-12-05T23:12:17.396Z"
   },
   {
    "duration": 9,
    "start_time": "2024-12-05T23:12:18.362Z"
   },
   {
    "duration": 51,
    "start_time": "2024-12-05T23:12:21.422Z"
   },
   {
    "duration": 15,
    "start_time": "2024-12-05T23:12:23.408Z"
   },
   {
    "duration": 7,
    "start_time": "2024-12-05T23:12:25.210Z"
   },
   {
    "duration": 14,
    "start_time": "2024-12-05T23:12:27.747Z"
   },
   {
    "duration": 10,
    "start_time": "2024-12-05T23:12:28.927Z"
   },
   {
    "duration": 8,
    "start_time": "2024-12-05T23:12:33.306Z"
   },
   {
    "duration": 13,
    "start_time": "2024-12-05T23:12:55.766Z"
   },
   {
    "duration": 13,
    "start_time": "2024-12-05T23:13:05.644Z"
   },
   {
    "duration": 12,
    "start_time": "2024-12-05T23:13:16.391Z"
   },
   {
    "duration": 19,
    "start_time": "2024-12-05T23:13:27.037Z"
   },
   {
    "duration": 65,
    "start_time": "2024-12-05T23:31:01.389Z"
   },
   {
    "duration": 11,
    "start_time": "2024-12-05T23:31:09.289Z"
   },
   {
    "duration": 407,
    "start_time": "2024-12-05T23:32:17.193Z"
   },
   {
    "duration": 41,
    "start_time": "2024-12-05T23:33:38.823Z"
   },
   {
    "duration": 41,
    "start_time": "2024-12-05T23:33:47.614Z"
   },
   {
    "duration": 156,
    "start_time": "2024-12-05T23:34:23.008Z"
   },
   {
    "duration": 8,
    "start_time": "2024-12-05T23:34:27.647Z"
   },
   {
    "duration": 7,
    "start_time": "2024-12-05T23:34:29.101Z"
   },
   {
    "duration": 8,
    "start_time": "2024-12-05T23:34:37.686Z"
   },
   {
    "duration": 3,
    "start_time": "2024-12-05T23:34:43.441Z"
   },
   {
    "duration": 5,
    "start_time": "2024-12-05T23:38:53.586Z"
   },
   {
    "duration": 151,
    "start_time": "2024-12-05T23:39:34.820Z"
   },
   {
    "duration": 8,
    "start_time": "2024-12-05T23:39:37.286Z"
   },
   {
    "duration": 8,
    "start_time": "2024-12-05T23:39:40.102Z"
   },
   {
    "duration": 8,
    "start_time": "2024-12-05T23:39:48.062Z"
   },
   {
    "duration": 12,
    "start_time": "2024-12-05T23:39:55.649Z"
   },
   {
    "duration": 145,
    "start_time": "2024-12-05T23:42:28.115Z"
   },
   {
    "duration": 8,
    "start_time": "2024-12-05T23:42:30.442Z"
   },
   {
    "duration": 8,
    "start_time": "2024-12-05T23:42:33.497Z"
   },
   {
    "duration": 7,
    "start_time": "2024-12-05T23:43:06.947Z"
   },
   {
    "duration": 10,
    "start_time": "2024-12-05T23:43:11.315Z"
   },
   {
    "duration": 8,
    "start_time": "2024-12-05T23:43:18.850Z"
   },
   {
    "duration": 9,
    "start_time": "2024-12-05T23:43:20.071Z"
   },
   {
    "duration": 13,
    "start_time": "2024-12-05T23:43:24.903Z"
   },
   {
    "duration": 18,
    "start_time": "2024-12-05T23:43:27.764Z"
   },
   {
    "duration": 10,
    "start_time": "2024-12-05T23:43:28.617Z"
   },
   {
    "duration": 48,
    "start_time": "2024-12-05T23:43:35.528Z"
   },
   {
    "duration": 17,
    "start_time": "2024-12-05T23:43:37.966Z"
   },
   {
    "duration": 12,
    "start_time": "2024-12-05T23:43:39.267Z"
   },
   {
    "duration": 8,
    "start_time": "2024-12-05T23:43:39.971Z"
   },
   {
    "duration": 32,
    "start_time": "2024-12-05T23:43:42.701Z"
   },
   {
    "duration": 13,
    "start_time": "2024-12-05T23:43:44.175Z"
   },
   {
    "duration": 14,
    "start_time": "2024-12-05T23:43:45.594Z"
   },
   {
    "duration": 9,
    "start_time": "2024-12-05T23:43:46.467Z"
   },
   {
    "duration": 48,
    "start_time": "2024-12-05T23:43:48.603Z"
   },
   {
    "duration": 14,
    "start_time": "2024-12-05T23:43:50.252Z"
   },
   {
    "duration": 7,
    "start_time": "2024-12-05T23:43:51.778Z"
   },
   {
    "duration": 13,
    "start_time": "2024-12-05T23:43:53.385Z"
   },
   {
    "duration": 13,
    "start_time": "2024-12-05T23:43:57.271Z"
   },
   {
    "duration": 13,
    "start_time": "2024-12-05T23:43:59.808Z"
   },
   {
    "duration": 13,
    "start_time": "2024-12-05T23:44:33.529Z"
   },
   {
    "duration": 20,
    "start_time": "2024-12-05T23:44:41.912Z"
   },
   {
    "duration": 27,
    "start_time": "2024-12-05T23:45:16.007Z"
   },
   {
    "duration": 23,
    "start_time": "2024-12-05T23:46:32.909Z"
   },
   {
    "duration": 4,
    "start_time": "2024-12-05T23:47:55.082Z"
   },
   {
    "duration": 13,
    "start_time": "2024-12-05T23:52:06.131Z"
   },
   {
    "duration": 14,
    "start_time": "2024-12-05T23:53:17.293Z"
   },
   {
    "duration": 5,
    "start_time": "2024-12-06T00:00:49.033Z"
   },
   {
    "duration": 22,
    "start_time": "2024-12-06T00:01:47.437Z"
   },
   {
    "duration": 34,
    "start_time": "2024-12-06T00:01:48.902Z"
   },
   {
    "duration": 32,
    "start_time": "2024-12-06T00:16:48.282Z"
   },
   {
    "duration": 28,
    "start_time": "2024-12-06T00:17:43.085Z"
   },
   {
    "duration": 36,
    "start_time": "2024-12-06T00:18:02.195Z"
   },
   {
    "duration": 3,
    "start_time": "2024-12-06T00:23:36.507Z"
   },
   {
    "duration": 147,
    "start_time": "2024-12-06T00:23:37.547Z"
   },
   {
    "duration": 9,
    "start_time": "2024-12-06T00:23:39.779Z"
   },
   {
    "duration": 7,
    "start_time": "2024-12-06T00:23:40.366Z"
   },
   {
    "duration": 11,
    "start_time": "2024-12-06T00:23:42.149Z"
   },
   {
    "duration": 8,
    "start_time": "2024-12-06T00:23:43.378Z"
   },
   {
    "duration": 8,
    "start_time": "2024-12-06T00:23:44.499Z"
   },
   {
    "duration": 8,
    "start_time": "2024-12-06T00:23:45.631Z"
   },
   {
    "duration": 13,
    "start_time": "2024-12-06T00:23:47.604Z"
   },
   {
    "duration": 15,
    "start_time": "2024-12-06T00:23:49.827Z"
   },
   {
    "duration": 9,
    "start_time": "2024-12-06T00:23:50.427Z"
   },
   {
    "duration": 50,
    "start_time": "2024-12-06T00:23:52.209Z"
   },
   {
    "duration": 15,
    "start_time": "2024-12-06T00:23:53.836Z"
   },
   {
    "duration": 13,
    "start_time": "2024-12-06T00:23:55.011Z"
   },
   {
    "duration": 8,
    "start_time": "2024-12-06T00:23:55.608Z"
   },
   {
    "duration": 29,
    "start_time": "2024-12-06T00:23:57.992Z"
   },
   {
    "duration": 16,
    "start_time": "2024-12-06T00:23:59.139Z"
   },
   {
    "duration": 14,
    "start_time": "2024-12-06T00:24:00.319Z"
   },
   {
    "duration": 13,
    "start_time": "2024-12-06T00:24:00.871Z"
   },
   {
    "duration": 50,
    "start_time": "2024-12-06T00:24:02.569Z"
   },
   {
    "duration": 18,
    "start_time": "2024-12-06T00:24:03.777Z"
   },
   {
    "duration": 8,
    "start_time": "2024-12-06T00:24:04.850Z"
   },
   {
    "duration": 17,
    "start_time": "2024-12-06T00:24:05.973Z"
   },
   {
    "duration": 14,
    "start_time": "2024-12-06T00:24:06.734Z"
   },
   {
    "duration": 15,
    "start_time": "2024-12-06T00:24:07.279Z"
   },
   {
    "duration": 13,
    "start_time": "2024-12-06T00:24:07.842Z"
   },
   {
    "duration": 20,
    "start_time": "2024-12-06T00:24:08.864Z"
   },
   {
    "duration": 30,
    "start_time": "2024-12-06T00:24:09.486Z"
   },
   {
    "duration": 26,
    "start_time": "2024-12-06T00:24:10.705Z"
   },
   {
    "duration": 7,
    "start_time": "2024-12-06T00:32:27.161Z"
   },
   {
    "duration": 148,
    "start_time": "2024-12-06T00:33:32.843Z"
   },
   {
    "duration": 9,
    "start_time": "2024-12-06T00:33:35.443Z"
   },
   {
    "duration": 7,
    "start_time": "2024-12-06T00:33:36.609Z"
   },
   {
    "duration": 8,
    "start_time": "2024-12-06T00:33:47.858Z"
   },
   {
    "duration": 9,
    "start_time": "2024-12-06T00:33:49.418Z"
   },
   {
    "duration": 9,
    "start_time": "2024-12-06T00:33:51.361Z"
   },
   {
    "duration": 9,
    "start_time": "2024-12-06T00:33:52.362Z"
   },
   {
    "duration": 13,
    "start_time": "2024-12-06T00:33:55.001Z"
   },
   {
    "duration": 15,
    "start_time": "2024-12-06T00:34:42.988Z"
   },
   {
    "duration": 7,
    "start_time": "2024-12-06T00:34:45.451Z"
   },
   {
    "duration": 47,
    "start_time": "2024-12-06T00:35:08.741Z"
   },
   {
    "duration": 13,
    "start_time": "2024-12-06T00:35:10.710Z"
   },
   {
    "duration": 11,
    "start_time": "2024-12-06T00:35:13.060Z"
   },
   {
    "duration": 6,
    "start_time": "2024-12-06T00:35:21.258Z"
   },
   {
    "duration": 29,
    "start_time": "2024-12-06T00:36:07.696Z"
   },
   {
    "duration": 10,
    "start_time": "2024-12-06T00:36:30.003Z"
   },
   {
    "duration": 13,
    "start_time": "2024-12-06T00:36:37.694Z"
   },
   {
    "duration": 7,
    "start_time": "2024-12-06T00:36:48.118Z"
   },
   {
    "duration": 54,
    "start_time": "2024-12-06T00:37:27.752Z"
   },
   {
    "duration": 12,
    "start_time": "2024-12-06T00:37:40.829Z"
   },
   {
    "duration": 8,
    "start_time": "2024-12-06T00:37:55.150Z"
   },
   {
    "duration": 15,
    "start_time": "2024-12-06T00:38:11.026Z"
   },
   {
    "duration": 19,
    "start_time": "2024-12-06T00:38:36.492Z"
   },
   {
    "duration": 17,
    "start_time": "2024-12-06T00:38:48.556Z"
   },
   {
    "duration": 14,
    "start_time": "2024-12-06T00:39:13.791Z"
   },
   {
    "duration": 28,
    "start_time": "2024-12-06T00:40:29.487Z"
   },
   {
    "duration": 40,
    "start_time": "2024-12-06T00:40:44.895Z"
   },
   {
    "duration": 20,
    "start_time": "2024-12-06T00:43:13.306Z"
   },
   {
    "duration": 22,
    "start_time": "2024-12-06T00:43:29.347Z"
   },
   {
    "duration": 19,
    "start_time": "2024-12-06T00:44:06.948Z"
   },
   {
    "duration": 22,
    "start_time": "2024-12-06T00:44:40.873Z"
   },
   {
    "duration": 21,
    "start_time": "2024-12-06T00:45:27.776Z"
   },
   {
    "duration": 21,
    "start_time": "2024-12-06T00:45:39.087Z"
   },
   {
    "duration": 35,
    "start_time": "2024-12-06T01:04:56.303Z"
   },
   {
    "duration": 13,
    "start_time": "2024-12-06T01:08:53.562Z"
   },
   {
    "duration": 26,
    "start_time": "2024-12-06T01:09:23.796Z"
   },
   {
    "duration": 22,
    "start_time": "2024-12-06T01:10:15.347Z"
   },
   {
    "duration": 33,
    "start_time": "2024-12-06T01:10:27.470Z"
   },
   {
    "duration": 23,
    "start_time": "2024-12-06T01:11:01.646Z"
   },
   {
    "duration": 22,
    "start_time": "2024-12-06T01:12:18.978Z"
   },
   {
    "duration": 31,
    "start_time": "2024-12-06T01:12:57.049Z"
   },
   {
    "duration": 31,
    "start_time": "2024-12-06T01:19:17.569Z"
   },
   {
    "duration": 31,
    "start_time": "2024-12-06T01:20:07.158Z"
   },
   {
    "duration": 34403,
    "start_time": "2024-12-06T01:21:43.318Z"
   },
   {
    "duration": 4,
    "start_time": "2024-12-06T01:22:28.930Z"
   },
   {
    "duration": 64,
    "start_time": "2024-12-06T01:25:53.858Z"
   },
   {
    "duration": 4,
    "start_time": "2024-12-06T02:00:12.721Z"
   },
   {
    "duration": 31,
    "start_time": "2024-12-06T03:03:54.318Z"
   },
   {
    "duration": 50,
    "start_time": "2024-12-06T03:04:02.213Z"
   },
   {
    "duration": 5,
    "start_time": "2024-12-06T03:04:23.910Z"
   },
   {
    "duration": 17,
    "start_time": "2024-12-06T03:04:29.864Z"
   },
   {
    "duration": 4,
    "start_time": "2024-12-06T03:04:51.370Z"
   },
   {
    "duration": 3,
    "start_time": "2024-12-06T03:05:04.971Z"
   },
   {
    "duration": 5,
    "start_time": "2024-12-06T03:07:25.963Z"
   },
   {
    "duration": 5,
    "start_time": "2024-12-06T03:08:37.491Z"
   },
   {
    "duration": 2614,
    "start_time": "2024-12-08T03:12:56.092Z"
   },
   {
    "duration": 225,
    "start_time": "2024-12-08T03:12:58.709Z"
   },
   {
    "duration": 9,
    "start_time": "2024-12-08T03:12:59.179Z"
   },
   {
    "duration": 9,
    "start_time": "2024-12-08T03:12:59.657Z"
   },
   {
    "duration": 9,
    "start_time": "2024-12-08T03:13:01.186Z"
   },
   {
    "duration": 10,
    "start_time": "2024-12-08T03:13:02.219Z"
   },
   {
    "duration": 9,
    "start_time": "2024-12-08T03:13:03.232Z"
   },
   {
    "duration": 8,
    "start_time": "2024-12-08T03:13:03.768Z"
   },
   {
    "duration": 13,
    "start_time": "2024-12-08T03:13:05.304Z"
   },
   {
    "duration": 16,
    "start_time": "2024-12-08T03:13:07.264Z"
   },
   {
    "duration": 7,
    "start_time": "2024-12-08T03:13:07.784Z"
   },
   {
    "duration": 57,
    "start_time": "2024-12-08T03:13:09.395Z"
   },
   {
    "duration": 14,
    "start_time": "2024-12-08T03:13:11.049Z"
   },
   {
    "duration": 13,
    "start_time": "2024-12-08T03:13:12.066Z"
   },
   {
    "duration": 7,
    "start_time": "2024-12-08T03:13:12.594Z"
   },
   {
    "duration": 30,
    "start_time": "2024-12-08T03:13:14.174Z"
   },
   {
    "duration": 11,
    "start_time": "2024-12-08T03:13:15.212Z"
   },
   {
    "duration": 14,
    "start_time": "2024-12-08T03:13:16.241Z"
   },
   {
    "duration": 8,
    "start_time": "2024-12-08T03:13:16.778Z"
   },
   {
    "duration": 53,
    "start_time": "2024-12-08T03:13:18.348Z"
   },
   {
    "duration": 12,
    "start_time": "2024-12-08T03:13:19.336Z"
   },
   {
    "duration": 17,
    "start_time": "2024-12-08T03:13:20.402Z"
   },
   {
    "duration": 19,
    "start_time": "2024-12-08T03:13:23.539Z"
   },
   {
    "duration": 18,
    "start_time": "2024-12-08T03:13:50.475Z"
   },
   {
    "duration": 14,
    "start_time": "2024-12-08T03:13:59.750Z"
   },
   {
    "duration": 15,
    "start_time": "2024-12-08T03:14:01.992Z"
   },
   {
    "duration": 20,
    "start_time": "2024-12-08T03:14:03.159Z"
   },
   {
    "duration": 11,
    "start_time": "2024-12-08T03:15:29.604Z"
   },
   {
    "duration": 14,
    "start_time": "2024-12-08T03:15:50.083Z"
   },
   {
    "duration": 12,
    "start_time": "2024-12-08T03:16:07.098Z"
   },
   {
    "duration": 46,
    "start_time": "2024-12-08T03:16:48.679Z"
   },
   {
    "duration": 6,
    "start_time": "2024-12-08T03:27:52.043Z"
   },
   {
    "duration": 276,
    "start_time": "2024-12-08T03:28:13.459Z"
   },
   {
    "duration": 62,
    "start_time": "2024-12-08T03:28:38.942Z"
   },
   {
    "duration": 158,
    "start_time": "2024-12-08T03:31:08.438Z"
   },
   {
    "duration": 75,
    "start_time": "2024-12-08T03:35:43.250Z"
   },
   {
    "duration": 17,
    "start_time": "2024-12-08T03:51:29.273Z"
   },
   {
    "duration": 18,
    "start_time": "2024-12-08T03:52:16.321Z"
   },
   {
    "duration": 14,
    "start_time": "2024-12-08T03:52:45.072Z"
   },
   {
    "duration": 19,
    "start_time": "2024-12-08T03:52:50.694Z"
   },
   {
    "duration": 28,
    "start_time": "2024-12-08T03:53:15.628Z"
   },
   {
    "duration": 34,
    "start_time": "2024-12-08T03:53:30.312Z"
   },
   {
    "duration": 650,
    "start_time": "2024-12-08T03:53:52.335Z"
   },
   {
    "duration": 7,
    "start_time": "2024-12-08T03:54:43.265Z"
   },
   {
    "duration": 15,
    "start_time": "2024-12-08T04:08:09.448Z"
   },
   {
    "duration": 4,
    "start_time": "2024-12-08T04:09:02.927Z"
   },
   {
    "duration": 4,
    "start_time": "2024-12-08T04:09:48.266Z"
   },
   {
    "duration": 4,
    "start_time": "2024-12-08T04:10:36.913Z"
   },
   {
    "duration": 4,
    "start_time": "2024-12-08T04:10:56.395Z"
   },
   {
    "duration": 14,
    "start_time": "2024-12-08T04:13:18.849Z"
   },
   {
    "duration": 4,
    "start_time": "2024-12-08T04:13:27.321Z"
   },
   {
    "duration": 5,
    "start_time": "2024-12-08T04:14:09.822Z"
   },
   {
    "duration": 6,
    "start_time": "2024-12-08T04:14:15.565Z"
   },
   {
    "duration": 15,
    "start_time": "2024-12-08T04:21:41.229Z"
   },
   {
    "duration": 5,
    "start_time": "2024-12-08T04:21:54.364Z"
   },
   {
    "duration": 5,
    "start_time": "2024-12-08T04:27:26.693Z"
   },
   {
    "duration": 4,
    "start_time": "2024-12-08T04:28:46.214Z"
   },
   {
    "duration": 5,
    "start_time": "2024-12-08T04:29:45.811Z"
   },
   {
    "duration": 5,
    "start_time": "2024-12-08T04:30:19.951Z"
   },
   {
    "duration": 6,
    "start_time": "2024-12-08T04:32:39.035Z"
   },
   {
    "duration": 5,
    "start_time": "2024-12-08T04:36:02.972Z"
   },
   {
    "duration": 3,
    "start_time": "2024-12-08T04:38:56.487Z"
   },
   {
    "duration": 16,
    "start_time": "2024-12-08T04:39:03.631Z"
   },
   {
    "duration": 6,
    "start_time": "2024-12-08T04:42:10.896Z"
   },
   {
    "duration": 5,
    "start_time": "2024-12-08T04:44:19.848Z"
   },
   {
    "duration": 11,
    "start_time": "2024-12-08T04:45:13.387Z"
   },
   {
    "duration": 4,
    "start_time": "2024-12-08T04:46:23.884Z"
   },
   {
    "duration": 6,
    "start_time": "2024-12-08T04:47:33.974Z"
   },
   {
    "duration": 4,
    "start_time": "2024-12-08T04:47:42.324Z"
   },
   {
    "duration": 24,
    "start_time": "2024-12-08T04:47:56.863Z"
   },
   {
    "duration": 7,
    "start_time": "2024-12-08T04:49:27.701Z"
   },
   {
    "duration": 7,
    "start_time": "2024-12-08T04:49:37.269Z"
   },
   {
    "duration": 17,
    "start_time": "2024-12-08T04:49:52.326Z"
   },
   {
    "duration": 20,
    "start_time": "2024-12-08T04:52:39.466Z"
   },
   {
    "duration": 19,
    "start_time": "2024-12-08T04:53:29.341Z"
   },
   {
    "duration": 19,
    "start_time": "2024-12-08T04:54:56.054Z"
   },
   {
    "duration": 21,
    "start_time": "2024-12-08T04:57:37.841Z"
   },
   {
    "duration": 19,
    "start_time": "2024-12-08T04:58:11.225Z"
   },
   {
    "duration": 7,
    "start_time": "2024-12-08T05:00:36.131Z"
   },
   {
    "duration": 4,
    "start_time": "2024-12-08T05:06:38.215Z"
   },
   {
    "duration": 4,
    "start_time": "2024-12-08T05:10:15.482Z"
   },
   {
    "duration": 26,
    "start_time": "2024-12-08T05:17:51.857Z"
   },
   {
    "duration": 28,
    "start_time": "2024-12-08T05:18:56.956Z"
   },
   {
    "duration": 10,
    "start_time": "2024-12-08T05:19:44.948Z"
   },
   {
    "duration": 7,
    "start_time": "2024-12-08T05:25:16.957Z"
   },
   {
    "duration": 7,
    "start_time": "2024-12-08T05:25:27.946Z"
   },
   {
    "duration": 7,
    "start_time": "2024-12-08T05:28:41.329Z"
   },
   {
    "duration": 8,
    "start_time": "2024-12-08T05:29:08.669Z"
   },
   {
    "duration": 21,
    "start_time": "2024-12-08T05:40:01.317Z"
   },
   {
    "duration": 8,
    "start_time": "2024-12-08T05:40:27.792Z"
   },
   {
    "duration": 7,
    "start_time": "2024-12-08T05:41:30.958Z"
   },
   {
    "duration": 8,
    "start_time": "2024-12-08T05:42:04.810Z"
   },
   {
    "duration": 4,
    "start_time": "2024-12-08T05:43:03.204Z"
   },
   {
    "duration": 371,
    "start_time": "2024-12-08T05:51:50.601Z"
   },
   {
    "duration": 46,
    "start_time": "2024-12-08T05:52:24.985Z"
   },
   {
    "duration": 5,
    "start_time": "2024-12-08T05:53:53.661Z"
   },
   {
    "duration": 5,
    "start_time": "2024-12-08T05:56:34.222Z"
   },
   {
    "duration": 9,
    "start_time": "2024-12-08T05:59:04.734Z"
   },
   {
    "duration": 9,
    "start_time": "2024-12-08T06:00:12.885Z"
   },
   {
    "duration": 8,
    "start_time": "2024-12-08T06:00:30.293Z"
   },
   {
    "duration": 8,
    "start_time": "2024-12-08T06:00:42.527Z"
   },
   {
    "duration": 8,
    "start_time": "2024-12-08T06:01:31.138Z"
   },
   {
    "duration": 8,
    "start_time": "2024-12-08T06:02:13.314Z"
   },
   {
    "duration": 3,
    "start_time": "2024-12-08T06:07:02.734Z"
   },
   {
    "duration": 4,
    "start_time": "2024-12-08T06:07:08.493Z"
   },
   {
    "duration": 5,
    "start_time": "2024-12-08T06:08:39.027Z"
   },
   {
    "duration": 4,
    "start_time": "2024-12-08T06:08:50.108Z"
   },
   {
    "duration": 4,
    "start_time": "2024-12-08T06:09:44.293Z"
   },
   {
    "duration": 6,
    "start_time": "2024-12-08T06:11:51.854Z"
   },
   {
    "duration": 18,
    "start_time": "2024-12-08T06:13:57.800Z"
   },
   {
    "duration": 121,
    "start_time": "2024-12-08T06:15:51.165Z"
   },
   {
    "duration": 9,
    "start_time": "2024-12-08T06:16:12.492Z"
   },
   {
    "duration": 35,
    "start_time": "2024-12-08T06:18:00.660Z"
   },
   {
    "duration": 10,
    "start_time": "2024-12-08T06:18:31.327Z"
   },
   {
    "duration": 32,
    "start_time": "2024-12-08T06:21:34.766Z"
   },
   {
    "duration": 49,
    "start_time": "2024-12-08T06:21:48.396Z"
   },
   {
    "duration": 204,
    "start_time": "2024-12-08T06:22:00.145Z"
   },
   {
    "duration": 94,
    "start_time": "2024-12-08T06:22:59.060Z"
   },
   {
    "duration": 51,
    "start_time": "2024-12-08T06:24:12.384Z"
   },
   {
    "duration": 3,
    "start_time": "2024-12-08T06:24:23.494Z"
   },
   {
    "duration": 9,
    "start_time": "2024-12-08T06:24:32.987Z"
   },
   {
    "duration": 10,
    "start_time": "2024-12-08T06:26:15.587Z"
   },
   {
    "duration": 16,
    "start_time": "2024-12-08T06:29:59.238Z"
   },
   {
    "duration": 6,
    "start_time": "2024-12-08T06:31:00.055Z"
   },
   {
    "duration": 8,
    "start_time": "2024-12-08T06:31:45.597Z"
   },
   {
    "duration": 15,
    "start_time": "2024-12-08T06:33:27.786Z"
   },
   {
    "duration": 12,
    "start_time": "2024-12-08T06:34:10.066Z"
   },
   {
    "duration": 8,
    "start_time": "2024-12-08T06:36:05.419Z"
   },
   {
    "duration": 7,
    "start_time": "2024-12-08T06:36:40.722Z"
   },
   {
    "duration": 5,
    "start_time": "2024-12-08T06:36:42.245Z"
   },
   {
    "duration": 8,
    "start_time": "2024-12-08T06:38:09.988Z"
   },
   {
    "duration": 31,
    "start_time": "2024-12-08T06:39:56.973Z"
   },
   {
    "duration": 31,
    "start_time": "2024-12-08T06:40:31.239Z"
   },
   {
    "duration": 318,
    "start_time": "2024-12-08T06:43:01.936Z"
   },
   {
    "duration": 6,
    "start_time": "2024-12-08T06:44:55.688Z"
   },
   {
    "duration": 6,
    "start_time": "2024-12-08T06:45:10.577Z"
   },
   {
    "duration": 2495,
    "start_time": "2024-12-08T19:54:38.758Z"
   },
   {
    "duration": 223,
    "start_time": "2024-12-08T19:54:41.256Z"
   },
   {
    "duration": 10,
    "start_time": "2024-12-08T19:55:48.892Z"
   },
   {
    "duration": 10,
    "start_time": "2024-12-08T19:55:51.762Z"
   },
   {
    "duration": 8,
    "start_time": "2024-12-08T19:58:24.836Z"
   },
   {
    "duration": 15,
    "start_time": "2024-12-08T19:58:27.473Z"
   },
   {
    "duration": 10,
    "start_time": "2024-12-08T19:58:37.167Z"
   },
   {
    "duration": 9,
    "start_time": "2024-12-08T19:58:45.216Z"
   },
   {
    "duration": 13,
    "start_time": "2024-12-08T19:59:36.240Z"
   },
   {
    "duration": 16,
    "start_time": "2024-12-08T19:59:39.651Z"
   },
   {
    "duration": 7,
    "start_time": "2024-12-08T19:59:40.452Z"
   },
   {
    "duration": 55,
    "start_time": "2024-12-08T19:59:45.675Z"
   },
   {
    "duration": 13,
    "start_time": "2024-12-08T20:00:14.946Z"
   },
   {
    "duration": 12,
    "start_time": "2024-12-08T20:00:25.551Z"
   },
   {
    "duration": 11,
    "start_time": "2024-12-08T20:00:34.786Z"
   },
   {
    "duration": 28,
    "start_time": "2024-12-08T20:00:57.099Z"
   },
   {
    "duration": 9,
    "start_time": "2024-12-08T20:01:01.017Z"
   },
   {
    "duration": 14,
    "start_time": "2024-12-08T20:01:06.824Z"
   },
   {
    "duration": 6,
    "start_time": "2024-12-08T20:01:06.963Z"
   },
   {
    "duration": 51,
    "start_time": "2024-12-08T20:01:24.104Z"
   },
   {
    "duration": 15,
    "start_time": "2024-12-08T20:01:46.547Z"
   },
   {
    "duration": 7,
    "start_time": "2024-12-08T20:02:28.032Z"
   },
   {
    "duration": 19,
    "start_time": "2024-12-08T20:04:18.646Z"
   },
   {
    "duration": 17,
    "start_time": "2024-12-08T20:04:21.428Z"
   },
   {
    "duration": 13,
    "start_time": "2024-12-08T20:04:22.255Z"
   },
   {
    "duration": 14,
    "start_time": "2024-12-08T20:04:28.763Z"
   },
   {
    "duration": 20,
    "start_time": "2024-12-08T20:04:45.909Z"
   },
   {
    "duration": 703,
    "start_time": "2024-12-08T20:07:08.227Z"
   },
   {
    "duration": 44,
    "start_time": "2024-12-08T20:07:25.103Z"
   },
   {
    "duration": 28,
    "start_time": "2024-12-08T20:09:10.153Z"
   },
   {
    "duration": 33,
    "start_time": "2024-12-08T20:09:31.417Z"
   },
   {
    "duration": 154,
    "start_time": "2024-12-08T20:16:07.166Z"
   },
   {
    "duration": 51,
    "start_time": "2024-12-08T20:23:47.358Z"
   },
   {
    "duration": 71,
    "start_time": "2024-12-08T20:24:39.568Z"
   },
   {
    "duration": 21,
    "start_time": "2024-12-08T20:27:11.093Z"
   },
   {
    "duration": 67,
    "start_time": "2024-12-08T20:27:38.615Z"
   },
   {
    "duration": 44,
    "start_time": "2024-12-08T20:28:26.297Z"
   },
   {
    "duration": 34,
    "start_time": "2024-12-08T20:29:22.426Z"
   },
   {
    "duration": 69,
    "start_time": "2024-12-08T20:38:09.735Z"
   },
   {
    "duration": 63,
    "start_time": "2024-12-08T20:38:30.840Z"
   },
   {
    "duration": 57,
    "start_time": "2024-12-08T20:48:12.353Z"
   },
   {
    "duration": 112,
    "start_time": "2024-12-08T20:55:50.402Z"
   },
   {
    "duration": 113,
    "start_time": "2024-12-08T20:57:04.085Z"
   },
   {
    "duration": 2720,
    "start_time": "2024-12-08T22:33:06.844Z"
   },
   {
    "duration": 220,
    "start_time": "2024-12-08T22:33:09.566Z"
   },
   {
    "duration": 10,
    "start_time": "2024-12-08T22:33:13.676Z"
   },
   {
    "duration": 10,
    "start_time": "2024-12-08T22:33:17.087Z"
   },
   {
    "duration": 284,
    "start_time": "2024-12-08T23:22:55.394Z"
   },
   {
    "duration": 150,
    "start_time": "2024-12-08T23:25:51.634Z"
   },
   {
    "duration": 517,
    "start_time": "2024-12-08T23:26:18.064Z"
   },
   {
    "duration": 163,
    "start_time": "2024-12-08T23:26:31.211Z"
   },
   {
    "duration": 135,
    "start_time": "2024-12-08T23:27:02.577Z"
   },
   {
    "duration": 345,
    "start_time": "2024-12-08T23:27:50.099Z"
   },
   {
    "duration": 826,
    "start_time": "2024-12-08T23:28:20.598Z"
   },
   {
    "duration": 161,
    "start_time": "2024-12-08T23:28:21.426Z"
   },
   {
    "duration": 10,
    "start_time": "2024-12-08T23:28:21.589Z"
   },
   {
    "duration": 10,
    "start_time": "2024-12-08T23:28:21.609Z"
   },
   {
    "duration": 8,
    "start_time": "2024-12-08T23:28:21.620Z"
   },
   {
    "duration": 9,
    "start_time": "2024-12-08T23:28:21.630Z"
   },
   {
    "duration": 8,
    "start_time": "2024-12-08T23:28:21.641Z"
   },
   {
    "duration": 9,
    "start_time": "2024-12-08T23:28:21.651Z"
   },
   {
    "duration": 49,
    "start_time": "2024-12-08T23:28:21.662Z"
   },
   {
    "duration": 16,
    "start_time": "2024-12-08T23:28:21.713Z"
   },
   {
    "duration": 7,
    "start_time": "2024-12-08T23:28:21.730Z"
   },
   {
    "duration": 80,
    "start_time": "2024-12-08T23:28:21.739Z"
   },
   {
    "duration": 13,
    "start_time": "2024-12-08T23:28:21.823Z"
   },
   {
    "duration": 11,
    "start_time": "2024-12-08T23:28:21.838Z"
   },
   {
    "duration": 8,
    "start_time": "2024-12-08T23:28:21.851Z"
   },
   {
    "duration": 59,
    "start_time": "2024-12-08T23:28:21.861Z"
   },
   {
    "duration": 9,
    "start_time": "2024-12-08T23:28:21.922Z"
   },
   {
    "duration": 14,
    "start_time": "2024-12-08T23:28:21.933Z"
   },
   {
    "duration": 7,
    "start_time": "2024-12-08T23:28:21.949Z"
   },
   {
    "duration": 87,
    "start_time": "2024-12-08T23:28:21.958Z"
   },
   {
    "duration": 12,
    "start_time": "2024-12-08T23:28:22.047Z"
   },
   {
    "duration": 8,
    "start_time": "2024-12-08T23:28:22.061Z"
   },
   {
    "duration": 38,
    "start_time": "2024-12-08T23:28:22.070Z"
   },
   {
    "duration": 21,
    "start_time": "2024-12-08T23:28:22.110Z"
   },
   {
    "duration": 14,
    "start_time": "2024-12-08T23:28:22.133Z"
   },
   {
    "duration": 15,
    "start_time": "2024-12-08T23:28:22.149Z"
   },
   {
    "duration": 50,
    "start_time": "2024-12-08T23:28:22.166Z"
   },
   {
    "duration": 29,
    "start_time": "2024-12-08T23:28:22.218Z"
   },
   {
    "duration": 35,
    "start_time": "2024-12-08T23:28:22.248Z"
   },
   {
    "duration": 162,
    "start_time": "2024-12-08T23:28:22.285Z"
   },
   {
    "duration": 291,
    "start_time": "2024-12-08T23:28:22.449Z"
   },
   {
    "duration": 0,
    "start_time": "2024-12-08T23:28:22.742Z"
   },
   {
    "duration": 0,
    "start_time": "2024-12-08T23:28:22.744Z"
   },
   {
    "duration": 0,
    "start_time": "2024-12-08T23:28:22.745Z"
   },
   {
    "duration": 0,
    "start_time": "2024-12-08T23:28:22.747Z"
   },
   {
    "duration": 0,
    "start_time": "2024-12-08T23:28:22.748Z"
   },
   {
    "duration": 0,
    "start_time": "2024-12-08T23:28:22.750Z"
   },
   {
    "duration": 0,
    "start_time": "2024-12-08T23:28:22.751Z"
   },
   {
    "duration": 0,
    "start_time": "2024-12-08T23:28:22.753Z"
   },
   {
    "duration": 0,
    "start_time": "2024-12-08T23:28:22.754Z"
   },
   {
    "duration": 0,
    "start_time": "2024-12-08T23:28:22.756Z"
   },
   {
    "duration": 127,
    "start_time": "2024-12-08T23:29:31.067Z"
   },
   {
    "duration": 137,
    "start_time": "2024-12-08T23:31:36.685Z"
   },
   {
    "duration": 76,
    "start_time": "2024-12-08T23:32:11.837Z"
   },
   {
    "duration": 521,
    "start_time": "2024-12-08T23:32:49.782Z"
   },
   {
    "duration": 115,
    "start_time": "2024-12-08T23:33:12.229Z"
   },
   {
    "duration": 110,
    "start_time": "2024-12-08T23:33:45.024Z"
   },
   {
    "duration": 79,
    "start_time": "2024-12-08T23:36:48.651Z"
   },
   {
    "duration": 74,
    "start_time": "2024-12-08T23:39:22.854Z"
   },
   {
    "duration": 116,
    "start_time": "2024-12-08T23:39:50.297Z"
   },
   {
    "duration": 72,
    "start_time": "2024-12-08T23:44:15.086Z"
   },
   {
    "duration": 100,
    "start_time": "2024-12-08T23:46:03.110Z"
   },
   {
    "duration": 68,
    "start_time": "2024-12-08T23:46:41.541Z"
   },
   {
    "duration": 821,
    "start_time": "2024-12-08T23:56:28.243Z"
   },
   {
    "duration": 237,
    "start_time": "2024-12-08T23:59:59.537Z"
   },
   {
    "duration": 350,
    "start_time": "2024-12-09T00:00:42.386Z"
   },
   {
    "duration": 325,
    "start_time": "2024-12-09T00:00:59.571Z"
   },
   {
    "duration": 321,
    "start_time": "2024-12-09T00:03:22.476Z"
   },
   {
    "duration": 229,
    "start_time": "2024-12-09T00:05:49.919Z"
   },
   {
    "duration": 355,
    "start_time": "2024-12-09T00:06:55.858Z"
   },
   {
    "duration": 241,
    "start_time": "2024-12-09T00:08:04.762Z"
   },
   {
    "duration": 238,
    "start_time": "2024-12-09T00:08:29.139Z"
   },
   {
    "duration": 273,
    "start_time": "2024-12-09T00:08:46.028Z"
   },
   {
    "duration": 271,
    "start_time": "2024-12-09T00:08:59.030Z"
   },
   {
    "duration": 266,
    "start_time": "2024-12-09T00:17:39.938Z"
   },
   {
    "duration": 270,
    "start_time": "2024-12-09T00:18:22.815Z"
   },
   {
    "duration": 267,
    "start_time": "2024-12-09T00:19:30.925Z"
   },
   {
    "duration": 283,
    "start_time": "2024-12-09T00:19:53.341Z"
   },
   {
    "duration": 267,
    "start_time": "2024-12-09T00:20:18.308Z"
   },
   {
    "duration": 286,
    "start_time": "2024-12-09T01:14:38.753Z"
   },
   {
    "duration": 309,
    "start_time": "2024-12-09T01:24:06.843Z"
   },
   {
    "duration": 287,
    "start_time": "2024-12-09T01:39:41.872Z"
   },
   {
    "duration": 18,
    "start_time": "2024-12-09T02:16:10.640Z"
   },
   {
    "duration": 16,
    "start_time": "2024-12-09T02:16:45.443Z"
   },
   {
    "duration": 190,
    "start_time": "2024-12-09T02:33:32.050Z"
   },
   {
    "duration": 128,
    "start_time": "2024-12-09T02:35:07.866Z"
   },
   {
    "duration": 127,
    "start_time": "2024-12-09T02:35:38.863Z"
   },
   {
    "duration": 135,
    "start_time": "2024-12-09T02:35:59.019Z"
   },
   {
    "duration": 425,
    "start_time": "2024-12-09T02:36:52.749Z"
   },
   {
    "duration": 137,
    "start_time": "2024-12-09T02:36:59.524Z"
   },
   {
    "duration": 114,
    "start_time": "2024-12-09T02:37:31.138Z"
   },
   {
    "duration": 144,
    "start_time": "2024-12-09T02:39:07.275Z"
   },
   {
    "duration": 477,
    "start_time": "2024-12-09T02:39:39.235Z"
   },
   {
    "duration": 132,
    "start_time": "2024-12-09T02:48:43.689Z"
   },
   {
    "duration": 121,
    "start_time": "2024-12-09T02:49:24.217Z"
   },
   {
    "duration": 83,
    "start_time": "2024-12-09T02:54:41.138Z"
   },
   {
    "duration": 23,
    "start_time": "2024-12-09T02:55:31.446Z"
   },
   {
    "duration": 7,
    "start_time": "2024-12-09T02:55:53.889Z"
   },
   {
    "duration": 9,
    "start_time": "2024-12-09T02:56:26.126Z"
   },
   {
    "duration": 160,
    "start_time": "2024-12-09T03:03:15.450Z"
   },
   {
    "duration": 1934,
    "start_time": "2024-12-09T03:08:03.919Z"
   },
   {
    "duration": 501,
    "start_time": "2024-12-09T03:08:45.457Z"
   },
   {
    "duration": 119,
    "start_time": "2024-12-09T03:12:15.009Z"
   },
   {
    "duration": 29,
    "start_time": "2024-12-09T03:12:41.959Z"
   },
   {
    "duration": 26,
    "start_time": "2024-12-09T03:12:57.242Z"
   },
   {
    "duration": 29,
    "start_time": "2024-12-09T03:13:06.611Z"
   },
   {
    "duration": 164,
    "start_time": "2024-12-09T03:13:43.750Z"
   },
   {
    "duration": 6,
    "start_time": "2024-12-09T03:24:26.232Z"
   },
   {
    "duration": 869,
    "start_time": "2024-12-09T03:25:18.840Z"
   },
   {
    "duration": 173,
    "start_time": "2024-12-09T03:25:19.711Z"
   },
   {
    "duration": 10,
    "start_time": "2024-12-09T03:25:19.886Z"
   },
   {
    "duration": 17,
    "start_time": "2024-12-09T03:25:19.899Z"
   },
   {
    "duration": 8,
    "start_time": "2024-12-09T03:25:19.918Z"
   },
   {
    "duration": 11,
    "start_time": "2024-12-09T03:25:19.928Z"
   },
   {
    "duration": 9,
    "start_time": "2024-12-09T03:25:19.941Z"
   },
   {
    "duration": 9,
    "start_time": "2024-12-09T03:25:19.952Z"
   },
   {
    "duration": 52,
    "start_time": "2024-12-09T03:25:19.964Z"
   },
   {
    "duration": 15,
    "start_time": "2024-12-09T03:25:20.019Z"
   },
   {
    "duration": 7,
    "start_time": "2024-12-09T03:25:20.035Z"
   },
   {
    "duration": 79,
    "start_time": "2024-12-09T03:25:20.045Z"
   },
   {
    "duration": 13,
    "start_time": "2024-12-09T03:25:20.126Z"
   },
   {
    "duration": 12,
    "start_time": "2024-12-09T03:25:20.140Z"
   },
   {
    "duration": 8,
    "start_time": "2024-12-09T03:25:20.153Z"
   },
   {
    "duration": 58,
    "start_time": "2024-12-09T03:25:20.162Z"
   },
   {
    "duration": 10,
    "start_time": "2024-12-09T03:25:20.222Z"
   },
   {
    "duration": 13,
    "start_time": "2024-12-09T03:25:20.234Z"
   },
   {
    "duration": 7,
    "start_time": "2024-12-09T03:25:20.248Z"
   },
   {
    "duration": 83,
    "start_time": "2024-12-09T03:25:20.257Z"
   },
   {
    "duration": 12,
    "start_time": "2024-12-09T03:25:20.342Z"
   },
   {
    "duration": 7,
    "start_time": "2024-12-09T03:25:20.356Z"
   },
   {
    "duration": 45,
    "start_time": "2024-12-09T03:25:20.364Z"
   },
   {
    "duration": 20,
    "start_time": "2024-12-09T03:25:20.411Z"
   },
   {
    "duration": 14,
    "start_time": "2024-12-09T03:25:20.433Z"
   },
   {
    "duration": 18,
    "start_time": "2024-12-09T03:25:20.449Z"
   },
   {
    "duration": 46,
    "start_time": "2024-12-09T03:25:20.469Z"
   },
   {
    "duration": 30,
    "start_time": "2024-12-09T03:25:20.519Z"
   },
   {
    "duration": 35,
    "start_time": "2024-12-09T03:25:20.551Z"
   },
   {
    "duration": 355,
    "start_time": "2024-12-09T03:25:20.587Z"
   },
   {
    "duration": 5,
    "start_time": "2024-12-09T03:25:20.944Z"
   },
   {
    "duration": 0,
    "start_time": "2024-12-09T03:25:20.951Z"
   },
   {
    "duration": 0,
    "start_time": "2024-12-09T03:25:20.953Z"
   },
   {
    "duration": 0,
    "start_time": "2024-12-09T03:25:20.954Z"
   },
   {
    "duration": 0,
    "start_time": "2024-12-09T03:25:20.956Z"
   },
   {
    "duration": 0,
    "start_time": "2024-12-09T03:25:20.958Z"
   },
   {
    "duration": 0,
    "start_time": "2024-12-09T03:25:20.959Z"
   },
   {
    "duration": 0,
    "start_time": "2024-12-09T03:25:20.961Z"
   },
   {
    "duration": 0,
    "start_time": "2024-12-09T03:25:20.962Z"
   },
   {
    "duration": 0,
    "start_time": "2024-12-09T03:25:20.964Z"
   },
   {
    "duration": 733,
    "start_time": "2024-12-09T03:27:29.369Z"
   },
   {
    "duration": 23,
    "start_time": "2024-12-09T03:28:53.480Z"
   },
   {
    "duration": 23,
    "start_time": "2024-12-09T03:29:50.013Z"
   },
   {
    "duration": 121,
    "start_time": "2024-12-09T03:31:15.526Z"
   },
   {
    "duration": 49,
    "start_time": "2024-12-09T03:40:20.721Z"
   },
   {
    "duration": 8,
    "start_time": "2024-12-09T03:41:17.751Z"
   },
   {
    "duration": 4,
    "start_time": "2024-12-09T03:48:16.965Z"
   },
   {
    "duration": 10,
    "start_time": "2024-12-09T03:48:34.434Z"
   },
   {
    "duration": 21,
    "start_time": "2024-12-09T03:54:28.745Z"
   },
   {
    "duration": 22,
    "start_time": "2024-12-09T03:54:43.661Z"
   },
   {
    "duration": 9,
    "start_time": "2024-12-09T03:55:38.097Z"
   },
   {
    "duration": 8,
    "start_time": "2024-12-09T04:01:41.874Z"
   },
   {
    "duration": 8,
    "start_time": "2024-12-09T04:07:54.086Z"
   },
   {
    "duration": 5,
    "start_time": "2024-12-09T04:07:58.320Z"
   },
   {
    "duration": 8,
    "start_time": "2024-12-09T04:08:34.924Z"
   },
   {
    "duration": 4,
    "start_time": "2024-12-09T04:08:37.152Z"
   },
   {
    "duration": 4,
    "start_time": "2024-12-09T04:09:33.611Z"
   },
   {
    "duration": 5,
    "start_time": "2024-12-09T04:09:53.098Z"
   },
   {
    "duration": 6,
    "start_time": "2024-12-09T04:11:05.593Z"
   },
   {
    "duration": 6,
    "start_time": "2024-12-09T04:11:09.933Z"
   },
   {
    "duration": 7,
    "start_time": "2024-12-09T04:15:29.200Z"
   },
   {
    "duration": 6,
    "start_time": "2024-12-09T04:15:33.145Z"
   },
   {
    "duration": 30,
    "start_time": "2024-12-09T04:18:05.404Z"
   },
   {
    "duration": 105,
    "start_time": "2024-12-09T04:18:41.893Z"
   },
   {
    "duration": 54,
    "start_time": "2024-12-09T04:23:31.451Z"
   },
   {
    "duration": 44,
    "start_time": "2024-12-09T04:27:20.831Z"
   },
   {
    "duration": 44,
    "start_time": "2024-12-09T04:28:24.061Z"
   },
   {
    "duration": 9,
    "start_time": "2024-12-09T04:32:21.522Z"
   },
   {
    "duration": 30,
    "start_time": "2024-12-09T04:39:17.354Z"
   },
   {
    "duration": 9,
    "start_time": "2024-12-09T04:39:26.510Z"
   },
   {
    "duration": 9,
    "start_time": "2024-12-09T04:41:30.310Z"
   },
   {
    "duration": 10,
    "start_time": "2024-12-09T04:45:02.550Z"
   },
   {
    "duration": 10,
    "start_time": "2024-12-09T04:51:41.493Z"
   },
   {
    "duration": 11,
    "start_time": "2024-12-09T04:57:22.238Z"
   },
   {
    "duration": 10,
    "start_time": "2024-12-09T04:57:35.252Z"
   },
   {
    "duration": 22,
    "start_time": "2024-12-09T05:06:01.875Z"
   },
   {
    "duration": 5,
    "start_time": "2024-12-09T05:09:53.436Z"
   },
   {
    "duration": 6,
    "start_time": "2024-12-09T05:13:35.734Z"
   },
   {
    "duration": 9,
    "start_time": "2024-12-09T05:14:34.974Z"
   },
   {
    "duration": 10,
    "start_time": "2024-12-09T05:15:00.800Z"
   },
   {
    "duration": 61,
    "start_time": "2024-12-09T05:18:17.085Z"
   },
   {
    "duration": 22,
    "start_time": "2024-12-09T05:19:08.496Z"
   },
   {
    "duration": 166,
    "start_time": "2024-12-09T05:19:45.463Z"
   },
   {
    "duration": 25,
    "start_time": "2024-12-09T05:33:33.296Z"
   },
   {
    "duration": 715,
    "start_time": "2024-12-09T05:36:03.142Z"
   },
   {
    "duration": 206,
    "start_time": "2024-12-09T05:36:28.064Z"
   },
   {
    "duration": 202,
    "start_time": "2024-12-09T05:38:12.544Z"
   },
   {
    "duration": 6,
    "start_time": "2024-12-09T05:40:07.655Z"
   },
   {
    "duration": 11,
    "start_time": "2024-12-09T05:40:17.091Z"
   },
   {
    "duration": 330,
    "start_time": "2024-12-09T05:40:58.536Z"
   },
   {
    "duration": 201,
    "start_time": "2024-12-09T05:41:28.024Z"
   },
   {
    "duration": 205,
    "start_time": "2024-12-09T05:43:19.687Z"
   },
   {
    "duration": 6,
    "start_time": "2024-12-09T05:44:21.342Z"
   },
   {
    "duration": 210,
    "start_time": "2024-12-09T05:44:31.230Z"
   },
   {
    "duration": 208,
    "start_time": "2024-12-09T05:44:46.086Z"
   },
   {
    "duration": 235,
    "start_time": "2024-12-09T05:45:25.204Z"
   },
   {
    "duration": 221,
    "start_time": "2024-12-09T05:45:39.269Z"
   },
   {
    "duration": 220,
    "start_time": "2024-12-09T05:46:24.667Z"
   },
   {
    "duration": 225,
    "start_time": "2024-12-09T05:46:56.601Z"
   },
   {
    "duration": 305,
    "start_time": "2024-12-09T05:50:40.582Z"
   },
   {
    "duration": 7,
    "start_time": "2024-12-09T05:51:59.989Z"
   },
   {
    "duration": 5,
    "start_time": "2024-12-09T05:52:12.795Z"
   },
   {
    "duration": 5,
    "start_time": "2024-12-09T05:54:33.689Z"
   },
   {
    "duration": 6,
    "start_time": "2024-12-09T05:55:05.370Z"
   },
   {
    "duration": 8,
    "start_time": "2024-12-09T05:55:26.481Z"
   },
   {
    "duration": 8,
    "start_time": "2024-12-09T05:55:43.362Z"
   },
   {
    "duration": 6,
    "start_time": "2024-12-09T05:55:54.146Z"
   },
   {
    "duration": 7,
    "start_time": "2024-12-09T05:56:45.882Z"
   },
   {
    "duration": 6,
    "start_time": "2024-12-09T05:57:05.050Z"
   },
   {
    "duration": 222,
    "start_time": "2024-12-09T05:57:21.987Z"
   },
   {
    "duration": 5,
    "start_time": "2024-12-09T05:58:04.016Z"
   },
   {
    "duration": 7,
    "start_time": "2024-12-09T06:00:38.430Z"
   },
   {
    "duration": 5,
    "start_time": "2024-12-09T06:01:08.229Z"
   },
   {
    "duration": 5,
    "start_time": "2024-12-09T06:01:48.590Z"
   },
   {
    "duration": 5,
    "start_time": "2024-12-09T06:02:02.814Z"
   },
   {
    "duration": 5,
    "start_time": "2024-12-09T06:02:28.860Z"
   },
   {
    "duration": 223,
    "start_time": "2024-12-09T06:04:40.984Z"
   },
   {
    "duration": 219,
    "start_time": "2024-12-09T06:05:15.999Z"
   },
   {
    "duration": 6,
    "start_time": "2024-12-09T06:07:06.745Z"
   },
   {
    "duration": 6,
    "start_time": "2024-12-09T06:07:33.258Z"
   },
   {
    "duration": 196,
    "start_time": "2024-12-09T06:15:29.705Z"
   },
   {
    "duration": 196,
    "start_time": "2024-12-09T06:17:29.888Z"
   },
   {
    "duration": 202,
    "start_time": "2024-12-09T06:19:07.384Z"
   },
   {
    "duration": 364,
    "start_time": "2024-12-09T06:19:27.671Z"
   },
   {
    "duration": 204,
    "start_time": "2024-12-09T06:20:35.615Z"
   },
   {
    "duration": 235,
    "start_time": "2024-12-09T06:23:08.911Z"
   },
   {
    "duration": 11,
    "start_time": "2024-12-09T06:25:05.401Z"
   },
   {
    "duration": 8,
    "start_time": "2024-12-09T06:30:52.323Z"
   },
   {
    "duration": 9,
    "start_time": "2024-12-09T06:34:21.762Z"
   },
   {
    "duration": 106,
    "start_time": "2024-12-09T06:40:09.799Z"
   },
   {
    "duration": 6,
    "start_time": "2024-12-09T06:41:21.390Z"
   },
   {
    "duration": 21,
    "start_time": "2024-12-09T06:47:35.302Z"
   },
   {
    "duration": 7,
    "start_time": "2024-12-09T06:47:51.953Z"
   },
   {
    "duration": 8,
    "start_time": "2024-12-09T06:52:25.988Z"
   },
   {
    "duration": 7,
    "start_time": "2024-12-09T06:54:23.576Z"
   },
   {
    "duration": 9,
    "start_time": "2024-12-09T06:54:59.935Z"
   },
   {
    "duration": 7,
    "start_time": "2024-12-09T06:55:43.249Z"
   },
   {
    "duration": 8,
    "start_time": "2024-12-09T06:57:09.961Z"
   },
   {
    "duration": 8,
    "start_time": "2024-12-09T06:58:33.044Z"
   },
   {
    "duration": 7,
    "start_time": "2024-12-09T07:07:35.067Z"
   },
   {
    "duration": 2638,
    "start_time": "2024-12-09T17:03:28.513Z"
   },
   {
    "duration": 230,
    "start_time": "2024-12-09T17:03:31.153Z"
   },
   {
    "duration": 11,
    "start_time": "2024-12-09T17:03:31.385Z"
   },
   {
    "duration": 9,
    "start_time": "2024-12-09T17:03:31.398Z"
   },
   {
    "duration": 7,
    "start_time": "2024-12-09T17:03:31.410Z"
   },
   {
    "duration": 10,
    "start_time": "2024-12-09T17:03:31.419Z"
   },
   {
    "duration": 9,
    "start_time": "2024-12-09T17:03:31.431Z"
   },
   {
    "duration": 9,
    "start_time": "2024-12-09T17:03:31.442Z"
   },
   {
    "duration": 19,
    "start_time": "2024-12-09T17:03:31.453Z"
   },
   {
    "duration": 46,
    "start_time": "2024-12-09T17:03:31.476Z"
   },
   {
    "duration": 8,
    "start_time": "2024-12-09T17:03:31.523Z"
   },
   {
    "duration": 79,
    "start_time": "2024-12-09T17:03:31.533Z"
   },
   {
    "duration": 12,
    "start_time": "2024-12-09T17:03:31.614Z"
   },
   {
    "duration": 11,
    "start_time": "2024-12-09T17:03:31.631Z"
   },
   {
    "duration": 6,
    "start_time": "2024-12-09T17:03:31.643Z"
   },
   {
    "duration": 58,
    "start_time": "2024-12-09T17:03:31.651Z"
   },
   {
    "duration": 10,
    "start_time": "2024-12-09T17:03:31.711Z"
   },
   {
    "duration": 14,
    "start_time": "2024-12-09T17:03:31.723Z"
   },
   {
    "duration": 7,
    "start_time": "2024-12-09T17:03:31.739Z"
   },
   {
    "duration": 77,
    "start_time": "2024-12-09T17:03:31.748Z"
   },
   {
    "duration": 11,
    "start_time": "2024-12-09T17:03:31.827Z"
   },
   {
    "duration": 7,
    "start_time": "2024-12-09T17:03:31.840Z"
   },
   {
    "duration": 18,
    "start_time": "2024-12-09T17:03:31.848Z"
   },
   {
    "duration": 48,
    "start_time": "2024-12-09T17:03:31.867Z"
   },
   {
    "duration": 14,
    "start_time": "2024-12-09T17:03:31.917Z"
   },
   {
    "duration": 14,
    "start_time": "2024-12-09T17:03:31.933Z"
   },
   {
    "duration": 21,
    "start_time": "2024-12-09T17:03:31.949Z"
   },
   {
    "duration": 53,
    "start_time": "2024-12-09T17:03:31.972Z"
   },
   {
    "duration": 33,
    "start_time": "2024-12-09T17:03:32.027Z"
   },
   {
    "duration": 335,
    "start_time": "2024-12-09T17:03:32.062Z"
   },
   {
    "duration": 246,
    "start_time": "2024-12-09T17:03:32.399Z"
   },
   {
    "duration": 11,
    "start_time": "2024-12-09T17:03:32.647Z"
   },
   {
    "duration": 215,
    "start_time": "2024-12-09T17:03:32.660Z"
   },
   {
    "duration": 9,
    "start_time": "2024-12-09T17:03:32.877Z"
   },
   {
    "duration": 22,
    "start_time": "2024-12-09T17:03:32.887Z"
   },
   {
    "duration": 7,
    "start_time": "2024-12-09T17:03:32.911Z"
   },
   {
    "duration": 2,
    "start_time": "2024-12-09T17:03:32.920Z"
   },
   {
    "duration": 7,
    "start_time": "2024-12-09T17:03:32.924Z"
   },
   {
    "duration": 6,
    "start_time": "2024-12-09T17:03:32.933Z"
   },
   {
    "duration": 8,
    "start_time": "2024-12-09T17:03:32.941Z"
   },
   {
    "duration": 4,
    "start_time": "2024-12-09T17:03:32.953Z"
   },
   {
    "duration": 54,
    "start_time": "2024-12-09T17:03:32.959Z"
   },
   {
    "duration": 290,
    "start_time": "2024-12-09T17:18:13.747Z"
   },
   {
    "duration": 9,
    "start_time": "2024-12-09T17:21:54.164Z"
   },
   {
    "duration": 220,
    "start_time": "2024-12-09T17:22:01.441Z"
   },
   {
    "duration": 209,
    "start_time": "2024-12-09T17:24:18.091Z"
   },
   {
    "duration": 206,
    "start_time": "2024-12-09T17:28:11.417Z"
   },
   {
    "duration": 205,
    "start_time": "2024-12-09T17:28:56.666Z"
   },
   {
    "duration": 202,
    "start_time": "2024-12-09T17:29:19.457Z"
   },
   {
    "duration": 199,
    "start_time": "2024-12-09T17:30:39.004Z"
   },
   {
    "duration": 190,
    "start_time": "2024-12-09T17:30:48.327Z"
   },
   {
    "duration": 186,
    "start_time": "2024-12-09T17:30:57.683Z"
   },
   {
    "duration": 181,
    "start_time": "2024-12-09T17:31:12.269Z"
   },
   {
    "duration": 2614,
    "start_time": "2024-12-09T22:37:08.942Z"
   },
   {
    "duration": 221,
    "start_time": "2024-12-09T22:37:11.558Z"
   },
   {
    "duration": 10,
    "start_time": "2024-12-09T22:37:11.780Z"
   },
   {
    "duration": 9,
    "start_time": "2024-12-09T22:37:11.792Z"
   },
   {
    "duration": 7,
    "start_time": "2024-12-09T22:37:11.802Z"
   },
   {
    "duration": 9,
    "start_time": "2024-12-09T22:37:11.811Z"
   },
   {
    "duration": 8,
    "start_time": "2024-12-09T22:37:11.821Z"
   },
   {
    "duration": 9,
    "start_time": "2024-12-09T22:37:11.831Z"
   },
   {
    "duration": 13,
    "start_time": "2024-12-09T22:37:11.842Z"
   },
   {
    "duration": 16,
    "start_time": "2024-12-09T22:37:11.859Z"
   },
   {
    "duration": 36,
    "start_time": "2024-12-09T22:37:11.877Z"
   },
   {
    "duration": 58,
    "start_time": "2024-12-09T22:37:11.914Z"
   },
   {
    "duration": 12,
    "start_time": "2024-12-09T22:37:11.974Z"
   },
   {
    "duration": 29,
    "start_time": "2024-12-09T22:37:11.988Z"
   },
   {
    "duration": 7,
    "start_time": "2024-12-09T22:37:12.019Z"
   },
   {
    "duration": 30,
    "start_time": "2024-12-09T22:37:12.027Z"
   },
   {
    "duration": 9,
    "start_time": "2024-12-09T22:37:12.059Z"
   },
   {
    "duration": 45,
    "start_time": "2024-12-09T22:37:12.070Z"
   },
   {
    "duration": 7,
    "start_time": "2024-12-09T22:37:12.117Z"
   },
   {
    "duration": 53,
    "start_time": "2024-12-09T22:37:12.126Z"
   },
   {
    "duration": 31,
    "start_time": "2024-12-09T22:37:12.181Z"
   },
   {
    "duration": 7,
    "start_time": "2024-12-09T22:37:12.214Z"
   },
   {
    "duration": 18,
    "start_time": "2024-12-09T22:37:12.223Z"
   },
   {
    "duration": 18,
    "start_time": "2024-12-09T22:37:12.243Z"
   },
   {
    "duration": 13,
    "start_time": "2024-12-09T22:37:12.263Z"
   },
   {
    "duration": 44,
    "start_time": "2024-12-09T22:37:12.278Z"
   },
   {
    "duration": 24,
    "start_time": "2024-12-09T22:37:12.324Z"
   },
   {
    "duration": 29,
    "start_time": "2024-12-09T22:37:12.353Z"
   },
   {
    "duration": 55,
    "start_time": "2024-12-09T22:37:12.384Z"
   },
   {
    "duration": 319,
    "start_time": "2024-12-09T22:37:12.440Z"
   },
   {
    "duration": 173,
    "start_time": "2024-12-09T22:37:12.761Z"
   },
   {
    "duration": 9,
    "start_time": "2024-12-09T22:37:12.936Z"
   },
   {
    "duration": 217,
    "start_time": "2024-12-09T22:37:12.946Z"
   },
   {
    "duration": 7,
    "start_time": "2024-12-09T22:37:13.165Z"
   },
   {
    "duration": 6,
    "start_time": "2024-12-09T22:37:13.174Z"
   },
   {
    "duration": 6,
    "start_time": "2024-12-09T22:37:13.182Z"
   },
   {
    "duration": 23,
    "start_time": "2024-12-09T22:37:13.189Z"
   },
   {
    "duration": 6,
    "start_time": "2024-12-09T22:37:13.213Z"
   },
   {
    "duration": 5,
    "start_time": "2024-12-09T22:37:13.220Z"
   },
   {
    "duration": 6,
    "start_time": "2024-12-09T22:37:13.227Z"
   },
   {
    "duration": 3,
    "start_time": "2024-12-09T22:37:13.236Z"
   },
   {
    "duration": 8,
    "start_time": "2024-12-09T22:37:13.241Z"
   },
   {
    "duration": 790,
    "start_time": "2024-12-09T22:40:12.398Z"
   },
   {
    "duration": 160,
    "start_time": "2024-12-09T22:40:13.190Z"
   },
   {
    "duration": 9,
    "start_time": "2024-12-09T22:40:13.352Z"
   },
   {
    "duration": 9,
    "start_time": "2024-12-09T22:40:13.362Z"
   },
   {
    "duration": 7,
    "start_time": "2024-12-09T22:40:13.373Z"
   },
   {
    "duration": 9,
    "start_time": "2024-12-09T22:40:13.381Z"
   },
   {
    "duration": 27,
    "start_time": "2024-12-09T22:40:13.391Z"
   },
   {
    "duration": 9,
    "start_time": "2024-12-09T22:40:13.419Z"
   },
   {
    "duration": 12,
    "start_time": "2024-12-09T22:40:13.430Z"
   },
   {
    "duration": 15,
    "start_time": "2024-12-09T22:40:13.444Z"
   },
   {
    "duration": 7,
    "start_time": "2024-12-09T22:40:13.460Z"
   },
   {
    "duration": 85,
    "start_time": "2024-12-09T22:40:13.469Z"
   },
   {
    "duration": 12,
    "start_time": "2024-12-09T22:40:13.557Z"
   },
   {
    "duration": 11,
    "start_time": "2024-12-09T22:40:13.573Z"
   },
   {
    "duration": 6,
    "start_time": "2024-12-09T22:40:13.585Z"
   },
   {
    "duration": 28,
    "start_time": "2024-12-09T22:40:13.612Z"
   },
   {
    "duration": 9,
    "start_time": "2024-12-09T22:40:13.642Z"
   },
   {
    "duration": 14,
    "start_time": "2024-12-09T22:40:13.652Z"
   },
   {
    "duration": 7,
    "start_time": "2024-12-09T22:40:13.667Z"
   },
   {
    "duration": 84,
    "start_time": "2024-12-09T22:40:13.675Z"
   },
   {
    "duration": 13,
    "start_time": "2024-12-09T22:40:13.761Z"
   },
   {
    "duration": 7,
    "start_time": "2024-12-09T22:40:13.776Z"
   },
   {
    "duration": 39,
    "start_time": "2024-12-09T22:40:13.785Z"
   },
   {
    "duration": 19,
    "start_time": "2024-12-09T22:40:13.826Z"
   },
   {
    "duration": 12,
    "start_time": "2024-12-09T22:40:13.847Z"
   },
   {
    "duration": 14,
    "start_time": "2024-12-09T22:40:13.861Z"
   },
   {
    "duration": 49,
    "start_time": "2024-12-09T22:40:13.877Z"
   },
   {
    "duration": 27,
    "start_time": "2024-12-09T22:40:13.928Z"
   },
   {
    "duration": 33,
    "start_time": "2024-12-09T22:40:13.957Z"
   },
   {
    "duration": 338,
    "start_time": "2024-12-09T22:40:13.991Z"
   },
   {
    "duration": 223,
    "start_time": "2024-12-09T22:40:14.331Z"
   },
   {
    "duration": 10,
    "start_time": "2024-12-09T22:40:14.555Z"
   },
   {
    "duration": 228,
    "start_time": "2024-12-09T22:40:14.567Z"
   },
   {
    "duration": 8,
    "start_time": "2024-12-09T22:40:14.797Z"
   },
   {
    "duration": 8,
    "start_time": "2024-12-09T22:40:14.813Z"
   },
   {
    "duration": 6,
    "start_time": "2024-12-09T22:40:14.824Z"
   },
   {
    "duration": 2,
    "start_time": "2024-12-09T22:40:14.832Z"
   },
   {
    "duration": 6,
    "start_time": "2024-12-09T22:40:14.836Z"
   },
   {
    "duration": 5,
    "start_time": "2024-12-09T22:40:14.844Z"
   },
   {
    "duration": 9,
    "start_time": "2024-12-09T22:40:14.851Z"
   },
   {
    "duration": 6,
    "start_time": "2024-12-09T22:40:14.865Z"
   },
   {
    "duration": 49,
    "start_time": "2024-12-09T22:40:14.873Z"
   },
   {
    "duration": 260,
    "start_time": "2024-12-09T22:44:25.328Z"
   },
   {
    "duration": 62,
    "start_time": "2024-12-09T22:49:03.006Z"
   },
   {
    "duration": 189,
    "start_time": "2024-12-09T22:49:10.152Z"
   },
   {
    "duration": 69,
    "start_time": "2024-12-09T22:50:47.550Z"
   },
   {
    "duration": 5,
    "start_time": "2024-12-09T22:54:21.278Z"
   },
   {
    "duration": 12,
    "start_time": "2024-12-09T22:54:57.965Z"
   },
   {
    "duration": 275,
    "start_time": "2024-12-09T22:55:18.493Z"
   },
   {
    "duration": 69,
    "start_time": "2024-12-09T22:55:28.626Z"
   },
   {
    "duration": 9,
    "start_time": "2024-12-09T22:58:08.670Z"
   },
   {
    "duration": 6,
    "start_time": "2024-12-09T22:58:52.615Z"
   },
   {
    "duration": 7,
    "start_time": "2024-12-09T23:00:24.322Z"
   },
   {
    "duration": 80,
    "start_time": "2024-12-09T23:06:04.880Z"
   },
   {
    "duration": 64,
    "start_time": "2024-12-09T23:06:16.604Z"
   },
   {
    "duration": 201,
    "start_time": "2024-12-09T23:09:11.406Z"
   },
   {
    "duration": 166,
    "start_time": "2024-12-09T23:10:58.533Z"
   },
   {
    "duration": 75,
    "start_time": "2024-12-09T23:11:05.846Z"
   },
   {
    "duration": 244,
    "start_time": "2024-12-09T23:12:03.426Z"
   },
   {
    "duration": 7,
    "start_time": "2024-12-09T23:22:24.108Z"
   },
   {
    "duration": 9,
    "start_time": "2024-12-10T00:25:59.977Z"
   },
   {
    "duration": 8,
    "start_time": "2024-12-10T00:26:26.380Z"
   },
   {
    "duration": 21,
    "start_time": "2024-12-10T00:31:59.991Z"
   },
   {
    "duration": 8,
    "start_time": "2024-12-10T00:32:17.706Z"
   },
   {
    "duration": 11,
    "start_time": "2024-12-10T00:33:08.939Z"
   },
   {
    "duration": 9,
    "start_time": "2024-12-10T00:33:27.188Z"
   },
   {
    "duration": 9,
    "start_time": "2024-12-10T00:35:35.273Z"
   },
   {
    "duration": 7,
    "start_time": "2024-12-10T00:51:32.441Z"
   },
   {
    "duration": 7,
    "start_time": "2024-12-10T00:52:52.489Z"
   },
   {
    "duration": 7,
    "start_time": "2024-12-10T00:56:24.086Z"
   },
   {
    "duration": 7,
    "start_time": "2024-12-10T00:56:56.416Z"
   },
   {
    "duration": 6,
    "start_time": "2024-12-10T00:57:24.822Z"
   },
   {
    "duration": 7,
    "start_time": "2024-12-10T01:01:57.799Z"
   },
   {
    "duration": 7,
    "start_time": "2024-12-10T01:08:45.830Z"
   },
   {
    "duration": 7,
    "start_time": "2024-12-10T01:09:20.934Z"
   },
   {
    "duration": 7,
    "start_time": "2024-12-10T01:09:38.008Z"
   },
   {
    "duration": 6,
    "start_time": "2024-12-10T01:11:01.595Z"
   },
   {
    "duration": 13,
    "start_time": "2024-12-10T01:14:04.929Z"
   },
   {
    "duration": 9,
    "start_time": "2024-12-10T01:15:39.958Z"
   },
   {
    "duration": 169,
    "start_time": "2024-12-10T03:01:01.061Z"
   },
   {
    "duration": 7,
    "start_time": "2024-12-10T03:55:46.684Z"
   },
   {
    "duration": 7,
    "start_time": "2024-12-10T04:00:14.619Z"
   },
   {
    "duration": 7,
    "start_time": "2024-12-10T04:00:18.691Z"
   },
   {
    "duration": 6,
    "start_time": "2024-12-10T04:01:23.729Z"
   },
   {
    "duration": 7,
    "start_time": "2024-12-10T04:01:26.229Z"
   },
   {
    "duration": 7,
    "start_time": "2024-12-10T04:03:00.280Z"
   },
   {
    "duration": 7,
    "start_time": "2024-12-10T04:06:45.449Z"
   },
   {
    "duration": 7,
    "start_time": "2024-12-10T04:09:52.034Z"
   },
   {
    "duration": 7,
    "start_time": "2024-12-10T04:13:26.131Z"
   },
   {
    "duration": 4,
    "start_time": "2024-12-10T04:13:42.458Z"
   },
   {
    "duration": 779,
    "start_time": "2024-12-10T15:25:02.214Z"
   },
   {
    "duration": 154,
    "start_time": "2024-12-10T15:25:02.995Z"
   },
   {
    "duration": 9,
    "start_time": "2024-12-10T15:25:03.151Z"
   },
   {
    "duration": 9,
    "start_time": "2024-12-10T15:25:03.161Z"
   },
   {
    "duration": 7,
    "start_time": "2024-12-10T15:25:03.172Z"
   },
   {
    "duration": 10,
    "start_time": "2024-12-10T15:25:03.181Z"
   },
   {
    "duration": 31,
    "start_time": "2024-12-10T15:25:03.192Z"
   },
   {
    "duration": 9,
    "start_time": "2024-12-10T15:25:03.226Z"
   },
   {
    "duration": 13,
    "start_time": "2024-12-10T15:25:03.236Z"
   },
   {
    "duration": 15,
    "start_time": "2024-12-10T15:25:03.251Z"
   },
   {
    "duration": 6,
    "start_time": "2024-12-10T15:25:03.268Z"
   },
   {
    "duration": 86,
    "start_time": "2024-12-10T15:25:03.276Z"
   },
   {
    "duration": 12,
    "start_time": "2024-12-10T15:25:03.364Z"
   },
   {
    "duration": 11,
    "start_time": "2024-12-10T15:25:03.379Z"
   },
   {
    "duration": 6,
    "start_time": "2024-12-10T15:25:03.392Z"
   },
   {
    "duration": 29,
    "start_time": "2024-12-10T15:25:03.423Z"
   },
   {
    "duration": 9,
    "start_time": "2024-12-10T15:25:03.454Z"
   },
   {
    "duration": 13,
    "start_time": "2024-12-10T15:25:03.464Z"
   },
   {
    "duration": 8,
    "start_time": "2024-12-10T15:25:03.479Z"
   },
   {
    "duration": 76,
    "start_time": "2024-12-10T15:25:03.488Z"
   },
   {
    "duration": 11,
    "start_time": "2024-12-10T15:25:03.566Z"
   },
   {
    "duration": 6,
    "start_time": "2024-12-10T15:25:03.579Z"
   },
   {
    "duration": 18,
    "start_time": "2024-12-10T15:25:03.586Z"
   },
   {
    "duration": 19,
    "start_time": "2024-12-10T15:25:03.624Z"
   },
   {
    "duration": 13,
    "start_time": "2024-12-10T15:25:03.645Z"
   },
   {
    "duration": 13,
    "start_time": "2024-12-10T15:25:03.660Z"
   },
   {
    "duration": 19,
    "start_time": "2024-12-10T15:25:03.674Z"
   },
   {
    "duration": 56,
    "start_time": "2024-12-10T15:25:03.694Z"
   },
   {
    "duration": 34,
    "start_time": "2024-12-10T15:25:03.752Z"
   },
   {
    "duration": 103,
    "start_time": "2024-12-10T15:25:03.787Z"
   },
   {
    "duration": 216,
    "start_time": "2024-12-10T15:25:03.892Z"
   },
   {
    "duration": 233,
    "start_time": "2024-12-10T15:25:04.110Z"
   },
   {
    "duration": 9,
    "start_time": "2024-12-10T15:25:04.345Z"
   },
   {
    "duration": 205,
    "start_time": "2024-12-10T15:25:04.356Z"
   },
   {
    "duration": 8,
    "start_time": "2024-12-10T15:25:04.563Z"
   },
   {
    "duration": 6,
    "start_time": "2024-12-10T15:25:04.573Z"
   },
   {
    "duration": 6,
    "start_time": "2024-12-10T15:25:04.580Z"
   },
   {
    "duration": 7,
    "start_time": "2024-12-10T15:25:04.588Z"
   },
   {
    "duration": 30,
    "start_time": "2024-12-10T15:25:04.597Z"
   },
   {
    "duration": 225,
    "start_time": "2024-12-10T15:25:04.629Z"
   },
   {
    "duration": 0,
    "start_time": "2024-12-10T15:25:04.856Z"
   },
   {
    "duration": 0,
    "start_time": "2024-12-10T15:25:04.858Z"
   },
   {
    "duration": 0,
    "start_time": "2024-12-10T15:25:04.859Z"
   },
   {
    "duration": 0,
    "start_time": "2024-12-10T15:25:04.860Z"
   },
   {
    "duration": 0,
    "start_time": "2024-12-10T15:25:04.861Z"
   },
   {
    "duration": 0,
    "start_time": "2024-12-10T15:25:04.862Z"
   },
   {
    "duration": 0,
    "start_time": "2024-12-10T15:25:04.863Z"
   },
   {
    "duration": 6,
    "start_time": "2024-12-10T15:25:23.544Z"
   },
   {
    "duration": 6,
    "start_time": "2024-12-10T15:26:04.714Z"
   },
   {
    "duration": 6,
    "start_time": "2024-12-10T15:26:05.625Z"
   },
   {
    "duration": 8,
    "start_time": "2024-12-10T15:26:08.327Z"
   },
   {
    "duration": 5,
    "start_time": "2024-12-10T15:26:13.945Z"
   },
   {
    "duration": 6,
    "start_time": "2024-12-10T15:26:15.902Z"
   },
   {
    "duration": 4,
    "start_time": "2024-12-10T15:26:17.751Z"
   },
   {
    "duration": 17,
    "start_time": "2024-12-10T16:17:09.380Z"
   },
   {
    "duration": 4,
    "start_time": "2024-12-10T16:18:24.937Z"
   },
   {
    "duration": 7,
    "start_time": "2024-12-10T16:18:41.823Z"
   },
   {
    "duration": 162,
    "start_time": "2024-12-11T00:21:24.577Z"
   },
   {
    "duration": 12,
    "start_time": "2024-12-11T00:21:36.912Z"
   },
   {
    "duration": 2578,
    "start_time": "2024-12-11T00:21:58.337Z"
   },
   {
    "duration": 216,
    "start_time": "2024-12-11T00:22:00.917Z"
   },
   {
    "duration": 11,
    "start_time": "2024-12-11T00:22:01.135Z"
   },
   {
    "duration": 13,
    "start_time": "2024-12-11T00:22:01.149Z"
   },
   {
    "duration": 9,
    "start_time": "2024-12-11T00:22:01.164Z"
   },
   {
    "duration": 11,
    "start_time": "2024-12-11T00:22:01.175Z"
   },
   {
    "duration": 11,
    "start_time": "2024-12-11T00:22:01.187Z"
   },
   {
    "duration": 11,
    "start_time": "2024-12-11T00:22:01.199Z"
   },
   {
    "duration": 14,
    "start_time": "2024-12-11T00:22:01.244Z"
   },
   {
    "duration": 18,
    "start_time": "2024-12-11T00:22:01.262Z"
   },
   {
    "duration": 7,
    "start_time": "2024-12-11T00:22:01.281Z"
   },
   {
    "duration": 75,
    "start_time": "2024-12-11T00:22:01.290Z"
   },
   {
    "duration": 20,
    "start_time": "2024-12-11T00:22:01.367Z"
   },
   {
    "duration": 12,
    "start_time": "2024-12-11T00:22:01.389Z"
   },
   {
    "duration": 6,
    "start_time": "2024-12-11T00:22:01.402Z"
   },
   {
    "duration": 53,
    "start_time": "2024-12-11T00:22:01.410Z"
   },
   {
    "duration": 10,
    "start_time": "2024-12-11T00:22:01.464Z"
   },
   {
    "duration": 14,
    "start_time": "2024-12-11T00:22:01.475Z"
   },
   {
    "duration": 8,
    "start_time": "2024-12-11T00:22:01.490Z"
   },
   {
    "duration": 77,
    "start_time": "2024-12-11T00:22:01.499Z"
   },
   {
    "duration": 11,
    "start_time": "2024-12-11T00:22:01.578Z"
   },
   {
    "duration": 6,
    "start_time": "2024-12-11T00:22:01.591Z"
   },
   {
    "duration": 18,
    "start_time": "2024-12-11T00:22:01.599Z"
   },
   {
    "duration": 18,
    "start_time": "2024-12-11T00:22:01.643Z"
   },
   {
    "duration": 13,
    "start_time": "2024-12-11T00:22:01.663Z"
   },
   {
    "duration": 13,
    "start_time": "2024-12-11T00:22:01.678Z"
   },
   {
    "duration": 20,
    "start_time": "2024-12-11T00:22:01.693Z"
   },
   {
    "duration": 28,
    "start_time": "2024-12-11T00:22:01.742Z"
   },
   {
    "duration": 33,
    "start_time": "2024-12-11T00:22:01.771Z"
   },
   {
    "duration": 100,
    "start_time": "2024-12-11T00:22:01.806Z"
   },
   {
    "duration": 219,
    "start_time": "2024-12-11T00:22:01.908Z"
   },
   {
    "duration": 197,
    "start_time": "2024-12-11T00:22:02.129Z"
   },
   {
    "duration": 15,
    "start_time": "2024-12-11T00:22:02.328Z"
   },
   {
    "duration": 215,
    "start_time": "2024-12-11T00:22:02.345Z"
   },
   {
    "duration": 8,
    "start_time": "2024-12-11T00:22:02.562Z"
   },
   {
    "duration": 7,
    "start_time": "2024-12-11T00:22:02.573Z"
   },
   {
    "duration": 7,
    "start_time": "2024-12-11T00:22:02.582Z"
   },
   {
    "duration": 8,
    "start_time": "2024-12-11T00:22:02.590Z"
   },
   {
    "duration": 5,
    "start_time": "2024-12-11T00:22:02.599Z"
   },
   {
    "duration": 43,
    "start_time": "2024-12-11T00:22:02.606Z"
   },
   {
    "duration": 291,
    "start_time": "2024-12-11T00:22:02.651Z"
   },
   {
    "duration": 0,
    "start_time": "2024-12-11T00:22:02.944Z"
   },
   {
    "duration": 0,
    "start_time": "2024-12-11T00:22:02.945Z"
   },
   {
    "duration": 0,
    "start_time": "2024-12-11T00:22:02.946Z"
   },
   {
    "duration": 0,
    "start_time": "2024-12-11T00:22:02.948Z"
   },
   {
    "duration": 0,
    "start_time": "2024-12-11T00:22:02.949Z"
   },
   {
    "duration": 0,
    "start_time": "2024-12-11T00:22:02.950Z"
   },
   {
    "duration": 14,
    "start_time": "2024-12-11T00:22:41.923Z"
   },
   {
    "duration": 18,
    "start_time": "2024-12-11T00:23:24.592Z"
   },
   {
    "duration": 19,
    "start_time": "2024-12-11T00:23:49.383Z"
   },
   {
    "duration": 6,
    "start_time": "2024-12-11T00:26:11.055Z"
   },
   {
    "duration": 24,
    "start_time": "2024-12-11T00:26:37.809Z"
   },
   {
    "duration": 36,
    "start_time": "2024-12-11T00:26:48.864Z"
   },
   {
    "duration": 13,
    "start_time": "2024-12-11T00:28:53.808Z"
   },
   {
    "duration": 15,
    "start_time": "2024-12-11T00:29:11.150Z"
   },
   {
    "duration": 31,
    "start_time": "2024-12-11T00:34:10.033Z"
   },
   {
    "duration": 31,
    "start_time": "2024-12-11T00:34:37.366Z"
   },
   {
    "duration": 51,
    "start_time": "2024-12-11T00:37:37.691Z"
   },
   {
    "duration": 13,
    "start_time": "2024-12-11T00:43:15.044Z"
   },
   {
    "duration": 29,
    "start_time": "2024-12-11T00:45:52.794Z"
   },
   {
    "duration": 47,
    "start_time": "2024-12-11T00:48:21.686Z"
   },
   {
    "duration": 443,
    "start_time": "2024-12-11T01:02:00.839Z"
   },
   {
    "duration": 4,
    "start_time": "2024-12-11T01:02:29.034Z"
   },
   {
    "duration": 29,
    "start_time": "2024-12-11T01:02:40.151Z"
   },
   {
    "duration": 4,
    "start_time": "2024-12-11T01:04:37.078Z"
   },
   {
    "duration": 35,
    "start_time": "2024-12-11T01:04:43.731Z"
   },
   {
    "duration": 44,
    "start_time": "2024-12-11T01:10:39.630Z"
   },
   {
    "duration": 853,
    "start_time": "2024-12-11T01:11:10.807Z"
   },
   {
    "duration": 159,
    "start_time": "2024-12-11T01:11:11.662Z"
   },
   {
    "duration": 9,
    "start_time": "2024-12-11T01:11:11.823Z"
   },
   {
    "duration": 9,
    "start_time": "2024-12-11T01:11:11.835Z"
   },
   {
    "duration": 8,
    "start_time": "2024-12-11T01:11:11.846Z"
   },
   {
    "duration": 10,
    "start_time": "2024-12-11T01:11:11.856Z"
   },
   {
    "duration": 9,
    "start_time": "2024-12-11T01:11:11.868Z"
   },
   {
    "duration": 9,
    "start_time": "2024-12-11T01:11:11.878Z"
   },
   {
    "duration": 13,
    "start_time": "2024-12-11T01:11:11.888Z"
   },
   {
    "duration": 15,
    "start_time": "2024-12-11T01:11:11.943Z"
   },
   {
    "duration": 45,
    "start_time": "2024-12-11T01:11:11.960Z"
   },
   {
    "duration": 82,
    "start_time": "2024-12-11T01:11:12.006Z"
   },
   {
    "duration": 16,
    "start_time": "2024-12-11T01:11:12.090Z"
   },
   {
    "duration": 35,
    "start_time": "2024-12-11T01:11:12.107Z"
   },
   {
    "duration": 8,
    "start_time": "2024-12-11T01:11:12.144Z"
   },
   {
    "duration": 34,
    "start_time": "2024-12-11T01:11:12.154Z"
   },
   {
    "duration": 9,
    "start_time": "2024-12-11T01:11:12.190Z"
   },
   {
    "duration": 15,
    "start_time": "2024-12-11T01:11:12.201Z"
   },
   {
    "duration": 8,
    "start_time": "2024-12-11T01:11:12.243Z"
   },
   {
    "duration": 60,
    "start_time": "2024-12-11T01:11:12.253Z"
   },
   {
    "duration": 28,
    "start_time": "2024-12-11T01:11:12.315Z"
   },
   {
    "duration": 8,
    "start_time": "2024-12-11T01:11:12.345Z"
   },
   {
    "duration": 18,
    "start_time": "2024-12-11T01:11:12.355Z"
   },
   {
    "duration": 18,
    "start_time": "2024-12-11T01:11:12.374Z"
   },
   {
    "duration": 12,
    "start_time": "2024-12-11T01:11:12.393Z"
   },
   {
    "duration": 41,
    "start_time": "2024-12-11T01:11:12.407Z"
   },
   {
    "duration": 19,
    "start_time": "2024-12-11T01:11:12.450Z"
   },
   {
    "duration": 4,
    "start_time": "2024-12-11T01:11:12.474Z"
   },
   {
    "duration": 28,
    "start_time": "2024-12-11T01:11:12.480Z"
   },
   {
    "duration": 58,
    "start_time": "2024-12-11T01:11:12.509Z"
   },
   {
    "duration": 93,
    "start_time": "2024-12-11T01:11:12.568Z"
   },
   {
    "duration": 216,
    "start_time": "2024-12-11T01:11:12.662Z"
   },
   {
    "duration": 191,
    "start_time": "2024-12-11T01:11:12.880Z"
   },
   {
    "duration": 10,
    "start_time": "2024-12-11T01:11:13.073Z"
   },
   {
    "duration": 275,
    "start_time": "2024-12-11T01:11:13.085Z"
   },
   {
    "duration": 10,
    "start_time": "2024-12-11T01:11:13.362Z"
   },
   {
    "duration": 6,
    "start_time": "2024-12-11T01:11:13.374Z"
   },
   {
    "duration": 5,
    "start_time": "2024-12-11T01:11:13.382Z"
   },
   {
    "duration": 13,
    "start_time": "2024-12-11T01:11:13.389Z"
   },
   {
    "duration": 6,
    "start_time": "2024-12-11T01:11:13.403Z"
   },
   {
    "duration": 33,
    "start_time": "2024-12-11T01:11:13.411Z"
   },
   {
    "duration": 232,
    "start_time": "2024-12-11T01:11:13.446Z"
   },
   {
    "duration": 0,
    "start_time": "2024-12-11T01:11:13.680Z"
   },
   {
    "duration": 0,
    "start_time": "2024-12-11T01:11:13.681Z"
   },
   {
    "duration": 0,
    "start_time": "2024-12-11T01:11:13.683Z"
   },
   {
    "duration": 0,
    "start_time": "2024-12-11T01:11:13.684Z"
   },
   {
    "duration": 0,
    "start_time": "2024-12-11T01:11:13.685Z"
   },
   {
    "duration": 0,
    "start_time": "2024-12-11T01:11:13.687Z"
   },
   {
    "duration": 169,
    "start_time": "2024-12-11T01:17:40.050Z"
   },
   {
    "duration": 175,
    "start_time": "2024-12-11T01:19:56.342Z"
   },
   {
    "duration": 167,
    "start_time": "2024-12-11T01:20:27.550Z"
   },
   {
    "duration": 19,
    "start_time": "2024-12-11T01:23:43.809Z"
   },
   {
    "duration": 7,
    "start_time": "2024-12-11T01:24:01.772Z"
   },
   {
    "duration": 178,
    "start_time": "2024-12-11T01:26:08.508Z"
   },
   {
    "duration": 192,
    "start_time": "2024-12-11T01:28:30.388Z"
   },
   {
    "duration": 6,
    "start_time": "2024-12-11T01:30:04.642Z"
   },
   {
    "duration": 6,
    "start_time": "2024-12-11T01:30:19.311Z"
   },
   {
    "duration": 7,
    "start_time": "2024-12-11T01:30:37.563Z"
   },
   {
    "duration": 5,
    "start_time": "2024-12-11T01:58:02.584Z"
   },
   {
    "duration": 4,
    "start_time": "2024-12-11T01:58:37.545Z"
   },
   {
    "duration": 9,
    "start_time": "2024-12-11T01:59:27.523Z"
   },
   {
    "duration": 277,
    "start_time": "2024-12-11T01:59:32.838Z"
   },
   {
    "duration": 9,
    "start_time": "2024-12-11T02:01:38.712Z"
   },
   {
    "duration": 11,
    "start_time": "2024-12-11T02:05:06.144Z"
   },
   {
    "duration": 11,
    "start_time": "2024-12-11T02:06:10.754Z"
   },
   {
    "duration": 217,
    "start_time": "2024-12-11T02:07:46.704Z"
   },
   {
    "duration": 9,
    "start_time": "2024-12-11T02:08:03.963Z"
   },
   {
    "duration": 7,
    "start_time": "2024-12-11T02:08:34.187Z"
   },
   {
    "duration": 7,
    "start_time": "2024-12-11T02:09:52.236Z"
   },
   {
    "duration": 6,
    "start_time": "2024-12-11T02:23:29.188Z"
   },
   {
    "duration": 6,
    "start_time": "2024-12-11T02:23:34.313Z"
   },
   {
    "duration": 8,
    "start_time": "2024-12-11T02:23:42.569Z"
   },
   {
    "duration": 5,
    "start_time": "2024-12-11T02:23:48.172Z"
   },
   {
    "duration": 7,
    "start_time": "2024-12-11T02:25:05.926Z"
   },
   {
    "duration": 4,
    "start_time": "2024-12-11T02:25:11.163Z"
   },
   {
    "duration": 832,
    "start_time": "2024-12-11T02:25:21.710Z"
   },
   {
    "duration": 158,
    "start_time": "2024-12-11T02:25:22.544Z"
   },
   {
    "duration": 11,
    "start_time": "2024-12-11T02:25:22.703Z"
   },
   {
    "duration": 9,
    "start_time": "2024-12-11T02:25:22.717Z"
   },
   {
    "duration": 16,
    "start_time": "2024-12-11T02:25:22.727Z"
   },
   {
    "duration": 10,
    "start_time": "2024-12-11T02:25:22.745Z"
   },
   {
    "duration": 8,
    "start_time": "2024-12-11T02:25:22.757Z"
   },
   {
    "duration": 9,
    "start_time": "2024-12-11T02:25:22.766Z"
   },
   {
    "duration": 13,
    "start_time": "2024-12-11T02:25:22.776Z"
   },
   {
    "duration": 15,
    "start_time": "2024-12-11T02:25:22.792Z"
   },
   {
    "duration": 46,
    "start_time": "2024-12-11T02:25:22.842Z"
   },
   {
    "duration": 83,
    "start_time": "2024-12-11T02:25:22.890Z"
   },
   {
    "duration": 13,
    "start_time": "2024-12-11T02:25:22.976Z"
   },
   {
    "duration": 12,
    "start_time": "2024-12-11T02:25:22.990Z"
   },
   {
    "duration": 7,
    "start_time": "2024-12-11T02:25:23.004Z"
   },
   {
    "duration": 57,
    "start_time": "2024-12-11T02:25:23.013Z"
   },
   {
    "duration": 10,
    "start_time": "2024-12-11T02:25:23.071Z"
   },
   {
    "duration": 14,
    "start_time": "2024-12-11T02:25:23.082Z"
   },
   {
    "duration": 7,
    "start_time": "2024-12-11T02:25:23.097Z"
   },
   {
    "duration": 88,
    "start_time": "2024-12-11T02:25:23.106Z"
   },
   {
    "duration": 11,
    "start_time": "2024-12-11T02:25:23.196Z"
   },
   {
    "duration": 6,
    "start_time": "2024-12-11T02:25:23.209Z"
   },
   {
    "duration": 40,
    "start_time": "2024-12-11T02:25:23.217Z"
   },
   {
    "duration": 19,
    "start_time": "2024-12-11T02:25:23.260Z"
   },
   {
    "duration": 13,
    "start_time": "2024-12-11T02:25:23.280Z"
   },
   {
    "duration": 14,
    "start_time": "2024-12-11T02:25:23.294Z"
   },
   {
    "duration": 44,
    "start_time": "2024-12-11T02:25:23.309Z"
   },
   {
    "duration": 5,
    "start_time": "2024-12-11T02:25:23.357Z"
   },
   {
    "duration": 27,
    "start_time": "2024-12-11T02:25:23.364Z"
   },
   {
    "duration": 63,
    "start_time": "2024-12-11T02:25:23.393Z"
   },
   {
    "duration": 93,
    "start_time": "2024-12-11T02:25:23.458Z"
   },
   {
    "duration": 4,
    "start_time": "2024-12-11T02:25:23.553Z"
   },
   {
    "duration": 224,
    "start_time": "2024-12-11T02:25:23.559Z"
   },
   {
    "duration": 185,
    "start_time": "2024-12-11T02:25:23.787Z"
   },
   {
    "duration": 11,
    "start_time": "2024-12-11T02:25:23.974Z"
   },
   {
    "duration": 265,
    "start_time": "2024-12-11T02:25:23.987Z"
   },
   {
    "duration": 9,
    "start_time": "2024-12-11T02:25:24.254Z"
   },
   {
    "duration": 6,
    "start_time": "2024-12-11T02:25:24.265Z"
   },
   {
    "duration": 6,
    "start_time": "2024-12-11T02:25:24.272Z"
   },
   {
    "duration": 194,
    "start_time": "2024-12-11T02:25:24.279Z"
   },
   {
    "duration": 10,
    "start_time": "2024-12-11T02:25:24.474Z"
   },
   {
    "duration": 6,
    "start_time": "2024-12-11T02:25:24.486Z"
   },
   {
    "duration": 7,
    "start_time": "2024-12-11T02:25:24.494Z"
   },
   {
    "duration": 8,
    "start_time": "2024-12-11T02:25:24.503Z"
   },
   {
    "duration": 206,
    "start_time": "2024-12-11T02:25:24.513Z"
   },
   {
    "duration": 6,
    "start_time": "2024-12-11T02:25:24.721Z"
   },
   {
    "duration": 18,
    "start_time": "2024-12-11T02:25:24.729Z"
   },
   {
    "duration": 8,
    "start_time": "2024-12-11T02:25:24.748Z"
   },
   {
    "duration": 4,
    "start_time": "2024-12-11T02:25:24.760Z"
   },
   {
    "duration": 7,
    "start_time": "2024-12-11T02:25:24.765Z"
   },
   {
    "duration": 4,
    "start_time": "2024-12-11T02:25:24.774Z"
   },
   {
    "duration": 5,
    "start_time": "2024-12-11T02:31:11.303Z"
   },
   {
    "duration": 6,
    "start_time": "2024-12-11T02:32:36.991Z"
   },
   {
    "duration": 8,
    "start_time": "2024-12-11T02:33:24.550Z"
   },
   {
    "duration": 7,
    "start_time": "2024-12-11T02:33:32.848Z"
   },
   {
    "duration": 8,
    "start_time": "2024-12-11T02:40:50.027Z"
   },
   {
    "duration": 8,
    "start_time": "2024-12-11T02:41:18.464Z"
   },
   {
    "duration": 4,
    "start_time": "2024-12-11T02:45:19.149Z"
   },
   {
    "duration": 6,
    "start_time": "2024-12-11T02:45:46.467Z"
   },
   {
    "duration": 5,
    "start_time": "2024-12-11T02:46:23.750Z"
   },
   {
    "duration": 6,
    "start_time": "2024-12-11T02:47:07.541Z"
   },
   {
    "duration": 7,
    "start_time": "2024-12-11T02:47:30.963Z"
   },
   {
    "duration": 5,
    "start_time": "2024-12-11T02:48:17.836Z"
   },
   {
    "duration": 7,
    "start_time": "2024-12-11T02:48:34.459Z"
   },
   {
    "duration": 6,
    "start_time": "2024-12-11T02:52:10.200Z"
   },
   {
    "duration": 7,
    "start_time": "2024-12-11T02:52:16.165Z"
   },
   {
    "duration": 6,
    "start_time": "2024-12-11T02:52:36.487Z"
   },
   {
    "duration": 4,
    "start_time": "2024-12-11T02:53:55.237Z"
   },
   {
    "duration": 8,
    "start_time": "2024-12-11T02:54:42.954Z"
   },
   {
    "duration": 7,
    "start_time": "2024-12-11T02:54:55.560Z"
   },
   {
    "duration": 642,
    "start_time": "2024-12-11T03:02:52.833Z"
   },
   {
    "duration": 31,
    "start_time": "2024-12-11T03:03:03.515Z"
   }
  ],
  "colab": {
   "provenance": []
  },
  "kernelspec": {
   "display_name": "Python 3 (ipykernel)",
   "language": "python",
   "name": "python3"
  },
  "language_info": {
   "codemirror_mode": {
    "name": "ipython",
    "version": 3
   },
   "file_extension": ".py",
   "mimetype": "text/x-python",
   "name": "python",
   "nbconvert_exporter": "python",
   "pygments_lexer": "ipython3",
   "version": "3.9.19"
  },
  "toc": {
   "base_numbering": 1,
   "nav_menu": {
    "height": "602px",
    "width": "646.104px"
   },
   "number_sections": true,
   "sideBar": true,
   "skip_h1_title": false,
   "title_cell": "Table of Contents",
   "title_sidebar": "Contents",
   "toc_cell": false,
   "toc_position": {},
   "toc_section_display": true,
   "toc_window_display": false
  }
 },
 "nbformat": 4,
 "nbformat_minor": 1
}
